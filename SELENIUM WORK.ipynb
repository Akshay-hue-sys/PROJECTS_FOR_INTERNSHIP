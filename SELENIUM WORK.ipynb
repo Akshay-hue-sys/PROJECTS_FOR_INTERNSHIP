{
 "cells": [
  {
   "cell_type": "markdown",
   "metadata": {},
   "source": [
    "# ANSWER TO QUESTION 1 OF WEB SCRAPING ASSIGNMENT 2:-"
   ]
  },
  {
   "cell_type": "code",
   "execution_count": 1,
   "metadata": {},
   "outputs": [],
   "source": [
    "import selenium\n",
    "import pandas as pd\n",
    "from selenium import webdriver\n",
    "import time\n",
    "from selenium.common.exceptions import NoSuchElementException\n",
    "from selenium.common.exceptions import StaleElementReferenceException"
   ]
  },
  {
   "cell_type": "markdown",
   "metadata": {},
   "source": [
    "IMPORTED THE NECESSARY LIBRARIES FOR WEB SCRAPING."
   ]
  },
  {
   "cell_type": "code",
   "execution_count": 21,
   "metadata": {},
   "outputs": [],
   "source": [
    "driver = webdriver.Chrome('chromedriver.exe')"
   ]
  },
  {
   "cell_type": "markdown",
   "metadata": {},
   "source": [
    "CREATING driver"
   ]
  },
  {
   "cell_type": "code",
   "execution_count": 22,
   "metadata": {},
   "outputs": [],
   "source": [
    "url = 'https://www.naukri.com/'\n",
    "driver.get(url)\n",
    "time.sleep(5)"
   ]
  },
  {
   "cell_type": "markdown",
   "metadata": {},
   "source": [
    "getting url"
   ]
  },
  {
   "cell_type": "code",
   "execution_count": 23,
   "metadata": {},
   "outputs": [],
   "source": [
    "#job search bar\n",
    "search_job = driver.find_element_by_xpath(\"//input[@class='sugInp']\")\n",
    "search_job.send_keys(\"Data Analyst\")"
   ]
  },
  {
   "cell_type": "markdown",
   "metadata": {},
   "source": [
    "writing on the website using code."
   ]
  },
  {
   "cell_type": "code",
   "execution_count": 24,
   "metadata": {},
   "outputs": [],
   "source": [
    "#location search bar\n",
    "search_loc = driver.find_element_by_xpath(\"//input[@id='qsb-location-sugg']\")\n",
    "search_loc.send_keys('Bangalore')"
   ]
  },
  {
   "cell_type": "markdown",
   "metadata": {},
   "source": [
    "writing on the website using code."
   ]
  },
  {
   "cell_type": "code",
   "execution_count": 25,
   "metadata": {},
   "outputs": [],
   "source": [
    "#button click search\n",
    "search_button = driver.find_element_by_xpath(\"//button[@class='btn']\")\n",
    "search_button.click()\n",
    "time.sleep(5)"
   ]
  },
  {
   "cell_type": "markdown",
   "metadata": {},
   "source": [
    "clicking the search button using selenium."
   ]
  },
  {
   "cell_type": "code",
   "execution_count": 26,
   "metadata": {},
   "outputs": [
    {
     "data": {
      "text/plain": [
       "[<selenium.webdriver.remote.webelement.WebElement (session=\"54052e0a5c78c048270fec35934a10a1\", element=\"4a149122-e547-4994-84cc-2d0cc99aa94b\")>,\n",
       " <selenium.webdriver.remote.webelement.WebElement (session=\"54052e0a5c78c048270fec35934a10a1\", element=\"5eee0073-7478-4bc9-83d7-c9e0b426d99a\")>,\n",
       " <selenium.webdriver.remote.webelement.WebElement (session=\"54052e0a5c78c048270fec35934a10a1\", element=\"368153a1-8c68-4cd8-8b3e-351d46e07f45\")>,\n",
       " <selenium.webdriver.remote.webelement.WebElement (session=\"54052e0a5c78c048270fec35934a10a1\", element=\"5a5399ab-68e0-42a4-8ba5-6b2532a984a5\")>,\n",
       " <selenium.webdriver.remote.webelement.WebElement (session=\"54052e0a5c78c048270fec35934a10a1\", element=\"2d6a00ff-6ff2-49a5-bcaf-089e865763d0\")>,\n",
       " <selenium.webdriver.remote.webelement.WebElement (session=\"54052e0a5c78c048270fec35934a10a1\", element=\"642d35a8-91f6-49f8-9353-cfc6bd827b5e\")>,\n",
       " <selenium.webdriver.remote.webelement.WebElement (session=\"54052e0a5c78c048270fec35934a10a1\", element=\"2b35c166-5f1c-4773-837d-b481f7a318c3\")>,\n",
       " <selenium.webdriver.remote.webelement.WebElement (session=\"54052e0a5c78c048270fec35934a10a1\", element=\"b99ea9a3-e56f-4484-b944-0b160c6b9d01\")>,\n",
       " <selenium.webdriver.remote.webelement.WebElement (session=\"54052e0a5c78c048270fec35934a10a1\", element=\"6216748f-e7bd-48a2-8ddc-25b7d6782865\")>,\n",
       " <selenium.webdriver.remote.webelement.WebElement (session=\"54052e0a5c78c048270fec35934a10a1\", element=\"35c2dd91-2685-413d-b406-76f0a0681629\")>,\n",
       " <selenium.webdriver.remote.webelement.WebElement (session=\"54052e0a5c78c048270fec35934a10a1\", element=\"6a7c2a5b-8fe6-494f-a8c9-2aa8b94fff8c\")>,\n",
       " <selenium.webdriver.remote.webelement.WebElement (session=\"54052e0a5c78c048270fec35934a10a1\", element=\"48c14d5f-0ebe-460c-8f72-d27c8bbc7642\")>,\n",
       " <selenium.webdriver.remote.webelement.WebElement (session=\"54052e0a5c78c048270fec35934a10a1\", element=\"493e66ae-142e-45f3-9b3f-0f6775c042a3\")>,\n",
       " <selenium.webdriver.remote.webelement.WebElement (session=\"54052e0a5c78c048270fec35934a10a1\", element=\"4c16cb90-9e2a-4375-ba3e-46b7501d1330\")>,\n",
       " <selenium.webdriver.remote.webelement.WebElement (session=\"54052e0a5c78c048270fec35934a10a1\", element=\"1db8e028-2402-4296-9d89-0ca96824ee8f\")>,\n",
       " <selenium.webdriver.remote.webelement.WebElement (session=\"54052e0a5c78c048270fec35934a10a1\", element=\"fe5b2bf6-a649-4308-9cd3-b9af0727cc42\")>,\n",
       " <selenium.webdriver.remote.webelement.WebElement (session=\"54052e0a5c78c048270fec35934a10a1\", element=\"4742db43-d24c-4a8c-9a49-dadb394e153a\")>,\n",
       " <selenium.webdriver.remote.webelement.WebElement (session=\"54052e0a5c78c048270fec35934a10a1\", element=\"968890aa-23ed-47c2-8ac6-bfb0f1cfb561\")>,\n",
       " <selenium.webdriver.remote.webelement.WebElement (session=\"54052e0a5c78c048270fec35934a10a1\", element=\"f06e040f-e148-45d6-a50b-daae56b01eaa\")>,\n",
       " <selenium.webdriver.remote.webelement.WebElement (session=\"54052e0a5c78c048270fec35934a10a1\", element=\"c105621d-2308-4d0a-9227-b4602a3e7d7c\")>]"
      ]
     },
     "execution_count": 26,
     "metadata": {},
     "output_type": "execute_result"
    }
   ],
   "source": [
    "# tags containing the job titles\n",
    "title_tags = driver.find_elements_by_xpath(\"//a[@class='title fw500 ellipsis']\")\n",
    "title_tags"
   ]
  },
  {
   "cell_type": "markdown",
   "metadata": {},
   "source": [
    "now I  have the title tags."
   ]
  },
  {
   "cell_type": "code",
   "execution_count": 27,
   "metadata": {},
   "outputs": [
    {
     "data": {
      "text/plain": [
       "['Data Scientist / Data Analyst -Business Analyst',\n",
       " 'Data Analyst',\n",
       " 'Data analysts',\n",
       " 'Data Analyst (2positions)//immediate Joiners//bangalore',\n",
       " 'Data analysts',\n",
       " 'Data Analyst',\n",
       " 'Data Analyst',\n",
       " 'Consultant-Data Analyst -Bangalore',\n",
       " 'Data Analyst - Category Demand Management (Revenue & Growth)',\n",
       " 'Data Analyst/ Data Consultant (Various Levels – Senior/ Mid/ Junior)']"
      ]
     },
     "execution_count": 27,
     "metadata": {},
     "output_type": "execute_result"
    }
   ],
   "source": [
    "job_titles = []\n",
    "for i in title_tags:\n",
    "    job_titles.append(i.text)\n",
    "job_titles[:10]"
   ]
  },
  {
   "cell_type": "markdown",
   "metadata": {},
   "source": [
    "showing a list of first 10 job titles."
   ]
  },
  {
   "cell_type": "code",
   "execution_count": 28,
   "metadata": {},
   "outputs": [],
   "source": [
    "Job_titles = job_titles[:10]"
   ]
  },
  {
   "cell_type": "markdown",
   "metadata": {},
   "source": [
    "assigning the above list to Job_titles."
   ]
  },
  {
   "cell_type": "code",
   "execution_count": 29,
   "metadata": {},
   "outputs": [
    {
     "data": {
      "text/plain": [
       "[<selenium.webdriver.remote.webelement.WebElement (session=\"54052e0a5c78c048270fec35934a10a1\", element=\"433fcc51-71b1-4989-89b2-b40dfa82a01d\")>,\n",
       " <selenium.webdriver.remote.webelement.WebElement (session=\"54052e0a5c78c048270fec35934a10a1\", element=\"e9858b5f-938a-4155-aa5c-1fb9a2c69037\")>,\n",
       " <selenium.webdriver.remote.webelement.WebElement (session=\"54052e0a5c78c048270fec35934a10a1\", element=\"04f4e8c8-99f8-464e-9045-36c0328caee4\")>,\n",
       " <selenium.webdriver.remote.webelement.WebElement (session=\"54052e0a5c78c048270fec35934a10a1\", element=\"24d9a0ee-d70b-4eb4-a4a8-ced9ba8e8f4f\")>,\n",
       " <selenium.webdriver.remote.webelement.WebElement (session=\"54052e0a5c78c048270fec35934a10a1\", element=\"873a655a-f7fc-4519-8254-83bb48b6376b\")>,\n",
       " <selenium.webdriver.remote.webelement.WebElement (session=\"54052e0a5c78c048270fec35934a10a1\", element=\"55ad05d8-6d34-4d1c-a3ec-347417db11cd\")>,\n",
       " <selenium.webdriver.remote.webelement.WebElement (session=\"54052e0a5c78c048270fec35934a10a1\", element=\"a8f2b40f-5875-428e-b20c-b7920d3997ab\")>,\n",
       " <selenium.webdriver.remote.webelement.WebElement (session=\"54052e0a5c78c048270fec35934a10a1\", element=\"d6056f9b-0fdf-439d-988d-183a10c00326\")>,\n",
       " <selenium.webdriver.remote.webelement.WebElement (session=\"54052e0a5c78c048270fec35934a10a1\", element=\"0435f0a6-9923-41a2-8f0e-6cd777b16ef0\")>,\n",
       " <selenium.webdriver.remote.webelement.WebElement (session=\"54052e0a5c78c048270fec35934a10a1\", element=\"a5fca650-f47d-457e-a192-05ab44d69677\")>,\n",
       " <selenium.webdriver.remote.webelement.WebElement (session=\"54052e0a5c78c048270fec35934a10a1\", element=\"4df80fb8-2782-4d31-85db-25e8335b88eb\")>,\n",
       " <selenium.webdriver.remote.webelement.WebElement (session=\"54052e0a5c78c048270fec35934a10a1\", element=\"8544fca9-ac03-42d3-829a-07650688521c\")>,\n",
       " <selenium.webdriver.remote.webelement.WebElement (session=\"54052e0a5c78c048270fec35934a10a1\", element=\"07fdddfc-6a49-42bf-a879-c5ccbb4291f2\")>,\n",
       " <selenium.webdriver.remote.webelement.WebElement (session=\"54052e0a5c78c048270fec35934a10a1\", element=\"29229d14-2a46-409f-ad22-c4d1a415a924\")>,\n",
       " <selenium.webdriver.remote.webelement.WebElement (session=\"54052e0a5c78c048270fec35934a10a1\", element=\"1c9eec94-3d24-46fb-8118-125a27cf0c8b\")>,\n",
       " <selenium.webdriver.remote.webelement.WebElement (session=\"54052e0a5c78c048270fec35934a10a1\", element=\"d5a64df5-5514-4dc3-bc94-726f7adee538\")>,\n",
       " <selenium.webdriver.remote.webelement.WebElement (session=\"54052e0a5c78c048270fec35934a10a1\", element=\"bbdb1f8f-ea2a-461f-99df-d288e1a4df0a\")>,\n",
       " <selenium.webdriver.remote.webelement.WebElement (session=\"54052e0a5c78c048270fec35934a10a1\", element=\"d26b3ffa-baa2-4856-8ee0-fe5e69aa533e\")>,\n",
       " <selenium.webdriver.remote.webelement.WebElement (session=\"54052e0a5c78c048270fec35934a10a1\", element=\"5910abb0-d4eb-4e32-bdd0-94c3c4a95610\")>,\n",
       " <selenium.webdriver.remote.webelement.WebElement (session=\"54052e0a5c78c048270fec35934a10a1\", element=\"850347a7-d1dc-4395-b9fb-9298ee4165b5\")>]"
      ]
     },
     "execution_count": 29,
     "metadata": {},
     "output_type": "execute_result"
    }
   ],
   "source": [
    "#tags contaning the job-location\n",
    "loc_tags = driver.find_elements_by_xpath(\"//li[@class='fleft grey-text br2 placeHolderLi location']\")\n",
    "loc_tags"
   ]
  },
  {
   "cell_type": "code",
   "execution_count": 30,
   "metadata": {},
   "outputs": [
    {
     "data": {
      "text/plain": [
       "['Mumbai, Hyderabad/Secunderabad, Pune, Gurgaon/Gurugram, Chennai, Bangalore/Bengaluru',\n",
       " 'Bangalore/Bengaluru',\n",
       " 'Bengaluru/Bangalore',\n",
       " 'Bangalore/Bengaluru',\n",
       " 'Bangalore/Bengaluru',\n",
       " 'Bangalore/Bengaluru',\n",
       " 'Bangalore/Bengaluru',\n",
       " 'Bangalore/Bengaluru',\n",
       " 'Bangalore/Bengaluru',\n",
       " 'Bangalore/Bengaluru']"
      ]
     },
     "execution_count": 30,
     "metadata": {},
     "output_type": "execute_result"
    }
   ],
   "source": [
    "job_locations = []\n",
    "for i in loc_tags:\n",
    "    job_locations.append(i.text)\n",
    "job_locations[:10]"
   ]
  },
  {
   "cell_type": "markdown",
   "metadata": {},
   "source": [
    "creating a list of job locations."
   ]
  },
  {
   "cell_type": "code",
   "execution_count": 31,
   "metadata": {},
   "outputs": [],
   "source": [
    "Job_locations= job_locations[:10]"
   ]
  },
  {
   "cell_type": "markdown",
   "metadata": {},
   "source": [
    "first 10 locations list"
   ]
  },
  {
   "cell_type": "code",
   "execution_count": 32,
   "metadata": {},
   "outputs": [
    {
     "data": {
      "text/plain": [
       "[<selenium.webdriver.remote.webelement.WebElement (session=\"54052e0a5c78c048270fec35934a10a1\", element=\"c7946e76-737c-4782-94d5-a6af5657c25b\")>,\n",
       " <selenium.webdriver.remote.webelement.WebElement (session=\"54052e0a5c78c048270fec35934a10a1\", element=\"824b3057-7147-40fe-82e3-e106aea9e133\")>,\n",
       " <selenium.webdriver.remote.webelement.WebElement (session=\"54052e0a5c78c048270fec35934a10a1\", element=\"5151fbe7-30ed-406c-826b-94a483ed6d76\")>,\n",
       " <selenium.webdriver.remote.webelement.WebElement (session=\"54052e0a5c78c048270fec35934a10a1\", element=\"00136e9b-594c-4a6e-88b6-a54c6ebd7289\")>,\n",
       " <selenium.webdriver.remote.webelement.WebElement (session=\"54052e0a5c78c048270fec35934a10a1\", element=\"895311f7-a461-4a2b-9474-98611376df63\")>,\n",
       " <selenium.webdriver.remote.webelement.WebElement (session=\"54052e0a5c78c048270fec35934a10a1\", element=\"c8ef0085-92f9-4647-96ea-8e93fbc0fc2c\")>,\n",
       " <selenium.webdriver.remote.webelement.WebElement (session=\"54052e0a5c78c048270fec35934a10a1\", element=\"c5e665e5-0894-4742-82ad-3a300bf0e5b5\")>,\n",
       " <selenium.webdriver.remote.webelement.WebElement (session=\"54052e0a5c78c048270fec35934a10a1\", element=\"2a2ceed2-5259-4755-a140-a4edd4be7517\")>,\n",
       " <selenium.webdriver.remote.webelement.WebElement (session=\"54052e0a5c78c048270fec35934a10a1\", element=\"9eb9f63c-d7e4-428d-9c65-a5fdaf53afdd\")>,\n",
       " <selenium.webdriver.remote.webelement.WebElement (session=\"54052e0a5c78c048270fec35934a10a1\", element=\"d56a0061-1ca3-4911-88c2-d80b63560fdf\")>,\n",
       " <selenium.webdriver.remote.webelement.WebElement (session=\"54052e0a5c78c048270fec35934a10a1\", element=\"8a278330-537f-4af9-961a-06221cd9878e\")>,\n",
       " <selenium.webdriver.remote.webelement.WebElement (session=\"54052e0a5c78c048270fec35934a10a1\", element=\"96e6d704-5de6-4a95-9384-5f02d6e075bb\")>,\n",
       " <selenium.webdriver.remote.webelement.WebElement (session=\"54052e0a5c78c048270fec35934a10a1\", element=\"70ffcc57-6280-4beb-b417-d736b3adc63b\")>,\n",
       " <selenium.webdriver.remote.webelement.WebElement (session=\"54052e0a5c78c048270fec35934a10a1\", element=\"f3d214cc-c1f0-4daf-900b-b230c7f7e936\")>,\n",
       " <selenium.webdriver.remote.webelement.WebElement (session=\"54052e0a5c78c048270fec35934a10a1\", element=\"7b4d3944-e61f-41ef-83ce-1e575b21dbfa\")>,\n",
       " <selenium.webdriver.remote.webelement.WebElement (session=\"54052e0a5c78c048270fec35934a10a1\", element=\"7a65f2b4-72a1-42cc-b361-2b2451edd1fe\")>,\n",
       " <selenium.webdriver.remote.webelement.WebElement (session=\"54052e0a5c78c048270fec35934a10a1\", element=\"b6c9febd-9939-40e3-a3d1-55c41ea5f228\")>,\n",
       " <selenium.webdriver.remote.webelement.WebElement (session=\"54052e0a5c78c048270fec35934a10a1\", element=\"9a20528e-7dc5-45cc-bdc6-be209e17f374\")>,\n",
       " <selenium.webdriver.remote.webelement.WebElement (session=\"54052e0a5c78c048270fec35934a10a1\", element=\"826930fc-d4bf-4a55-bd53-dde8bba4aeec\")>,\n",
       " <selenium.webdriver.remote.webelement.WebElement (session=\"54052e0a5c78c048270fec35934a10a1\", element=\"dc6b5f28-62c8-439d-afcc-24afcb5e3ddf\")>]"
      ]
     },
     "execution_count": 32,
     "metadata": {},
     "output_type": "execute_result"
    }
   ],
   "source": [
    "#company name tags\n",
    "company_name_tags = driver.find_elements_by_xpath(\"//a[@class='subTitle ellipsis fleft']\")\n",
    "company_name_tags"
   ]
  },
  {
   "cell_type": "code",
   "execution_count": 33,
   "metadata": {},
   "outputs": [],
   "source": [
    "company_names = []\n",
    "for i in company_name_tags:\n",
    "    company_names.append(i.text)\n",
    "company_names[:10]\n",
    "\n",
    "Company_names = company_names[:10]"
   ]
  },
  {
   "cell_type": "markdown",
   "metadata": {},
   "source": [
    "created a list of companies for first 10 jobs."
   ]
  },
  {
   "cell_type": "code",
   "execution_count": 34,
   "metadata": {},
   "outputs": [
    {
     "data": {
      "text/plain": [
       "[<selenium.webdriver.remote.webelement.WebElement (session=\"54052e0a5c78c048270fec35934a10a1\", element=\"c516485d-e697-485c-a8db-1098ebdc9b31\")>,\n",
       " <selenium.webdriver.remote.webelement.WebElement (session=\"54052e0a5c78c048270fec35934a10a1\", element=\"49bb2783-71af-4b77-a694-419cbf6596e8\")>,\n",
       " <selenium.webdriver.remote.webelement.WebElement (session=\"54052e0a5c78c048270fec35934a10a1\", element=\"109f0286-1097-4c89-9c8e-cd847526e96b\")>,\n",
       " <selenium.webdriver.remote.webelement.WebElement (session=\"54052e0a5c78c048270fec35934a10a1\", element=\"e8598953-65fa-423d-af3e-d52ac8b549e5\")>,\n",
       " <selenium.webdriver.remote.webelement.WebElement (session=\"54052e0a5c78c048270fec35934a10a1\", element=\"848787c8-fde7-41a0-a79b-ce0a798f12cf\")>,\n",
       " <selenium.webdriver.remote.webelement.WebElement (session=\"54052e0a5c78c048270fec35934a10a1\", element=\"5cd7c8ba-2b3a-4358-b7f7-934e999f3833\")>,\n",
       " <selenium.webdriver.remote.webelement.WebElement (session=\"54052e0a5c78c048270fec35934a10a1\", element=\"b6eacace-5e92-4405-a53a-ed89bb1edf4a\")>,\n",
       " <selenium.webdriver.remote.webelement.WebElement (session=\"54052e0a5c78c048270fec35934a10a1\", element=\"3e8c1bc2-df96-40e6-8896-d2631e3aa524\")>,\n",
       " <selenium.webdriver.remote.webelement.WebElement (session=\"54052e0a5c78c048270fec35934a10a1\", element=\"023a36b1-dab6-4a64-86d8-320f74957f40\")>,\n",
       " <selenium.webdriver.remote.webelement.WebElement (session=\"54052e0a5c78c048270fec35934a10a1\", element=\"28b78b3f-c6f5-49a1-9ca3-56a45437dfd6\")>,\n",
       " <selenium.webdriver.remote.webelement.WebElement (session=\"54052e0a5c78c048270fec35934a10a1\", element=\"680ad6fe-a8e9-4f54-b64a-c300c3357e9c\")>,\n",
       " <selenium.webdriver.remote.webelement.WebElement (session=\"54052e0a5c78c048270fec35934a10a1\", element=\"9fd93cf3-db65-475a-8ff8-a06df857eda9\")>,\n",
       " <selenium.webdriver.remote.webelement.WebElement (session=\"54052e0a5c78c048270fec35934a10a1\", element=\"bc86bdd3-f05a-4649-a341-3c09ac895088\")>,\n",
       " <selenium.webdriver.remote.webelement.WebElement (session=\"54052e0a5c78c048270fec35934a10a1\", element=\"53b736c2-5e4c-40d1-8dc8-881ddd4a04b3\")>,\n",
       " <selenium.webdriver.remote.webelement.WebElement (session=\"54052e0a5c78c048270fec35934a10a1\", element=\"3933333c-96e5-480f-af89-b19b6d1ff22b\")>,\n",
       " <selenium.webdriver.remote.webelement.WebElement (session=\"54052e0a5c78c048270fec35934a10a1\", element=\"15d7f86f-5b0c-466a-954d-99044ea3158c\")>,\n",
       " <selenium.webdriver.remote.webelement.WebElement (session=\"54052e0a5c78c048270fec35934a10a1\", element=\"99d5035b-11c4-4a3d-b936-dbc916a0ea1e\")>,\n",
       " <selenium.webdriver.remote.webelement.WebElement (session=\"54052e0a5c78c048270fec35934a10a1\", element=\"066b5654-e942-4240-9428-e181dfb2274a\")>,\n",
       " <selenium.webdriver.remote.webelement.WebElement (session=\"54052e0a5c78c048270fec35934a10a1\", element=\"fa3c2308-0264-416c-8565-ee873a408312\")>,\n",
       " <selenium.webdriver.remote.webelement.WebElement (session=\"54052e0a5c78c048270fec35934a10a1\", element=\"492fc5f0-891a-4fce-9570-e6ddcb04b867\")>]"
      ]
     },
     "execution_count": 34,
     "metadata": {},
     "output_type": "execute_result"
    }
   ],
   "source": [
    "#experience tags\n",
    "exp_tags = driver.find_elements_by_xpath(\"//li[@class='fleft grey-text br2 placeHolderLi experience']\")\n",
    "exp_tags"
   ]
  },
  {
   "cell_type": "code",
   "execution_count": 35,
   "metadata": {},
   "outputs": [],
   "source": [
    "experience_required = []\n",
    "for i in exp_tags:\n",
    "    experience_required.append(i.text)\n",
    "experience_required[:10]\n",
    "\n",
    "exp10 = experience_required[:10]"
   ]
  },
  {
   "cell_type": "markdown",
   "metadata": {},
   "source": [
    "created a list of experience required for first 10 jobs."
   ]
  },
  {
   "cell_type": "code",
   "execution_count": 36,
   "metadata": {},
   "outputs": [
    {
     "data": {
      "text/html": [
       "<div>\n",
       "<style scoped>\n",
       "    .dataframe tbody tr th:only-of-type {\n",
       "        vertical-align: middle;\n",
       "    }\n",
       "\n",
       "    .dataframe tbody tr th {\n",
       "        vertical-align: top;\n",
       "    }\n",
       "\n",
       "    .dataframe thead th {\n",
       "        text-align: right;\n",
       "    }\n",
       "</style>\n",
       "<table border=\"1\" class=\"dataframe\">\n",
       "  <thead>\n",
       "    <tr style=\"text-align: right;\">\n",
       "      <th></th>\n",
       "      <th>Company_Name</th>\n",
       "    </tr>\n",
       "  </thead>\n",
       "  <tbody>\n",
       "    <tr>\n",
       "      <th>0</th>\n",
       "      <td>Inflexion Analytix Private Limited</td>\n",
       "    </tr>\n",
       "    <tr>\n",
       "      <th>1</th>\n",
       "      <td>Novel Office</td>\n",
       "    </tr>\n",
       "    <tr>\n",
       "      <th>2</th>\n",
       "      <td>IBM India Pvt. Limited</td>\n",
       "    </tr>\n",
       "    <tr>\n",
       "      <th>3</th>\n",
       "      <td>Tech Mahindra Ltd.</td>\n",
       "    </tr>\n",
       "    <tr>\n",
       "      <th>4</th>\n",
       "      <td>IBM India Pvt. Limited</td>\n",
       "    </tr>\n",
       "    <tr>\n",
       "      <th>5</th>\n",
       "      <td>Myntra Designs Pvt. Ltd.</td>\n",
       "    </tr>\n",
       "    <tr>\n",
       "      <th>6</th>\n",
       "      <td>Myntra Designs Pvt. Ltd.</td>\n",
       "    </tr>\n",
       "    <tr>\n",
       "      <th>7</th>\n",
       "      <td>Innovsource Services Private Limited</td>\n",
       "    </tr>\n",
       "    <tr>\n",
       "      <th>8</th>\n",
       "      <td>Myntra Designs Pvt. Ltd.</td>\n",
       "    </tr>\n",
       "    <tr>\n",
       "      <th>9</th>\n",
       "      <td>DVSUM INDIA PRIVATE LIMITED</td>\n",
       "    </tr>\n",
       "  </tbody>\n",
       "</table>\n",
       "</div>"
      ],
      "text/plain": [
       "                           Company_Name\n",
       "0    Inflexion Analytix Private Limited\n",
       "1                          Novel Office\n",
       "2                IBM India Pvt. Limited\n",
       "3                    Tech Mahindra Ltd.\n",
       "4                IBM India Pvt. Limited\n",
       "5              Myntra Designs Pvt. Ltd.\n",
       "6              Myntra Designs Pvt. Ltd.\n",
       "7  Innovsource Services Private Limited\n",
       "8              Myntra Designs Pvt. Ltd.\n",
       "9           DVSUM INDIA PRIVATE LIMITED"
      ]
     },
     "execution_count": 36,
     "metadata": {},
     "output_type": "execute_result"
    }
   ],
   "source": [
    "EXPERIENCE_REQUIRED = pd.DataFrame(exp10,columns=['Experience_Required'])\n",
    "EXPERIENCE_REQUIRED\n",
    "JOB_TITLE = pd.DataFrame(Job_titles,columns=['Job_Tiltes'])\n",
    "JOB_TITLE\n",
    "JOB_LOCATION = pd.DataFrame(Job_locations,columns=['Job_Locations'])\n",
    "JOB_LOCATION\n",
    "COMPANY_NAME = pd.DataFrame(Company_names,columns=['Company_Name'])\n",
    "COMPANY_NAME"
   ]
  },
  {
   "cell_type": "markdown",
   "metadata": {},
   "source": [
    "CREATED A DATAFRAME FOR job title,company name,location of job and experience required."
   ]
  },
  {
   "cell_type": "code",
   "execution_count": 37,
   "metadata": {},
   "outputs": [
    {
     "data": {
      "text/html": [
       "<div>\n",
       "<style scoped>\n",
       "    .dataframe tbody tr th:only-of-type {\n",
       "        vertical-align: middle;\n",
       "    }\n",
       "\n",
       "    .dataframe tbody tr th {\n",
       "        vertical-align: top;\n",
       "    }\n",
       "\n",
       "    .dataframe thead th {\n",
       "        text-align: right;\n",
       "    }\n",
       "</style>\n",
       "<table border=\"1\" class=\"dataframe\">\n",
       "  <thead>\n",
       "    <tr style=\"text-align: right;\">\n",
       "      <th></th>\n",
       "      <th>Job_Tiltes</th>\n",
       "      <th>Job_Locations</th>\n",
       "      <th>Company_Name</th>\n",
       "      <th>Experience_Required</th>\n",
       "    </tr>\n",
       "  </thead>\n",
       "  <tbody>\n",
       "    <tr>\n",
       "      <th>0</th>\n",
       "      <td>Data Scientist / Data Analyst -Business Analyst</td>\n",
       "      <td>Mumbai, Hyderabad/Secunderabad, Pune, Gurgaon/Gurugram, Chennai, Bangalore/Bengaluru</td>\n",
       "      <td>Inflexion Analytix Private Limited</td>\n",
       "      <td>0-3 Yrs</td>\n",
       "    </tr>\n",
       "    <tr>\n",
       "      <th>1</th>\n",
       "      <td>Data Analyst</td>\n",
       "      <td>Bangalore/Bengaluru</td>\n",
       "      <td>Novel Office</td>\n",
       "      <td>0-3 Yrs</td>\n",
       "    </tr>\n",
       "    <tr>\n",
       "      <th>2</th>\n",
       "      <td>Data analysts</td>\n",
       "      <td>Bengaluru/Bangalore</td>\n",
       "      <td>IBM India Pvt. Limited</td>\n",
       "      <td>5-6 Yrs</td>\n",
       "    </tr>\n",
       "    <tr>\n",
       "      <th>3</th>\n",
       "      <td>Data Analyst (2positions)//immediate Joiners//bangalore</td>\n",
       "      <td>Bangalore/Bengaluru</td>\n",
       "      <td>Tech Mahindra Ltd.</td>\n",
       "      <td>4-8 Yrs</td>\n",
       "    </tr>\n",
       "    <tr>\n",
       "      <th>4</th>\n",
       "      <td>Data analysts</td>\n",
       "      <td>Bangalore/Bengaluru</td>\n",
       "      <td>IBM India Pvt. Limited</td>\n",
       "      <td>3-5 Yrs</td>\n",
       "    </tr>\n",
       "    <tr>\n",
       "      <th>5</th>\n",
       "      <td>Data Analyst</td>\n",
       "      <td>Bangalore/Bengaluru</td>\n",
       "      <td>Myntra Designs Pvt. Ltd.</td>\n",
       "      <td>3-5 Yrs</td>\n",
       "    </tr>\n",
       "    <tr>\n",
       "      <th>6</th>\n",
       "      <td>Data Analyst</td>\n",
       "      <td>Bangalore/Bengaluru</td>\n",
       "      <td>Myntra Designs Pvt. Ltd.</td>\n",
       "      <td>3-8 Yrs</td>\n",
       "    </tr>\n",
       "    <tr>\n",
       "      <th>7</th>\n",
       "      <td>Consultant-Data Analyst -Bangalore</td>\n",
       "      <td>Bangalore/Bengaluru</td>\n",
       "      <td>Innovsource Services Private Limited</td>\n",
       "      <td>2-7 Yrs</td>\n",
       "    </tr>\n",
       "    <tr>\n",
       "      <th>8</th>\n",
       "      <td>Data Analyst - Category Demand Management (Revenue &amp; Growth)</td>\n",
       "      <td>Bangalore/Bengaluru</td>\n",
       "      <td>Myntra Designs Pvt. Ltd.</td>\n",
       "      <td>1-4 Yrs</td>\n",
       "    </tr>\n",
       "    <tr>\n",
       "      <th>9</th>\n",
       "      <td>Data Analyst/ Data Consultant (Various Levels – Senior/ Mid/ Junior)</td>\n",
       "      <td>Bangalore/Bengaluru</td>\n",
       "      <td>DVSUM INDIA PRIVATE LIMITED</td>\n",
       "      <td>5-10 Yrs</td>\n",
       "    </tr>\n",
       "  </tbody>\n",
       "</table>\n",
       "</div>"
      ],
      "text/plain": [
       "                                                             Job_Tiltes  \\\n",
       "0                       Data Scientist / Data Analyst -Business Analyst   \n",
       "1                                                          Data Analyst   \n",
       "2                                                         Data analysts   \n",
       "3               Data Analyst (2positions)//immediate Joiners//bangalore   \n",
       "4                                                         Data analysts   \n",
       "5                                                          Data Analyst   \n",
       "6                                                          Data Analyst   \n",
       "7                                    Consultant-Data Analyst -Bangalore   \n",
       "8          Data Analyst - Category Demand Management (Revenue & Growth)   \n",
       "9  Data Analyst/ Data Consultant (Various Levels – Senior/ Mid/ Junior)   \n",
       "\n",
       "                                                                          Job_Locations  \\\n",
       "0  Mumbai, Hyderabad/Secunderabad, Pune, Gurgaon/Gurugram, Chennai, Bangalore/Bengaluru   \n",
       "1                                                                   Bangalore/Bengaluru   \n",
       "2                                                                   Bengaluru/Bangalore   \n",
       "3                                                                   Bangalore/Bengaluru   \n",
       "4                                                                   Bangalore/Bengaluru   \n",
       "5                                                                   Bangalore/Bengaluru   \n",
       "6                                                                   Bangalore/Bengaluru   \n",
       "7                                                                   Bangalore/Bengaluru   \n",
       "8                                                                   Bangalore/Bengaluru   \n",
       "9                                                                   Bangalore/Bengaluru   \n",
       "\n",
       "                           Company_Name Experience_Required  \n",
       "0    Inflexion Analytix Private Limited             0-3 Yrs  \n",
       "1                          Novel Office             0-3 Yrs  \n",
       "2                IBM India Pvt. Limited             5-6 Yrs  \n",
       "3                    Tech Mahindra Ltd.             4-8 Yrs  \n",
       "4                IBM India Pvt. Limited             3-5 Yrs  \n",
       "5              Myntra Designs Pvt. Ltd.             3-5 Yrs  \n",
       "6              Myntra Designs Pvt. Ltd.             3-8 Yrs  \n",
       "7  Innovsource Services Private Limited             2-7 Yrs  \n",
       "8              Myntra Designs Pvt. Ltd.             1-4 Yrs  \n",
       "9           DVSUM INDIA PRIVATE LIMITED            5-10 Yrs  "
      ]
     },
     "execution_count": 37,
     "metadata": {},
     "output_type": "execute_result"
    }
   ],
   "source": [
    "JOBS_IN_BANGALORE_FOR_DATA_ANALYST = pd.concat([JOB_TITLE,JOB_LOCATION,COMPANY_NAME,EXPERIENCE_REQUIRED],axis=1)\n",
    "JOBS_IN_BANGALORE_FOR_DATA_ANALYST"
   ]
  },
  {
   "cell_type": "markdown",
   "metadata": {},
   "source": [
    "created a dataframe for the data_analyst job titles in Bangalore."
   ]
  },
  {
   "cell_type": "markdown",
   "metadata": {},
   "source": [
    "# ANSWER TO QUESTION 2 OF WEB  SCRAPING ASSIGNMENT 2:-"
   ]
  },
  {
   "cell_type": "code",
   "execution_count": 117,
   "metadata": {},
   "outputs": [],
   "source": [
    "driver1 = webdriver.Chrome('chromedriver.exe')"
   ]
  },
  {
   "cell_type": "code",
   "execution_count": 118,
   "metadata": {},
   "outputs": [],
   "source": [
    "url11 = 'https://www.naukri.com/'\n",
    "driver1.get(url11)"
   ]
  },
  {
   "cell_type": "code",
   "execution_count": 119,
   "metadata": {},
   "outputs": [],
   "source": [
    "#job search bar\n",
    "search_job = driver1.find_element_by_xpath(\"//input[@class='sugInp']\")\n",
    "search_job.send_keys(\"Data Scientist\")"
   ]
  },
  {
   "cell_type": "code",
   "execution_count": 120,
   "metadata": {},
   "outputs": [],
   "source": [
    "#location search bar\n",
    "search_loc = driver1.find_element_by_xpath(\"//input[@id='qsb-location-sugg']\")\n",
    "search_loc.send_keys('Bangalore')"
   ]
  },
  {
   "cell_type": "code",
   "execution_count": 121,
   "metadata": {},
   "outputs": [],
   "source": [
    "#button click search\n",
    "search_button = driver1.find_element_by_xpath(\"//button[@class='btn']\")\n",
    "search_button.click()"
   ]
  },
  {
   "cell_type": "code",
   "execution_count": 122,
   "metadata": {},
   "outputs": [
    {
     "data": {
      "text/plain": [
       "['Data Scientist / Data Analyst -Business Analyst',\n",
       " 'Senior / Lead Data Scientist',\n",
       " 'data scientist',\n",
       " 'Data analytics / Data scientist intern (work from Home)',\n",
       " 'Senior Data Scientist',\n",
       " 'VP - Sr. Data Scientist For Morgan Stanley, Bangalore',\n",
       " 'Senior Data Scientist',\n",
       " 'Senior Data Scientist',\n",
       " 'Senior Data Scientist',\n",
       " 'Sr Data Scientist']"
      ]
     },
     "execution_count": 122,
     "metadata": {},
     "output_type": "execute_result"
    }
   ],
   "source": [
    "title_tags_1 = driver1.find_elements_by_xpath(\"//a[@class='title fw500 ellipsis']\")\n",
    "title_tags_1\n",
    "\n",
    "\n",
    "\n",
    "job_titles1 = []\n",
    "for i in title_tags_1:\n",
    "    job_titles1.append(i.text)\n",
    "job_titles1[:10]\n",
    "\n",
    "\n",
    "\n",
    "Job_titles1 = job_titles1[:10]\n",
    "Job_titles1"
   ]
  },
  {
   "cell_type": "code",
   "execution_count": 123,
   "metadata": {},
   "outputs": [
    {
     "data": {
      "text/plain": [
       "['Mumbai, Hyderabad/Secunderabad, Pune, Gurgaon/Gurugram, Chennai, Bangalore/Bengaluru',\n",
       " 'Pune, Chennai, Bangalore/Bengaluru',\n",
       " 'Bangalore/Bengaluru',\n",
       " 'Kolkata, Bangalore/Bengaluru, Delhi / NCR',\n",
       " 'Bangalore/Bengaluru',\n",
       " 'Bangalore/Bengaluru',\n",
       " 'Bangalore/Bengaluru',\n",
       " 'Bangalore/Bengaluru',\n",
       " 'Bangalore/Bengaluru',\n",
       " 'Bangalore/Bengaluru, Mumbai (All Areas)']"
      ]
     },
     "execution_count": 123,
     "metadata": {},
     "output_type": "execute_result"
    }
   ],
   "source": [
    "#tags contaning the job-location\n",
    "loc_tags1 = driver1.find_elements_by_xpath(\"//li[@class='fleft grey-text br2 placeHolderLi location']\")\n",
    "loc_tags1\n",
    "\n",
    "job_locations1 = []\n",
    "for i in loc_tags1:\n",
    "    job_locations1.append(i.text)\n",
    "job_locations1[:10]\n",
    "\n",
    "#creating a list of job locations.\n",
    "\n",
    "Job_locations1= job_locations1[:10]\n",
    "Job_locations1"
   ]
  },
  {
   "cell_type": "markdown",
   "metadata": {},
   "source": [
    "first 10 locations list"
   ]
  },
  {
   "cell_type": "code",
   "execution_count": 124,
   "metadata": {},
   "outputs": [
    {
     "data": {
      "text/plain": [
       "['Inflexion Analytix Private Limited',\n",
       " 'TVS CREDIT SERVICES LIMITED',\n",
       " 'Global Talent Pool',\n",
       " 'TalkValley LLC',\n",
       " 'RedBus',\n",
       " 'Morgan Stanley Advantage Services',\n",
       " 'Walmart Labs',\n",
       " 'ExecBoardinAsia',\n",
       " 'Perform Group',\n",
       " 'intelligent industrial internet systems pvt ltd.']"
      ]
     },
     "execution_count": 124,
     "metadata": {},
     "output_type": "execute_result"
    }
   ],
   "source": [
    "#company name tags\n",
    "company_name_tags1 = driver1.find_elements_by_xpath(\"//a[@class='subTitle ellipsis fleft']\")\n",
    "company_name_tags1\n",
    "\n",
    "company_names1 = []\n",
    "for i in company_name_tags1:\n",
    "    company_names1.append(i.text)\n",
    "company_names1[:10]\n",
    "\n",
    "Company_names1 = company_names1[:10]\n",
    "Company_names1"
   ]
  },
  {
   "cell_type": "markdown",
   "metadata": {},
   "source": [
    "created a list of companies for first 10 jobs."
   ]
  },
  {
   "cell_type": "code",
   "execution_count": 125,
   "metadata": {},
   "outputs": [
    {
     "data": {
      "text/plain": [
       "['https://www.naukri.com/job-listings-data-scientist-data-analyst-business-analyst-inflexion-analytix-private-limited-mumbai-hyderabad-secunderabad-pune-gurgaon-gurugram-chennai-bangalore-bengaluru-0-to-3-years-100521000368?src=jobsearchDesk&sid=16235991394098938&xp=1&px=1',\n",
       " 'https://www.naukri.com/job-listings-senior-lead-data-scientist-tvs-credit-services-limited-pune-chennai-bangalore-bengaluru-3-to-8-years-261220002239?src=jobsearchDesk&sid=16235991394098938&xp=2&px=1',\n",
       " 'https://www.naukri.com/job-listings-data-scientist-global-talent-pool-bangalore-bengaluru-0-to-2-years-310521500397?src=jobsearchDesk&sid=16235991394098938&xp=3&px=1',\n",
       " 'https://www.naukri.com/job-listings-data-analytics-data-scientist-intern-work-from-home-talkvalley-llc-kolkata-bangalore-bengaluru-delhi-ncr-0-to-5-years-050621000128?src=jobsearchDesk&sid=16235991394098938&xp=4&px=1',\n",
       " 'https://www.naukri.com/job-listings-senior-data-scientist-redbus-in-ibibo-group-private-limited-bangalore-bengaluru-5-to-8-years-090621001584?src=jobsearchDesk&sid=16235991394098938&xp=5&px=1',\n",
       " 'https://www.naukri.com/job-listings-vp-sr-data-scientist-for-morgan-stanley-bangalore-morgan-stanley-advantage-services-pvt-ltd-bangalore-bengaluru-8-to-13-years-010621002131?src=jobsearchDesk&sid=16235991394098938&xp=6&px=1',\n",
       " 'https://www.naukri.com/job-listings-senior-data-scientist-walmart-labs-bangalore-bengaluru-8-to-10-years-020621500403?src=jobsearchDesk&sid=16235991394098938&xp=7&px=1',\n",
       " 'https://www.naukri.com/job-listings-senior-data-scientist-execboardinasia-bangalore-bengaluru-5-to-10-years-030621500359?src=jobsearchDesk&sid=16235991394098938&xp=8&px=1',\n",
       " 'https://www.naukri.com/job-listings-senior-data-scientist-perform-group-bangalore-bengaluru-4-to-7-years-310521501774?src=jobsearchDesk&sid=16235991394098938&xp=9&px=1',\n",
       " 'https://www.naukri.com/job-listings-sr-data-scientist-intelligent-industrial-internet-systems-pvt-ltd-bangalore-bengaluru-mumbai-all-areas-3-to-6-years-030621003155?src=jobsearchDesk&sid=16235991394098938&xp=10&px=1',\n",
       " 'https://www.naukri.com/job-listings-senior-data-scientist-marketplace-walmart-labs-bangalore-bengaluru-5-to-9-years-310521500781?src=jobsearchDesk&sid=16235991394098938&xp=11&px=1',\n",
       " 'https://www.naukri.com/job-listings-data-scientist-ibm-garage-ibm-india-pvt-limited-bengaluru-bangalore-2-to-6-years-080621904251?src=jobsearchDesk&sid=16235991394098938&xp=12&px=1',\n",
       " 'https://www.naukri.com/job-listings-digital-enterprise-architect-data-scientist-mphasis-limited-bangalore-bengaluru-10-to-13-years-030621902728?src=jobsearchDesk&sid=16235991394098938&xp=13&px=1',\n",
       " 'https://www.naukri.com/job-listings-data-scientist-ibm-india-pvt-limited-bangalore-bengaluru-3-to-6-years-020621905994?src=jobsearchDesk&sid=16235991394098938&xp=14&px=1',\n",
       " 'https://www.naukri.com/job-listings-data-scientist-ibm-india-pvt-limited-bangalore-bengaluru-3-to-6-years-030621907010?src=jobsearchDesk&sid=16235991394098938&xp=15&px=1',\n",
       " 'https://www.naukri.com/job-listings-data-scientist-oracle-india-pvt-ltd-noida-bangalore-bengaluru-5-to-9-years-010621004567?src=jobsearchDesk&sid=16235991394098938&xp=16&px=1',\n",
       " 'https://www.naukri.com/job-listings-lead-data-scientist-fractal-analytics-pvt-ltd-gurgaon-gurugram-bangalore-bengaluru-mumbai-all-areas-10-to-15-years-110621003012?src=jobsearchDesk&sid=16235991394098938&xp=17&px=1',\n",
       " 'https://www.naukri.com/job-listings-data-scientist-visualization-aruba-networks-bangalore-bengaluru-4-to-8-years-090621501101?src=jobsearchDesk&sid=16235991394098938&xp=18&px=1',\n",
       " 'https://www.naukri.com/job-listings-data-scientist-fractal-analytics-ltd-mumbai-gurgaon-gurugram-bangalore-bengaluru-3-to-7-years-070621501457?src=jobsearchDesk&sid=16235991394098938&xp=19&px=1',\n",
       " 'https://www.naukri.com/job-listings-lead-data-scientist-bd-bangalore-bengaluru-2-to-7-years-310521500918?src=jobsearchDesk&sid=16235991394098938&xp=20&px=1']"
      ]
     },
     "execution_count": 125,
     "metadata": {},
     "output_type": "execute_result"
    }
   ],
   "source": [
    "job_opening_urls=[]\n",
    "url= driver1.find_elements_by_xpath('//a[@class=\"title fw500 ellipsis\"]')\n",
    "for i in url:\n",
    "    job_opening_urls.append(i.get_attribute(\"href\"))\n",
    "job_opening_urls"
   ]
  },
  {
   "cell_type": "code",
   "execution_count": 126,
   "metadata": {},
   "outputs": [
    {
     "data": {
      "text/plain": [
       "[\"Job Role : Data Scientist/Data Analyst /Business AnalystLocation : Chennai/Bangalore/Hyderabad/Pune/Mumbai/DelhiGreetings from CAIA - Center for Artificial Intelligence & Advanced Analytics43% of companies experienced a high deficit of skilled resources with Advanced Analytical skills and AI implementing capabilities in year 2020. CAIA gives you a great opportunity to enter the world of future technologies and Innovations- Data Science, Analytics, AI, Data Visualization and Cloud Computing.While 2020 was a year like no other, we are living in an interesting times where data is reshaping the world, and businesses are rapidly adopting technology to gain an edge over others. Hence, there's a substantial increase in demand for technology professionals who can implement systems in data science, machine learning and AI in Tier 1 and Tier 2 organization's working closely with us.To help you build a sustainable career we would like you to utilize data, software and Analytical approaches in Data Science and AI to up skill and get recruited into an organization appreciating your skilling journey.Applications invited from all Freshers and experienced candidates (0-3 yrs) aspiring to make a career in Artificial Intelligence and Advanced Analytics and Data Science.If you wish to make a shift in your career or undergo a career transition, upskilling is essential since it allows you to learn more about the domain and acquire the required skills.Call to schedule interview Monday -Saturday from 10:00 am to 7PmAlexandria A - +91 76958 88879Manigandan -+91 93444 57360Email :alexandriaa@centerforaia.commanigandan@centerforaia.comWhat is needed from you?Freshers who wish to start their career in Analytics and AI and professionals who wish toupskill or change their domain to analytics and emerging technologies are free to apply.An Educational background in any one of the following- BE/B.Tech, ME/M Tech, MSc, BSc/MSc Math's and Statistics, B Com, BCA, BSc CS, BSC IT, MSC IT, MCASkills relating to Mathematics/Statistics.Natural passion towards numbers, business, coding, Analytics and Artificial Intelligence, Machine Learning, visualizationGood verbal and written communication skillsAbility to understand domains in businesses across various sectorsSelection procedure includesAptitude Test & Communication Exam - Online / OfflineSQL/Python test - Online / OfflineCandidates who clears the above will have one-one discussion with our Career Guidance Manager for further evaluation and processing of your Resume.All the Shortlisted candidates will be eligible to continue the corporate training with CAIAWhat you can expect from us?You will get trained on the following modules for a period of 12-14 weeks:SQL & PLSQLData Wrangling using PythonData Visualization Using Power-BIStatistics for Machine LearningArtificial Intelligence, Data InterpretationSupervised & Unsupervised Learning,NLP & Deep LearningCloud Data LakeBusiness intelligence & Data VisualizationSimulation ProjectsExpected Outcome?At the end of the Training you are expected to be well versed with the following:Analysis of large and complex data sets from multiple sourcesDevelopment and evaluation of data analytics models, algorithms and solutionsUnderstanding/implementation of ML algorithms, performance tuning and reportingImplementation of algorithms to mine targeted data and the ability to convert data in to a business storyTranslation of business requirements into technical requirements; Data extraction, preparation and transformationIdentification, development and implementation of statistical techniques and algorithms that address business challenges and adds value to the organizationRequirement Analysis and communication of findings in the form of a meaningful story with the stakeholdersFinding analytical solutions to abstract business issues.Apply objective analysis of facts before coming to a conclusionAbout CAIA - Inflexion Analytix Private LimitedCenter for Artificial Intelligence and Advanced Analytics (Center for AIA) is the brainchild of experienced and visionary alumni of IIT Madras and Bombay.Digital leaders - 5F World and Systech Solutions have joined hands to create a venture for architecting the future of society, workforce, governments and businesses. 5F World specializes in designing solutions around digital platforms and Systech Solutions has an expertise in architecting Artificial Intelligence and Advance Analytics solutions for Fortune 500 companies.Our Website : http://www.centerforaia.com/https://inflexion-analytix-private-limited.business.site/?m=trueCenter for Artificial Intelligence & Advanced Analytics (CAIA) focuses on the following:1. Global Research on emerging trends, technologies and applications in AI and Advanced Analytics2. Advanced Training programs for readying the future ready workforce3. Solutions to herald the futuristic lifestyle and workspaces in the field of AI and Data Science.\",\n",
       " 'Key ResponsibilitiesBe responsible for scaling our analytics capability across all internal disciplines and guide our strategic direction in regards to analyticsOrganize and analyze large, diverse data sets across multiple platformsIdentify key insights and leverage them to inform and influence product strategyTechnical Interactions with vendor or partners in technical capacity for scope/ approach & deliverable.Develops proof of concept to prove or disprove validity of conceptWorking with all parts of the business to identify analytical requirements and formalize an approach for reliable, relevant, accurate, efficient reporting on those requirementsDesigning and implementing advanced statistical testing for customized problem solvingDeliver concise verbal and written explanations of analyses to senior management that elevate findings into strategic recommendations.Desired Candidate ProfileQualifications:MTech / BE / BTech / MSc in CS or Stats or Maths, Operation Research, Statistics, Econometrics or in any quantitative fieldExperience:3+ Years experience in analytical domainFunctional Competencies:Excellent analytics, logical, problem solving and numerical skillsExperience in using PythonExperience in working with large data sets and big data systems (SQL, Hadoop, Hive, etc.)Keen aptitude for large-scale data analysis with a passion for identifying key insights from dataExpert working knowledge in various machine learning algorithms such XGBoost, SVM Etc.,Expertise in Data Mining, Statistical Analysis, Regression, Logistics Regression, Segmentation, Time Series Forecasting, Market Basket Analysis, Decision Tree, CHAID, Test Mining, Hypothesis Testing, A/B Testing and ModelingPreferable to haveExperience in Credit risk analytics, Fraud analyticsExperience in Collections analytics, NPAAnalytical experience in Vehicle lending business (Two wheeler, Tractor, Car, Commercial) and unsecured loans.Customer Acquisition',\n",
       " 'Essential Duties ResponsibilitiesPerform basic descriptive data analysisImplement and assess different ways of data transformationFormulate business problems into math / statistics / machine-learning problemsBuild math / statistics / machine-learning models in a scientific wayCarry out hypothesis tests in a scientific wayDo model selection and model diagnosticsActively participate in research meetingsSupport the research team by creating desired datasetsQualificationsGood communication skillsExcellent analytical and data science skills with strong attention to detailGood Python programmers with good knowledge of pandas/numpy/sklearnGraduate level math and statistics knowledge is preferredKnowledge in machine learning, NLP knowledge is a plusAbility to communicate complex information clearlyAbility to work independentlyTeam player and open to new ideas',\n",
       " 'We are a group of tenured professors from Tier-1 business schools in US universities. We teach machine learning and deep learning to master and PhD students. For our efforts with MentorStudents.org, we are looking to hire a team of interns who are interested in learning data science and analyze data under our supervision.Hours commitment: at least 42.5 hrs/weekDuration of the internship: 3 monthsRequired skills: Communication skills, Python, and OOPPerks (besides getting paid): Learn from professors who teach machine learning in the US+ internship completion certificate+ endorsement of your candidacy to US companies for a remote job via our placement business unit+ networking (check out https://MentorStudents.org)Next step / TEST for Selection:This test will help you present your resume better and improve your employability. Hence, it is in your interest to work on this test. Create a tutorial in Google doc on how to create a timeline in Tableau Public. Use events from your resume as events for the timeline. You are encouraged to look at https://public.tableau.com/en-us/gallery for inspiration. Send your Google doc link at jobs [at] mentorstudents [dot] org. Make sure to make the link publicly accessible so that our team can evaluate your work.',\n",
       " 'About UsMorgan Stanley is a leading global financial services firm providing a wide range of investment banking, securities, investment management and wealth management services. We advise, originate, trade, manage and distribute capital for governments, institutions and individuals. As a market leader, the talent and passion of our people is critical to our success. Together, we share a common set of values rooted in integrity, excellence and strong team ethic. We provide you a superior foundation for building a professional career where you can learn, achieve and grow.Technology/Role/Department at Morgan StanleyTechnology is the key differentiator that ensures that we manage our global businesses and serve clients on a market leading platform that is resilient, safe, efficient, smart, fast and flexible. Technology redefines how we do business in global, complex and dynamic financial markets. We have a large number of award winning technology platforms that help to propel our Firm’s businesses to be the top in the market. Our India technology teams are based in Mumbai and Bengaluru. We have built strong techno-functional teams which partner with our offices globally taking global ownership of systems and products. We have a vibrant and diverse mix of technologists working on different technologies and functional domains. There is a large focus on innovation, inclusion, giving back to the community and sharing knowledge.Wealth Management Technology (WMIMT) is responsible for the design, development, delivery, and support of the technical platform behind the products and services used by the Business. Morgan Stanley Wealth Management (WM) is a product of the acquisition of Smith Barney from Citigroup, which was completed in June ‘13. Its core client base is individual investors, small- to medium-size businesses and institutions, and high net worth families and individuals. In the second half of ‘14, WM reached a milestone, with its business having surpassed $2 trillion in total client assets.We are seeking a Machine Learning Engineer with expertise in design and development of data and ML centric applications at scale. The right candidate would have a background in data engineering and requisite familiarity and experience working with Machine learning (ML) algorithms and Frameworks. The role is a confluence of engineering (programming), ML and data analysis. Knowledge of Data Science is a plus. This position is for the Decision products which is part of Artificial Intelligence and Knowledge Management group within Morgan Stanley Wealth Management. The team is comprised of members located in NY-United States, Mumbai-India and Bengaluru-India. The team partners with various businesses and IT groups within firm to develop analytics and ML powered solutions aimed at targeting Clients, Participants and Financial Advisors with relevant recommendations. The team accumulates data from a variety of internal and external upstream systems in order to develop statistics, models, dashboards and metrics for the Digital Platforms team.The right candidate has (Responsibilities)• Create ML model training, validation and hyper-parameter search pipelines• Explore new data sources and data. Select appropriate datasets and their representation methods. Perform data analysis (statistical and otherwise), to derive inferences from data• Design machine learning systems, and oversee the platform on which the solutions would be deployed• Ensure data integrity through – Data quality, validation, Governance and Transparency• Design and Build distributed, scalable, and reliable data pipelines that ingest and process data at scale and in real-time• Production deployment and Model monitoring to ensure stable performance and adherence to standards• Evaluate state-of-art data-centric technologies and prototype solutions to improve our architecture and platform• Understand data visualization to create meaningful dashboards for end-usersQualifications - ExternalPrimary skills• Experienced professional with 8-15 years of experience developing and implementing ML models in Big data ecosystem i.e. Hadoop, Spark, Kafka, HBase, Hive / Impala, Cassandra, MongoDB or any other similar distributed computing technology• Proficiency with Scala / Python and basic libraries for machine learning such as scikit-learn, pandas, deep-learning• Proficiency in data analysis using complex and optimized SQL and / or above mentioned technologies• Understanding of data structures, data modeling and software architecture• Experience in architecture, design and implementation of data intensive applications for practical use-cases• Expertise in visualizing large datasets in an efficient manner• Ability to work in fast paced and dynamic environment• Good written and verbal communication skillsGood to have skills• In-depth understanding of Machine Learning and Statistics, in addition to above• Experience in domains – Financial Risk and Log Analytics• Worked on large scale Anomaly Detection use cases• Practical knowledge of Natural Language Processing (NLP) and/or Neural network implementation• Tableau for data visualization• Experience working in an Agile environmentIf you are interested, please respond with your updated resume along with below mentioned details.CTC:Exp:Notice:Have you earlier worked with Morgan Stanley:',\n",
       " 'As a Senior Data Scientist for Walmart Labs, you ll have the opportunity toDrive data-derived insights across the wide range of problem statements by developing advanced statistical models, machine learning algorithms, optimisation techniques, and computational algorithms based on business initiativesDirect the gathering of data, assessing data validity and synthesising data into large analytics datasets to support project goalsUtilize big data analytics and advanced data science techniques to identify trends, patterns, and discrepancies in data. Determine additional data needed to support insightsBuild and train statistical models and machine learning algorithms for replication for future projectsCommunicate recommendations to business partners and influencing plans based on insightsYour ResponsibilityPlay a key role to solve complex problems, pivotal to Walmart s business and drive actionable insights from petabytes of dataUtilize product mindset to build, scale and deploy holistic data science products after successful prototypingDemonstrate incremental solution approach with agile and flexible ability to overcome practical problemsLead small teams and participate in data science project teams by serving as the technical lead for projectPartner with senior team members to assess customer needs and define business questionsClearly articulate and present recommendations to business partners, and influence plans based on insightsPartner and engage with associates in other regions for delivering best services to the customers around the globeWork with customer centric mindset to deliver high quality business drive analytic solutionMentor peers and analysts across the division in analytical best practicesDrive innovation in approach, method, practices, process, outcome, delivery, or any component of end-to-end problem solvingPromote and support company policies, procedures, mission, values, and standards of ethics and integrityOur Ideal CandidateYou are a technically strong and high performing individual with excellent communication skills, proven analytical skill set and strong customer focus. You stay updated with latest research and technology ideas and have a passion to utilize innovative ways to solve problems. You are a good storyteller and able to simply articulate the intricacies of your models as well as explain your results clearly to stakeholders. You have industry knowledge of the real estate/facility/energy/domain space, with keen interest in keeping up to date on the latest happenings in this space.Your QualificationsBachelors with > 8 years of relevant experience OR Masters with > 6 years of relevant experience OR PhD in Comp Science / Statistics / Mathematics / Econometrics with > 3 years of relevant experienceExperience in Analysing the Complex Problems and translate it into data science algorithmsExperience in machine learning, supervised and unsupervised: Forecasting, Classification, Data/Text Mining, NLP, Decision Trees, Adaptive Decision Algorithms, Random Forest, Search Algorithms, Neural Networks, Deep Learning AlgorithmsExperience in statistical learning: Predictive Prescriptive Analytics, Web Analytics, Parametric and Non-parametric models, Regression, Time Series, Dynamic/Causal Model, Statistical Learning, Guided Decisions, Topic ModelingExperience with Optimisation techniques: linear programming, integer programming, genetic algorithm, constrained optimisationExperience with big data analytics - identifying trends, patterns, and outliers in large volumes of dataLead role mentoring multiple Jr. Analysts on approach and results.Experience with Python, Pyspark, Tensorflow, PyTorch or other related big data and machine learning technologies to design and develop robust high-performance and scalable applicationsStrong hands on experience with ML products like Databricks, Azure ML, AlteryxStrong hands on experience with big data platforms - Hive, Pig, HQL, Scala, Spark, ScalaExperience with one or more of optimisation toolkits/libraries like CPLEX, Gurobi, Open source solvers (CBC, GLPK)Experience in large scale optimisation, heuristics, decomposition methods for solving large scale problems, real time optimisation, Reinforcement learningExperience with Teradata, SQL and relational databases, data warehouseAdditional Preferred Qualifications:Domain expertise in Retail, Merchandising, or PricingPublished papers or given talks in leading academic and research journalsPublished papers or given talks in Data Science ForumsHold data science related patentsExperience with data warehouse platforms - No SQL Databases (Cassandra)Experience with GPU/CUDA for computational efficiency',\n",
       " 'The Senior Data Scientist is an exciting role in the Data Science Centre of Excellence (CoE) team within DA. This team builds state of the art machine learning algorithms, maximising the impact of DAu2019s solutions in driving enterprise performance. Typical initiatives include optimizing trade promotion investments, accurately forecasting customer demand, using NLP to glean insight on consumer trends from search data, and making individual assortment recommendations for each of the millions of stores that sell the company products. The role will work closely with a DA functional team such as Customer Development or Supply Chain along with business stakeholders, addressing both large transformation programs and near-term business problems.The Senior Data Scientist improves business performance in the functional area of the company they serve, through the application of world class data science capability. They own planning and delivery of data science on moderate projects or specific modules of a major global initiative.Key Accountabilities:Interact with relevant teams to identify business challenges where data science can helpApply comprehensive data science knowledge to propose optimal techniques for key business challengesCreate detailed data science proposals and project plans, flagging any limitations of proposed solutionDesign and prototype experimental solutions, particularly machine learning modelsDesign scaled solutions and ensure high quality and timely deliveryFacilitate industrialization and ongoing operation of solutions through well organised code, clear documentation and collaboration with ML Ops resourcesGovern the work of 3rd party vendors where needed to support delivery, while maximising creation of the company IPRepresent Data Science in cross-functional governance of projects, engaging with stakeholders up to Director levelHighlight recent developments in data science capability which could solve additional challengesLead a team of up to 5 data scientists (WL2B) or 1-2 data scientists / interns (WL2A), providing career mentorship and line managementProvide technical guidance to data scientists across DA, particularly on the projects you leadSupport the growth of DAu2019s data science capability by contributing to activities such as tool and vendor selection, best practice definition, recruitment, and creation of training materialsBuild the reputation of DAu2019s data science capability within the company and externally, through activities such as community engagement (e.g. Yammer), publications or blogsProvide ad-hoc immediate support to the business when needed (for example Covid-19 crisis support)Depending on the specific project, the Senior Data Scientist can expect 60-90% of their work to be hands-on prototyping solutions, with the remainder spent planning and designing, overseeing and reviewing work of project staff, interfacing with stakeholders and managing team members.',\n",
       " 'Responsibilities: -Contribute across dierent stages of deep learning model development including data collection, data cleaning, model development, validation and deployment .Develop deep learning models for a wide variety of tasks spanning object detection, segmentation, tracking, synthesise and so on.Continuously improve the quality and performance of existing deep learning models by applying latest research in the eld.Contribute in developing models in areas like self-supervised and semi-supervised learning.Skills/RequirementsRequired Skills:Prior experience developing deep learning models for computer vision applications. Hands on experience in areas like image classication, object detection and instance segmentation .Understanding of deep learning fundamentals including network architectures, training artefacts, overtting and regularisation in neural networks, batch normalisation and so on.Prociency in python.Prociency in numpy and opencv.Procient in at least one of the deep learning frameworks e.g. PyTorch, MxNet or Tensorow .Familiarity contributing and maintaining code in github.Understanding of SQL and docker technology is a bonus.Educational Background:B.Tech/M.Tech (Optional), B.Sc./M.Sc., Computer Science, Maths, Statistics or equivalent eld',\n",
       " \"Roles and Responsibilities- Create an industry-changing product from scratch without any technology constraints- Design, develop and implement advanced data-driven approaches including NLP, machine learning algorithms, text mining, etc.- Design, develop and implement R&D and pre-product prototype solutions- Selecting features, building and optimizing classifiers using machine learning techniques- Data mining using state-of-the-art methods- Processing, cleansing, and verifying the integrity of data used for analysis- Doing ad-hoc analysis and presenting results in a clear mannerDesired Candidate Profile- Excellent understanding of machine learning techniques and algorithms, such as k-NN, Naive Bayes, SVM, Decision Forests, etc.- Experience in neural networks, regression, classification, and clustering- Experience of handling various data types and structures: structured and unstructured data, validating and cleaning data, and measuring evaluation- Proficiency in programming languages like Python/C/C++/Java- Experience with common data science toolkits, such as Pandas, Jupyter, Spark etc. Excellence in at least one of these is highly desirable- Experience with data visualization tools, such as D3.js, GGplot, etc.- Experience with relational databases and proficiency in using query languages such as SQL.- Good to have experience with NoSQL databases, such as MongoDB, Elasticsearch, etc- Good applied statistics skills, such as distributions, statistical testing, regression, etc.- Good problem-solving skills- Data-oriented personality- Great communication skills- Bachelor's/Masters/ Ph.D. degree in Computer Science- 3+ years of hands-on AI or ML system development experience on real-world industry problems, with a fundamental understanding of Data Science theory and conceptsPerks and BenefitsYou will full ownership to explore your technical expertiseYou will get ample opportunities to interact and get feedback from Senior executives from client organizations.Expect to climb ladders of Success with usPerformance link Bonus\",\n",
       " '  Position Responsibilitieso Solve business problems by applying advanced Machine Learning algorithms and complex statistical models on large volumes of data.o Build, scale and deploy holistic data science products after successful prototyping.o Clearly articulate and present recommendations to business partners, and influence future plans based on insights.o Follow industry best practices, stay up to date with the state of the art in machine learning research and practice, drive innovation by contributing to the latest applied research in data science through publications and patents.o Promote and support company policies, procedures, mission, values, and standards of ethics and integrity.Position Requirementso Deep knowledge of the foundations of machine learning and statistics - can easily understand and implement a machine learning research paper.o Solid experience working with state-of-the-art supervised and unsupervised machine learning algorithms on real-world problems, preferably in ecommerce domain.o Strong Python coding skills and able to work with at least one other programming language such as Java/Scala.o Ability to work in a big data ecosystem - expert in SQL/Hive and ability to work with Spark.o Strong ability to understand the business and good stakeholder management capabilities.o Qualificationso PhD with > 2 years of experience / 4-year bachelor s degree with > 7 years of experience / Master s degree with > 5 years of experience. Educational qualifications should be preferably in Computer Science or a related area. Experience should be relevant to the role.o Good to have:o Experience in ecommerce domain.o Demonstrated success in data science platforms like Kaggle.',\n",
       " 'Position Description:The Artificial Intelligence and Machine Learning (AIML) group at Fractal Analytics is actively involved in helping Fortune 500 companies by enabling them to discover how they can leverage their data using advanced and sophisticated AI/ML algorithms for which we are looking for Data Scientists with the capability to work on independent statistical and machine learning research/ projects. If you are a problem solver with a curiosity for exploring new techniques and technologies in AIML space, then we would like to talk with you.Job Responsibilities:Ability to understand a problem statement and implement analytical solutions & techniques independently with independently/proactively/thought-leadershipWork with stakeholders throughout the organization to identify opportunities for leveraging company/client data to drive business solutionsFast learner: ability to learn and pick up a new language/tool/ platform quicklyConceptualize, design, and deliver high-quality solutions and insightful analysisConduct research and prototyping innovations; data and requirements gathering; solution scoping and architecture; consulting clients and client facing teams on advanced statistical and machine learning problemsCollaborate and coordinate with different functional teams (engineering and product development) to implement models and monitor outcomesAbility to deliver AIML based solutions around a host of domains and problems, with some of them being: Customer Segmentation & Targeting, Propensity Modeling, Churn Modeling, Lifetime Value Estimation, Forecasting, Recommender Systems, Modeling Response to Incentives, Marketing Mix Optimization, Price OptimizationExperience Required:Minimum 10+ years of experience in Machine Learning domainExpert level proficiency in at least one of R and PythonAbility to create efficient solutions to complex problems. Strong skills in data-structures and ML algorithmsExperience of working on end-to-end data science pipeline: problem scoping, data gathering, EDA, modelling, insights, visualizations, monitoring and maintenanceProblem-solving: Ability to break the problem into small parts and applying relevant techniques to drive required outcomesIntermediate to advanced knowledge of machine learning, probability theory, statistics, and algorithms. You will be required to discuss and use various algorithms and approaches on a daily basisWe use regression, Bayesian methods, tree-based learners, SVM, RF, XGBOOST, time series modeling, dimensionality reduction, SEM, GLM, GLMM, clustering, Deep learning etc. on a regular basis. If you know few of them you are good to goGood to Have:Experience in one of the upcoming technologies like deep learning, NLP, image processing, recommender systemsExperience of working in on one or more domains:CPG: pricing and promotion analytics, marketing analytics, trade promotions, supply chain managementBFSI: cross-sell, up-sell, campaign analytics, treasury analytics, fraud detectionHealthcare: medical adherence, medical risk profiling, EHR data, fraud-waste-abuseExperience in working with Linux computing environment and use of command line tools like sed/awkGood grasp on databases including RDBMS, NoSQL, MongoDB etc.',\n",
       " 'What Youll DoCreate captivating and meaningful data visualizations and UI/UX partnerships that help our customers intuitively grasp their network operational dataVisualize raw data, aggregated data, insight data, and machine learning model dataPrototype visualizations for purposes of data exploration, showcasing, and product useCollaborate closely with data scientists and domain expertsInterface with UX team to translate prototype visualizations into web applicationsAssist UI frontend team with correct implementation of prototypesExtract, transform load raw data for the purpose of data exploration and visualizationOur Minimum Requirements for this role areM.S. in Computer Science or another data-oriented discipline, with a specialization in data visualizationProven track record in translating raw data into memorable interactive visualizationsIndustry experience building interactive data visualizations in web-based productsSolid data science toolbox, machine learning practitionerFluent in Python, familiar with Apache Spark for wrangling big dataExperience with software engineering best practicesAdditional preferred skillsAngular, ReactJSProficiency in big data computing infrastructure (Kubernetes / Hadoop ecosystem)',\n",
       " 'Job ResponsibilitiesAbility to understand a problem statement and implement analytical solutions techniques independently with independently / proactively / thought-leadership.Work with stakeholders throughout the organization to identify opportunities for leveraging company/client data to drive business solutions.Fast learner: ability to learn and pick up a new language/tool/ platform quickly.Conceptualize, design, and deliver high-quality solutions and insightful analysis.Conduct research and prototyping innovations; data and requirements gathering; solution scoping and architecture; consulting clients and client facing teams on advanced statistical and machine learning problems.Collaborate and Coordinate with different functional teams(engineering and product development) to implement models and monitor outcomes.Ability to deliver AIML based solutions around a host of domains and problems, with some of them being: Customer Segmentation Targeting, Propensity Modeling, Churn Modeling, Lifetime Value Estimation, Forecasting, Recommender Systems, Modeling Response to Incentives, Marketing Mix Optimization, Price OptimizationExperience Required:Expert level proficiency in at least one of R and Python.Ability to create efficient solutions to complex problems. Strong skills in data-structures and ML algorithms.Experience of working on end-to-end data science pipeline: problem scoping, data gathering, EDA, modelling, insights, visualizations, monitoring and maintenance.Problem-solving: Ability to break the problem into small parts and applying relevant techniques to drive required outcomes.Intermediate to advanced knowledge of machine learning, probability theory, statistics, and algorithms. You will be required to discuss and use various algorithms and approaches on a daily basis.We use regression, Bayesian methods, tree-based learners, SVM, RF, XGBOOST, time series modeling, dimensionality reduction, SEM, GLM, GLMM, clustering, Deep learning etc. on a regular basis. If you know few of them you are good to go.Good to Have:Experience in one of the upcoming technologies like deep learning, NLP, image processing, recommender systemsExperience of working in on one or more domains:CPG: pricing and promotion analytics, marketing analytics, trade promotions, supply chain managementBFSI: cross-sell, up-sell, campaign analytics, treasury analytics, fraud detectionHealthcare: medical adherence, medical risk profiling, EHR data, fraud-waste-abuseExperience in working with Linux computing environment and use of command line tools like sed/awkGood grasp on databases including RDBMS, NoSQL, MongoDB etc. ',\n",
       " 'BD (Becton, Dickinson and Company) Jobs - Lead Data Scientist in Bangalore, India BD (Becton, Dickinson and Company) Jobs BD (Becton, Dickinson and Company)Job Description SummaryAs a member of the BD Advanced Analytics team, the Data Scientist role will collect, interpret, and deploy predictive analytics and machine learning models to assist our business partners in delivering advanced data analytics solutions to address key strategic business initiatives. The primary focus being the development and deployment of actionable insights that have a positive impact on BD s business operations.Job DescriptionEvaluating business requirements and developing compelling user stories in collaboration with business stakeholders across various functions and regionsCollecting, interpreting, preparing and modelling data to provide actionable insightsPrototyping advanced data analytics solutions for presentation to business partners and stakeholdersApplying predictive analytics and machine learning methods and techniques appropriately to address business requirementsProvide expertise to guide business stakeholders in identifying opportunities for the use of BD s data assets for the purpose of advanced data analyticsWork closely with data engineering and DataOps peers to productionalize advanced data analytics use casesQualificationsMaster s degree in STEM field or equivalent demonstrated work experienceExperience with Python, R, Hadoop, HIVE, SPARK, Jupyter and related advanced analytics / machine learning libraries (Scikitlearn, Tensorflow, Keras, )Minimum 2 years of relevant work experienceAbility to translate complex solutions to a non-technical audience (storytelling visualization)Expertise in machine learning, neural networks, clustering, classification, regression and other common advanced analytics methods and techniquesMature competency for critical thinking, problem solving, working with ambiguity, communications and collaborationExperience with technologies related to data preparation, processing optimization (e.g. Azure, HQL, SPARK SQL)Experience with data visualization tools (Power BI)Flexibility to accommodate meetings with international stakeholders in their respective time-zoneIND Bangalore - Technology CampusBD is a leading global medical technology company that creates medical technology, devices and laboratory equipment for a variety of needs across the healthcare continuum. At BD, we are looking for candidates who possess passion, innovative solutions and a commitment to our one mission of improving access to groundbreaking medical and biotechnology services for people near and far, delivering state-of-the-art technology and cutting-edge research in the battle to fight and cure infectious diseases. With a global reach that extends across 50 countries worldwide, our network of professionals collaborates on effective measures to deliver enhanced patient quality such as lower health care delivery costs, improved health care and safety, and expanded health care for all. Join our company and see how you can become a part of one global mission to make a difference in human health.Becton, Dickinson and Company is an Equal Opportunity/Affirmative Action Employer. We do not unlawfully discriminate on the basis of race, color, religion, age, sex, creed, national origin, ancestry, citizenship status, marital or domestic or civil union status, familial status, affectional or sexual orientation, gender identity or expression, genetics, disability, military eligibility or veteran status, or any other protected status.']"
      ]
     },
     "execution_count": 126,
     "metadata": {},
     "output_type": "execute_result"
    }
   ],
   "source": [
    "job_description=[]\n",
    "for i in job_opening_urls:\n",
    "    driver1.get(i)\n",
    "    job_description_tags=driver1.find_elements_by_xpath(\"//div[@class='dang-inner-html']\")\n",
    "    for i in job_description_tags:\n",
    "        job_description.append(i.text.replace(\"\\n\",''))\n",
    "job_description"
   ]
  },
  {
   "cell_type": "code",
   "execution_count": 127,
   "metadata": {},
   "outputs": [
    {
     "data": {
      "text/plain": [
       "[\"Job Role : Data Scientist/Data Analyst /Business AnalystLocation : Chennai/Bangalore/Hyderabad/Pune/Mumbai/DelhiGreetings from CAIA - Center for Artificial Intelligence & Advanced Analytics43% of companies experienced a high deficit of skilled resources with Advanced Analytical skills and AI implementing capabilities in year 2020. CAIA gives you a great opportunity to enter the world of future technologies and Innovations- Data Science, Analytics, AI, Data Visualization and Cloud Computing.While 2020 was a year like no other, we are living in an interesting times where data is reshaping the world, and businesses are rapidly adopting technology to gain an edge over others. Hence, there's a substantial increase in demand for technology professionals who can implement systems in data science, machine learning and AI in Tier 1 and Tier 2 organization's working closely with us.To help you build a sustainable career we would like you to utilize data, software and Analytical approaches in Data Science and AI to up skill and get recruited into an organization appreciating your skilling journey.Applications invited from all Freshers and experienced candidates (0-3 yrs) aspiring to make a career in Artificial Intelligence and Advanced Analytics and Data Science.If you wish to make a shift in your career or undergo a career transition, upskilling is essential since it allows you to learn more about the domain and acquire the required skills.Call to schedule interview Monday -Saturday from 10:00 am to 7PmAlexandria A - +91 76958 88879Manigandan -+91 93444 57360Email :alexandriaa@centerforaia.commanigandan@centerforaia.comWhat is needed from you?Freshers who wish to start their career in Analytics and AI and professionals who wish toupskill or change their domain to analytics and emerging technologies are free to apply.An Educational background in any one of the following- BE/B.Tech, ME/M Tech, MSc, BSc/MSc Math's and Statistics, B Com, BCA, BSc CS, BSC IT, MSC IT, MCASkills relating to Mathematics/Statistics.Natural passion towards numbers, business, coding, Analytics and Artificial Intelligence, Machine Learning, visualizationGood verbal and written communication skillsAbility to understand domains in businesses across various sectorsSelection procedure includesAptitude Test & Communication Exam - Online / OfflineSQL/Python test - Online / OfflineCandidates who clears the above will have one-one discussion with our Career Guidance Manager for further evaluation and processing of your Resume.All the Shortlisted candidates will be eligible to continue the corporate training with CAIAWhat you can expect from us?You will get trained on the following modules for a period of 12-14 weeks:SQL & PLSQLData Wrangling using PythonData Visualization Using Power-BIStatistics for Machine LearningArtificial Intelligence, Data InterpretationSupervised & Unsupervised Learning,NLP & Deep LearningCloud Data LakeBusiness intelligence & Data VisualizationSimulation ProjectsExpected Outcome?At the end of the Training you are expected to be well versed with the following:Analysis of large and complex data sets from multiple sourcesDevelopment and evaluation of data analytics models, algorithms and solutionsUnderstanding/implementation of ML algorithms, performance tuning and reportingImplementation of algorithms to mine targeted data and the ability to convert data in to a business storyTranslation of business requirements into technical requirements; Data extraction, preparation and transformationIdentification, development and implementation of statistical techniques and algorithms that address business challenges and adds value to the organizationRequirement Analysis and communication of findings in the form of a meaningful story with the stakeholdersFinding analytical solutions to abstract business issues.Apply objective analysis of facts before coming to a conclusionAbout CAIA - Inflexion Analytix Private LimitedCenter for Artificial Intelligence and Advanced Analytics (Center for AIA) is the brainchild of experienced and visionary alumni of IIT Madras and Bombay.Digital leaders - 5F World and Systech Solutions have joined hands to create a venture for architecting the future of society, workforce, governments and businesses. 5F World specializes in designing solutions around digital platforms and Systech Solutions has an expertise in architecting Artificial Intelligence and Advance Analytics solutions for Fortune 500 companies.Our Website : http://www.centerforaia.com/https://inflexion-analytix-private-limited.business.site/?m=trueCenter for Artificial Intelligence & Advanced Analytics (CAIA) focuses on the following:1. Global Research on emerging trends, technologies and applications in AI and Advanced Analytics2. Advanced Training programs for readying the future ready workforce3. Solutions to herald the futuristic lifestyle and workspaces in the field of AI and Data Science.\",\n",
       " 'Key ResponsibilitiesBe responsible for scaling our analytics capability across all internal disciplines and guide our strategic direction in regards to analyticsOrganize and analyze large, diverse data sets across multiple platformsIdentify key insights and leverage them to inform and influence product strategyTechnical Interactions with vendor or partners in technical capacity for scope/ approach & deliverable.Develops proof of concept to prove or disprove validity of conceptWorking with all parts of the business to identify analytical requirements and formalize an approach for reliable, relevant, accurate, efficient reporting on those requirementsDesigning and implementing advanced statistical testing for customized problem solvingDeliver concise verbal and written explanations of analyses to senior management that elevate findings into strategic recommendations.Desired Candidate ProfileQualifications:MTech / BE / BTech / MSc in CS or Stats or Maths, Operation Research, Statistics, Econometrics or in any quantitative fieldExperience:3+ Years experience in analytical domainFunctional Competencies:Excellent analytics, logical, problem solving and numerical skillsExperience in using PythonExperience in working with large data sets and big data systems (SQL, Hadoop, Hive, etc.)Keen aptitude for large-scale data analysis with a passion for identifying key insights from dataExpert working knowledge in various machine learning algorithms such XGBoost, SVM Etc.,Expertise in Data Mining, Statistical Analysis, Regression, Logistics Regression, Segmentation, Time Series Forecasting, Market Basket Analysis, Decision Tree, CHAID, Test Mining, Hypothesis Testing, A/B Testing and ModelingPreferable to haveExperience in Credit risk analytics, Fraud analyticsExperience in Collections analytics, NPAAnalytical experience in Vehicle lending business (Two wheeler, Tractor, Car, Commercial) and unsecured loans.Customer Acquisition',\n",
       " 'Essential Duties ResponsibilitiesPerform basic descriptive data analysisImplement and assess different ways of data transformationFormulate business problems into math / statistics / machine-learning problemsBuild math / statistics / machine-learning models in a scientific wayCarry out hypothesis tests in a scientific wayDo model selection and model diagnosticsActively participate in research meetingsSupport the research team by creating desired datasetsQualificationsGood communication skillsExcellent analytical and data science skills with strong attention to detailGood Python programmers with good knowledge of pandas/numpy/sklearnGraduate level math and statistics knowledge is preferredKnowledge in machine learning, NLP knowledge is a plusAbility to communicate complex information clearlyAbility to work independentlyTeam player and open to new ideas',\n",
       " 'We are a group of tenured professors from Tier-1 business schools in US universities. We teach machine learning and deep learning to master and PhD students. For our efforts with MentorStudents.org, we are looking to hire a team of interns who are interested in learning data science and analyze data under our supervision.Hours commitment: at least 42.5 hrs/weekDuration of the internship: 3 monthsRequired skills: Communication skills, Python, and OOPPerks (besides getting paid): Learn from professors who teach machine learning in the US+ internship completion certificate+ endorsement of your candidacy to US companies for a remote job via our placement business unit+ networking (check out https://MentorStudents.org)Next step / TEST for Selection:This test will help you present your resume better and improve your employability. Hence, it is in your interest to work on this test. Create a tutorial in Google doc on how to create a timeline in Tableau Public. Use events from your resume as events for the timeline. You are encouraged to look at https://public.tableau.com/en-us/gallery for inspiration. Send your Google doc link at jobs [at] mentorstudents [dot] org. Make sure to make the link publicly accessible so that our team can evaluate your work.',\n",
       " 'About UsMorgan Stanley is a leading global financial services firm providing a wide range of investment banking, securities, investment management and wealth management services. We advise, originate, trade, manage and distribute capital for governments, institutions and individuals. As a market leader, the talent and passion of our people is critical to our success. Together, we share a common set of values rooted in integrity, excellence and strong team ethic. We provide you a superior foundation for building a professional career where you can learn, achieve and grow.Technology/Role/Department at Morgan StanleyTechnology is the key differentiator that ensures that we manage our global businesses and serve clients on a market leading platform that is resilient, safe, efficient, smart, fast and flexible. Technology redefines how we do business in global, complex and dynamic financial markets. We have a large number of award winning technology platforms that help to propel our Firm’s businesses to be the top in the market. Our India technology teams are based in Mumbai and Bengaluru. We have built strong techno-functional teams which partner with our offices globally taking global ownership of systems and products. We have a vibrant and diverse mix of technologists working on different technologies and functional domains. There is a large focus on innovation, inclusion, giving back to the community and sharing knowledge.Wealth Management Technology (WMIMT) is responsible for the design, development, delivery, and support of the technical platform behind the products and services used by the Business. Morgan Stanley Wealth Management (WM) is a product of the acquisition of Smith Barney from Citigroup, which was completed in June ‘13. Its core client base is individual investors, small- to medium-size businesses and institutions, and high net worth families and individuals. In the second half of ‘14, WM reached a milestone, with its business having surpassed $2 trillion in total client assets.We are seeking a Machine Learning Engineer with expertise in design and development of data and ML centric applications at scale. The right candidate would have a background in data engineering and requisite familiarity and experience working with Machine learning (ML) algorithms and Frameworks. The role is a confluence of engineering (programming), ML and data analysis. Knowledge of Data Science is a plus. This position is for the Decision products which is part of Artificial Intelligence and Knowledge Management group within Morgan Stanley Wealth Management. The team is comprised of members located in NY-United States, Mumbai-India and Bengaluru-India. The team partners with various businesses and IT groups within firm to develop analytics and ML powered solutions aimed at targeting Clients, Participants and Financial Advisors with relevant recommendations. The team accumulates data from a variety of internal and external upstream systems in order to develop statistics, models, dashboards and metrics for the Digital Platforms team.The right candidate has (Responsibilities)• Create ML model training, validation and hyper-parameter search pipelines• Explore new data sources and data. Select appropriate datasets and their representation methods. Perform data analysis (statistical and otherwise), to derive inferences from data• Design machine learning systems, and oversee the platform on which the solutions would be deployed• Ensure data integrity through – Data quality, validation, Governance and Transparency• Design and Build distributed, scalable, and reliable data pipelines that ingest and process data at scale and in real-time• Production deployment and Model monitoring to ensure stable performance and adherence to standards• Evaluate state-of-art data-centric technologies and prototype solutions to improve our architecture and platform• Understand data visualization to create meaningful dashboards for end-usersQualifications - ExternalPrimary skills• Experienced professional with 8-15 years of experience developing and implementing ML models in Big data ecosystem i.e. Hadoop, Spark, Kafka, HBase, Hive / Impala, Cassandra, MongoDB or any other similar distributed computing technology• Proficiency with Scala / Python and basic libraries for machine learning such as scikit-learn, pandas, deep-learning• Proficiency in data analysis using complex and optimized SQL and / or above mentioned technologies• Understanding of data structures, data modeling and software architecture• Experience in architecture, design and implementation of data intensive applications for practical use-cases• Expertise in visualizing large datasets in an efficient manner• Ability to work in fast paced and dynamic environment• Good written and verbal communication skillsGood to have skills• In-depth understanding of Machine Learning and Statistics, in addition to above• Experience in domains – Financial Risk and Log Analytics• Worked on large scale Anomaly Detection use cases• Practical knowledge of Natural Language Processing (NLP) and/or Neural network implementation• Tableau for data visualization• Experience working in an Agile environmentIf you are interested, please respond with your updated resume along with below mentioned details.CTC:Exp:Notice:Have you earlier worked with Morgan Stanley:',\n",
       " 'As a Senior Data Scientist for Walmart Labs, you ll have the opportunity toDrive data-derived insights across the wide range of problem statements by developing advanced statistical models, machine learning algorithms, optimisation techniques, and computational algorithms based on business initiativesDirect the gathering of data, assessing data validity and synthesising data into large analytics datasets to support project goalsUtilize big data analytics and advanced data science techniques to identify trends, patterns, and discrepancies in data. Determine additional data needed to support insightsBuild and train statistical models and machine learning algorithms for replication for future projectsCommunicate recommendations to business partners and influencing plans based on insightsYour ResponsibilityPlay a key role to solve complex problems, pivotal to Walmart s business and drive actionable insights from petabytes of dataUtilize product mindset to build, scale and deploy holistic data science products after successful prototypingDemonstrate incremental solution approach with agile and flexible ability to overcome practical problemsLead small teams and participate in data science project teams by serving as the technical lead for projectPartner with senior team members to assess customer needs and define business questionsClearly articulate and present recommendations to business partners, and influence plans based on insightsPartner and engage with associates in other regions for delivering best services to the customers around the globeWork with customer centric mindset to deliver high quality business drive analytic solutionMentor peers and analysts across the division in analytical best practicesDrive innovation in approach, method, practices, process, outcome, delivery, or any component of end-to-end problem solvingPromote and support company policies, procedures, mission, values, and standards of ethics and integrityOur Ideal CandidateYou are a technically strong and high performing individual with excellent communication skills, proven analytical skill set and strong customer focus. You stay updated with latest research and technology ideas and have a passion to utilize innovative ways to solve problems. You are a good storyteller and able to simply articulate the intricacies of your models as well as explain your results clearly to stakeholders. You have industry knowledge of the real estate/facility/energy/domain space, with keen interest in keeping up to date on the latest happenings in this space.Your QualificationsBachelors with > 8 years of relevant experience OR Masters with > 6 years of relevant experience OR PhD in Comp Science / Statistics / Mathematics / Econometrics with > 3 years of relevant experienceExperience in Analysing the Complex Problems and translate it into data science algorithmsExperience in machine learning, supervised and unsupervised: Forecasting, Classification, Data/Text Mining, NLP, Decision Trees, Adaptive Decision Algorithms, Random Forest, Search Algorithms, Neural Networks, Deep Learning AlgorithmsExperience in statistical learning: Predictive Prescriptive Analytics, Web Analytics, Parametric and Non-parametric models, Regression, Time Series, Dynamic/Causal Model, Statistical Learning, Guided Decisions, Topic ModelingExperience with Optimisation techniques: linear programming, integer programming, genetic algorithm, constrained optimisationExperience with big data analytics - identifying trends, patterns, and outliers in large volumes of dataLead role mentoring multiple Jr. Analysts on approach and results.Experience with Python, Pyspark, Tensorflow, PyTorch or other related big data and machine learning technologies to design and develop robust high-performance and scalable applicationsStrong hands on experience with ML products like Databricks, Azure ML, AlteryxStrong hands on experience with big data platforms - Hive, Pig, HQL, Scala, Spark, ScalaExperience with one or more of optimisation toolkits/libraries like CPLEX, Gurobi, Open source solvers (CBC, GLPK)Experience in large scale optimisation, heuristics, decomposition methods for solving large scale problems, real time optimisation, Reinforcement learningExperience with Teradata, SQL and relational databases, data warehouseAdditional Preferred Qualifications:Domain expertise in Retail, Merchandising, or PricingPublished papers or given talks in leading academic and research journalsPublished papers or given talks in Data Science ForumsHold data science related patentsExperience with data warehouse platforms - No SQL Databases (Cassandra)Experience with GPU/CUDA for computational efficiency',\n",
       " 'The Senior Data Scientist is an exciting role in the Data Science Centre of Excellence (CoE) team within DA. This team builds state of the art machine learning algorithms, maximising the impact of DAu2019s solutions in driving enterprise performance. Typical initiatives include optimizing trade promotion investments, accurately forecasting customer demand, using NLP to glean insight on consumer trends from search data, and making individual assortment recommendations for each of the millions of stores that sell the company products. The role will work closely with a DA functional team such as Customer Development or Supply Chain along with business stakeholders, addressing both large transformation programs and near-term business problems.The Senior Data Scientist improves business performance in the functional area of the company they serve, through the application of world class data science capability. They own planning and delivery of data science on moderate projects or specific modules of a major global initiative.Key Accountabilities:Interact with relevant teams to identify business challenges where data science can helpApply comprehensive data science knowledge to propose optimal techniques for key business challengesCreate detailed data science proposals and project plans, flagging any limitations of proposed solutionDesign and prototype experimental solutions, particularly machine learning modelsDesign scaled solutions and ensure high quality and timely deliveryFacilitate industrialization and ongoing operation of solutions through well organised code, clear documentation and collaboration with ML Ops resourcesGovern the work of 3rd party vendors where needed to support delivery, while maximising creation of the company IPRepresent Data Science in cross-functional governance of projects, engaging with stakeholders up to Director levelHighlight recent developments in data science capability which could solve additional challengesLead a team of up to 5 data scientists (WL2B) or 1-2 data scientists / interns (WL2A), providing career mentorship and line managementProvide technical guidance to data scientists across DA, particularly on the projects you leadSupport the growth of DAu2019s data science capability by contributing to activities such as tool and vendor selection, best practice definition, recruitment, and creation of training materialsBuild the reputation of DAu2019s data science capability within the company and externally, through activities such as community engagement (e.g. Yammer), publications or blogsProvide ad-hoc immediate support to the business when needed (for example Covid-19 crisis support)Depending on the specific project, the Senior Data Scientist can expect 60-90% of their work to be hands-on prototyping solutions, with the remainder spent planning and designing, overseeing and reviewing work of project staff, interfacing with stakeholders and managing team members.',\n",
       " 'Responsibilities: -Contribute across dierent stages of deep learning model development including data collection, data cleaning, model development, validation and deployment .Develop deep learning models for a wide variety of tasks spanning object detection, segmentation, tracking, synthesise and so on.Continuously improve the quality and performance of existing deep learning models by applying latest research in the eld.Contribute in developing models in areas like self-supervised and semi-supervised learning.Skills/RequirementsRequired Skills:Prior experience developing deep learning models for computer vision applications. Hands on experience in areas like image classication, object detection and instance segmentation .Understanding of deep learning fundamentals including network architectures, training artefacts, overtting and regularisation in neural networks, batch normalisation and so on.Prociency in python.Prociency in numpy and opencv.Procient in at least one of the deep learning frameworks e.g. PyTorch, MxNet or Tensorow .Familiarity contributing and maintaining code in github.Understanding of SQL and docker technology is a bonus.Educational Background:B.Tech/M.Tech (Optional), B.Sc./M.Sc., Computer Science, Maths, Statistics or equivalent eld',\n",
       " \"Roles and Responsibilities- Create an industry-changing product from scratch without any technology constraints- Design, develop and implement advanced data-driven approaches including NLP, machine learning algorithms, text mining, etc.- Design, develop and implement R&D and pre-product prototype solutions- Selecting features, building and optimizing classifiers using machine learning techniques- Data mining using state-of-the-art methods- Processing, cleansing, and verifying the integrity of data used for analysis- Doing ad-hoc analysis and presenting results in a clear mannerDesired Candidate Profile- Excellent understanding of machine learning techniques and algorithms, such as k-NN, Naive Bayes, SVM, Decision Forests, etc.- Experience in neural networks, regression, classification, and clustering- Experience of handling various data types and structures: structured and unstructured data, validating and cleaning data, and measuring evaluation- Proficiency in programming languages like Python/C/C++/Java- Experience with common data science toolkits, such as Pandas, Jupyter, Spark etc. Excellence in at least one of these is highly desirable- Experience with data visualization tools, such as D3.js, GGplot, etc.- Experience with relational databases and proficiency in using query languages such as SQL.- Good to have experience with NoSQL databases, such as MongoDB, Elasticsearch, etc- Good applied statistics skills, such as distributions, statistical testing, regression, etc.- Good problem-solving skills- Data-oriented personality- Great communication skills- Bachelor's/Masters/ Ph.D. degree in Computer Science- 3+ years of hands-on AI or ML system development experience on real-world industry problems, with a fundamental understanding of Data Science theory and conceptsPerks and BenefitsYou will full ownership to explore your technical expertiseYou will get ample opportunities to interact and get feedback from Senior executives from client organizations.Expect to climb ladders of Success with usPerformance link Bonus\",\n",
       " '  Position Responsibilitieso Solve business problems by applying advanced Machine Learning algorithms and complex statistical models on large volumes of data.o Build, scale and deploy holistic data science products after successful prototyping.o Clearly articulate and present recommendations to business partners, and influence future plans based on insights.o Follow industry best practices, stay up to date with the state of the art in machine learning research and practice, drive innovation by contributing to the latest applied research in data science through publications and patents.o Promote and support company policies, procedures, mission, values, and standards of ethics and integrity.Position Requirementso Deep knowledge of the foundations of machine learning and statistics - can easily understand and implement a machine learning research paper.o Solid experience working with state-of-the-art supervised and unsupervised machine learning algorithms on real-world problems, preferably in ecommerce domain.o Strong Python coding skills and able to work with at least one other programming language such as Java/Scala.o Ability to work in a big data ecosystem - expert in SQL/Hive and ability to work with Spark.o Strong ability to understand the business and good stakeholder management capabilities.o Qualificationso PhD with > 2 years of experience / 4-year bachelor s degree with > 7 years of experience / Master s degree with > 5 years of experience. Educational qualifications should be preferably in Computer Science or a related area. Experience should be relevant to the role.o Good to have:o Experience in ecommerce domain.o Demonstrated success in data science platforms like Kaggle.']"
      ]
     },
     "execution_count": 127,
     "metadata": {},
     "output_type": "execute_result"
    }
   ],
   "source": [
    "Job_description = job_description[:10]\n",
    "Job_description"
   ]
  },
  {
   "cell_type": "code",
   "execution_count": 128,
   "metadata": {},
   "outputs": [
    {
     "data": {
      "text/html": [
       "<div>\n",
       "<style scoped>\n",
       "    .dataframe tbody tr th:only-of-type {\n",
       "        vertical-align: middle;\n",
       "    }\n",
       "\n",
       "    .dataframe tbody tr th {\n",
       "        vertical-align: top;\n",
       "    }\n",
       "\n",
       "    .dataframe thead th {\n",
       "        text-align: right;\n",
       "    }\n",
       "</style>\n",
       "<table border=\"1\" class=\"dataframe\">\n",
       "  <thead>\n",
       "    <tr style=\"text-align: right;\">\n",
       "      <th></th>\n",
       "      <th>Job_Tiltes</th>\n",
       "      <th>Job_Locations</th>\n",
       "      <th>Company_Name</th>\n",
       "      <th>Job_Description</th>\n",
       "    </tr>\n",
       "  </thead>\n",
       "  <tbody>\n",
       "    <tr>\n",
       "      <th>0</th>\n",
       "      <td>Data Scientist / Data Analyst -Business Analyst</td>\n",
       "      <td>Mumbai, Hyderabad/Secunderabad, Pune, Gurgaon/Gurugram, Chennai, Bangalore/Bengaluru</td>\n",
       "      <td>Inflexion Analytix Private Limited</td>\n",
       "      <td>Job Role : Data Scientist/Data Analyst /Business AnalystLocation : Chennai/Bangalore/Hyderabad/Pune/Mumbai/DelhiGreetings from CAIA - Center for Artificial Intelligence &amp; Advanced Analytics43% of companies experienced a high deficit of skilled resources with Advanced Analytical skills and AI implementing capabilities in year 2020. CAIA gives you a great opportunity to enter the world of future technologies and Innovations- Data Science, Analytics, AI, Data Visualization and Cloud Computing.While 2020 was a year like no other, we are living in an interesting times where data is reshaping the world, and businesses are rapidly adopting technology to gain an edge over others. Hence, there's a substantial increase in demand for technology professionals who can implement systems in data science, machine learning and AI in Tier 1 and Tier 2 organization's working closely with us.To help you build a sustainable career we would like you to utilize data, software and Analytical approaches in Data Science and AI to up skill and get recruited into an organization appreciating your skilling journey.Applications invited from all Freshers and experienced candidates (0-3 yrs) aspiring to make a career in Artificial Intelligence and Advanced Analytics and Data Science.If you wish to make a shift in your career or undergo a career transition, upskilling is essential since it allows you to learn more about the domain and acquire the required skills.Call to schedule interview Monday -Saturday from 10:00 am to 7PmAlexandria A - +91 76958 88879Manigandan -+91 93444 57360Email :alexandriaa@centerforaia.commanigandan@centerforaia.comWhat is needed from you?Freshers who wish to start their career in Analytics and AI and professionals who wish toupskill or change their domain to analytics and emerging technologies are free to apply.An Educational background in any one of the following- BE/B.Tech, ME/M Tech, MSc, BSc/MSc Math's and Statistics, B Com, BCA, BSc CS, BSC IT, MSC IT, MCASkills relating to Mathematics/Statistics.Natural passion towards numbers, business, coding, Analytics and Artificial Intelligence, Machine Learning, visualizationGood verbal and written communication skillsAbility to understand domains in businesses across various sectorsSelection procedure includesAptitude Test &amp; Communication Exam - Online / OfflineSQL/Python test - Online / OfflineCandidates who clears the above will have one-one discussion with our Career Guidance Manager for further evaluation and processing of your Resume.All the Shortlisted candidates will be eligible to continue the corporate training with CAIAWhat you can expect from us?You will get trained on the following modules for a period of 12-14 weeks:SQL &amp; PLSQLData Wrangling using PythonData Visualization Using Power-BIStatistics for Machine LearningArtificial Intelligence, Data InterpretationSupervised &amp; Unsupervised Learning,NLP &amp; Deep LearningCloud Data LakeBusiness intelligence &amp; Data VisualizationSimulation ProjectsExpected Outcome?At the end of the Training you are expected to be well versed with the following:Analysis of large and complex data sets from multiple sourcesDevelopment and evaluation of data analytics models, algorithms and solutionsUnderstanding/implementation of ML algorithms, performance tuning and reportingImplementation of algorithms to mine targeted data and the ability to convert data in to a business storyTranslation of business requirements into technical requirements; Data extraction, preparation and transformationIdentification, development and implementation of statistical techniques and algorithms that address business challenges and adds value to the organizationRequirement Analysis and communication of findings in the form of a meaningful story with the stakeholdersFinding analytical solutions to abstract business issues.Apply objective analysis of facts before coming to a conclusionAbout CAIA - Inflexion Analytix Private LimitedCenter for Artificial Intelligence and Advanced Analytics (Center for AIA) is the brainchild of experienced and visionary alumni of IIT Madras and Bombay.Digital leaders - 5F World and Systech Solutions have joined hands to create a venture for architecting the future of society, workforce, governments and businesses. 5F World specializes in designing solutions around digital platforms and Systech Solutions has an expertise in architecting Artificial Intelligence and Advance Analytics solutions for Fortune 500 companies.Our Website : http://www.centerforaia.com/https://inflexion-analytix-private-limited.business.site/?m=trueCenter for Artificial Intelligence &amp; Advanced Analytics (CAIA) focuses on the following:1. Global Research on emerging trends, technologies and applications in AI and Advanced Analytics2. Advanced Training programs for readying the future ready workforce3. Solutions to herald the futuristic lifestyle and workspaces in the field of AI and Data Science.</td>\n",
       "    </tr>\n",
       "    <tr>\n",
       "      <th>1</th>\n",
       "      <td>Senior / Lead Data Scientist</td>\n",
       "      <td>Pune, Chennai, Bangalore/Bengaluru</td>\n",
       "      <td>TVS CREDIT SERVICES LIMITED</td>\n",
       "      <td>Key ResponsibilitiesBe responsible for scaling our analytics capability across all internal disciplines and guide our strategic direction in regards to analyticsOrganize and analyze large, diverse data sets across multiple platformsIdentify key insights and leverage them to inform and influence product strategyTechnical Interactions with vendor or partners in technical capacity for scope/ approach &amp; deliverable.Develops proof of concept to prove or disprove validity of conceptWorking with all parts of the business to identify analytical requirements and formalize an approach for reliable, relevant, accurate, efficient reporting on those requirementsDesigning and implementing advanced statistical testing for customized problem solvingDeliver concise verbal and written explanations of analyses to senior management that elevate findings into strategic recommendations.Desired Candidate ProfileQualifications:MTech / BE / BTech / MSc in CS or Stats or Maths, Operation Research, Statistics, Econometrics or in any quantitative fieldExperience:3+ Years experience in analytical domainFunctional Competencies:Excellent analytics, logical, problem solving and numerical skillsExperience in using PythonExperience in working with large data sets and big data systems (SQL, Hadoop, Hive, etc.)Keen aptitude for large-scale data analysis with a passion for identifying key insights from dataExpert working knowledge in various machine learning algorithms such XGBoost, SVM Etc.,Expertise in Data Mining, Statistical Analysis, Regression, Logistics Regression, Segmentation, Time Series Forecasting, Market Basket Analysis, Decision Tree, CHAID, Test Mining, Hypothesis Testing, A/B Testing and ModelingPreferable to haveExperience in Credit risk analytics, Fraud analyticsExperience in Collections analytics, NPAAnalytical experience in Vehicle lending business (Two wheeler, Tractor, Car, Commercial) and unsecured loans.Customer Acquisition</td>\n",
       "    </tr>\n",
       "    <tr>\n",
       "      <th>2</th>\n",
       "      <td>data scientist</td>\n",
       "      <td>Bangalore/Bengaluru</td>\n",
       "      <td>Global Talent Pool</td>\n",
       "      <td>Essential Duties ResponsibilitiesPerform basic descriptive data analysisImplement and assess different ways of data transformationFormulate business problems into math / statistics / machine-learning problemsBuild math / statistics / machine-learning models in a scientific wayCarry out hypothesis tests in a scientific wayDo model selection and model diagnosticsActively participate in research meetingsSupport the research team by creating desired datasetsQualificationsGood communication skillsExcellent analytical and data science skills with strong attention to detailGood Python programmers with good knowledge of pandas/numpy/sklearnGraduate level math and statistics knowledge is preferredKnowledge in machine learning, NLP knowledge is a plusAbility to communicate complex information clearlyAbility to work independentlyTeam player and open to new ideas</td>\n",
       "    </tr>\n",
       "    <tr>\n",
       "      <th>3</th>\n",
       "      <td>Data analytics / Data scientist intern (work from Home)</td>\n",
       "      <td>Kolkata, Bangalore/Bengaluru, Delhi / NCR</td>\n",
       "      <td>TalkValley LLC</td>\n",
       "      <td>We are a group of tenured professors from Tier-1 business schools in US universities. We teach machine learning and deep learning to master and PhD students. For our efforts with MentorStudents.org, we are looking to hire a team of interns who are interested in learning data science and analyze data under our supervision.Hours commitment: at least 42.5 hrs/weekDuration of the internship: 3 monthsRequired skills: Communication skills, Python, and OOPPerks (besides getting paid): Learn from professors who teach machine learning in the US+ internship completion certificate+ endorsement of your candidacy to US companies for a remote job via our placement business unit+ networking (check out https://MentorStudents.org)Next step / TEST for Selection:This test will help you present your resume better and improve your employability. Hence, it is in your interest to work on this test. Create a tutorial in Google doc on how to create a timeline in Tableau Public. Use events from your resume as events for the timeline. You are encouraged to look at https://public.tableau.com/en-us/gallery for inspiration. Send your Google doc link at jobs [at] mentorstudents [dot] org. Make sure to make the link publicly accessible so that our team can evaluate your work.</td>\n",
       "    </tr>\n",
       "    <tr>\n",
       "      <th>4</th>\n",
       "      <td>Senior Data Scientist</td>\n",
       "      <td>Bangalore/Bengaluru</td>\n",
       "      <td>RedBus</td>\n",
       "      <td>About UsMorgan Stanley is a leading global financial services firm providing a wide range of investment banking, securities, investment management and wealth management services. We advise, originate, trade, manage and distribute capital for governments, institutions and individuals. As a market leader, the talent and passion of our people is critical to our success. Together, we share a common set of values rooted in integrity, excellence and strong team ethic. We provide you a superior foundation for building a professional career where you can learn, achieve and grow.Technology/Role/Department at Morgan StanleyTechnology is the key differentiator that ensures that we manage our global businesses and serve clients on a market leading platform that is resilient, safe, efficient, smart, fast and flexible. Technology redefines how we do business in global, complex and dynamic financial markets. We have a large number of award winning technology platforms that help to propel our Firm’s businesses to be the top in the market. Our India technology teams are based in Mumbai and Bengaluru. We have built strong techno-functional teams which partner with our offices globally taking global ownership of systems and products. We have a vibrant and diverse mix of technologists working on different technologies and functional domains. There is a large focus on innovation, inclusion, giving back to the community and sharing knowledge.Wealth Management Technology (WMIMT) is responsible for the design, development, delivery, and support of the technical platform behind the products and services used by the Business. Morgan Stanley Wealth Management (WM) is a product of the acquisition of Smith Barney from Citigroup, which was completed in June ‘13. Its core client base is individual investors, small- to medium-size businesses and institutions, and high net worth families and individuals. In the second half of ‘14, WM reached a milestone, with its business having surpassed $2 trillion in total client assets.We are seeking a Machine Learning Engineer with expertise in design and development of data and ML centric applications at scale. The right candidate would have a background in data engineering and requisite familiarity and experience working with Machine learning (ML) algorithms and Frameworks. The role is a confluence of engineering (programming), ML and data analysis. Knowledge of Data Science is a plus. This position is for the Decision products which is part of Artificial Intelligence and Knowledge Management group within Morgan Stanley Wealth Management. The team is comprised of members located in NY-United States, Mumbai-India and Bengaluru-India. The team partners with various businesses and IT groups within firm to develop analytics and ML powered solutions aimed at targeting Clients, Participants and Financial Advisors with relevant recommendations. The team accumulates data from a variety of internal and external upstream systems in order to develop statistics, models, dashboards and metrics for the Digital Platforms team.The right candidate has (Responsibilities)• Create ML model training, validation and hyper-parameter search pipelines• Explore new data sources and data. Select appropriate datasets and their representation methods. Perform data analysis (statistical and otherwise), to derive inferences from data• Design machine learning systems, and oversee the platform on which the solutions would be deployed• Ensure data integrity through – Data quality, validation, Governance and Transparency• Design and Build distributed, scalable, and reliable data pipelines that ingest and process data at scale and in real-time• Production deployment and Model monitoring to ensure stable performance and adherence to standards• Evaluate state-of-art data-centric technologies and prototype solutions to improve our architecture and platform• Understand data visualization to create meaningful dashboards for end-usersQualifications - ExternalPrimary skills• Experienced professional with 8-15 years of experience developing and implementing ML models in Big data ecosystem i.e. Hadoop, Spark, Kafka, HBase, Hive / Impala, Cassandra, MongoDB or any other similar distributed computing technology• Proficiency with Scala / Python and basic libraries for machine learning such as scikit-learn, pandas, deep-learning• Proficiency in data analysis using complex and optimized SQL and / or above mentioned technologies• Understanding of data structures, data modeling and software architecture• Experience in architecture, design and implementation of data intensive applications for practical use-cases• Expertise in visualizing large datasets in an efficient manner• Ability to work in fast paced and dynamic environment• Good written and verbal communication skillsGood to have skills• In-depth understanding of Machine Learning and Statistics, in addition to above• Experience in domains – Financial Risk and Log Analytics• Worked on large scale Anomaly Detection use cases• Practical knowledge of Natural Language Processing (NLP) and/or Neural network implementation• Tableau for data visualization• Experience working in an Agile environmentIf you are interested, please respond with your updated resume along with below mentioned details.CTC:Exp:Notice:Have you earlier worked with Morgan Stanley:</td>\n",
       "    </tr>\n",
       "    <tr>\n",
       "      <th>5</th>\n",
       "      <td>VP - Sr. Data Scientist For Morgan Stanley, Bangalore</td>\n",
       "      <td>Bangalore/Bengaluru</td>\n",
       "      <td>Morgan Stanley Advantage Services</td>\n",
       "      <td>As a Senior Data Scientist for Walmart Labs, you ll have the opportunity toDrive data-derived insights across the wide range of problem statements by developing advanced statistical models, machine learning algorithms, optimisation techniques, and computational algorithms based on business initiativesDirect the gathering of data, assessing data validity and synthesising data into large analytics datasets to support project goalsUtilize big data analytics and advanced data science techniques to identify trends, patterns, and discrepancies in data. Determine additional data needed to support insightsBuild and train statistical models and machine learning algorithms for replication for future projectsCommunicate recommendations to business partners and influencing plans based on insightsYour ResponsibilityPlay a key role to solve complex problems, pivotal to Walmart s business and drive actionable insights from petabytes of dataUtilize product mindset to build, scale and deploy holistic data science products after successful prototypingDemonstrate incremental solution approach with agile and flexible ability to overcome practical problemsLead small teams and participate in data science project teams by serving as the technical lead for projectPartner with senior team members to assess customer needs and define business questionsClearly articulate and present recommendations to business partners, and influence plans based on insightsPartner and engage with associates in other regions for delivering best services to the customers around the globeWork with customer centric mindset to deliver high quality business drive analytic solutionMentor peers and analysts across the division in analytical best practicesDrive innovation in approach, method, practices, process, outcome, delivery, or any component of end-to-end problem solvingPromote and support company policies, procedures, mission, values, and standards of ethics and integrityOur Ideal CandidateYou are a technically strong and high performing individual with excellent communication skills, proven analytical skill set and strong customer focus. You stay updated with latest research and technology ideas and have a passion to utilize innovative ways to solve problems. You are a good storyteller and able to simply articulate the intricacies of your models as well as explain your results clearly to stakeholders. You have industry knowledge of the real estate/facility/energy/domain space, with keen interest in keeping up to date on the latest happenings in this space.Your QualificationsBachelors with &gt; 8 years of relevant experience OR Masters with &gt; 6 years of relevant experience OR PhD in Comp Science / Statistics / Mathematics / Econometrics with &gt; 3 years of relevant experienceExperience in Analysing the Complex Problems and translate it into data science algorithmsExperience in machine learning, supervised and unsupervised: Forecasting, Classification, Data/Text Mining, NLP, Decision Trees, Adaptive Decision Algorithms, Random Forest, Search Algorithms, Neural Networks, Deep Learning AlgorithmsExperience in statistical learning: Predictive Prescriptive Analytics, Web Analytics, Parametric and Non-parametric models, Regression, Time Series, Dynamic/Causal Model, Statistical Learning, Guided Decisions, Topic ModelingExperience with Optimisation techniques: linear programming, integer programming, genetic algorithm, constrained optimisationExperience with big data analytics - identifying trends, patterns, and outliers in large volumes of dataLead role mentoring multiple Jr. Analysts on approach and results.Experience with Python, Pyspark, Tensorflow, PyTorch or other related big data and machine learning technologies to design and develop robust high-performance and scalable applicationsStrong hands on experience with ML products like Databricks, Azure ML, AlteryxStrong hands on experience with big data platforms - Hive, Pig, HQL, Scala, Spark, ScalaExperience with one or more of optimisation toolkits/libraries like CPLEX, Gurobi, Open source solvers (CBC, GLPK)Experience in large scale optimisation, heuristics, decomposition methods for solving large scale problems, real time optimisation, Reinforcement learningExperience with Teradata, SQL and relational databases, data warehouseAdditional Preferred Qualifications:Domain expertise in Retail, Merchandising, or PricingPublished papers or given talks in leading academic and research journalsPublished papers or given talks in Data Science ForumsHold data science related patentsExperience with data warehouse platforms - No SQL Databases (Cassandra)Experience with GPU/CUDA for computational efficiency</td>\n",
       "    </tr>\n",
       "    <tr>\n",
       "      <th>6</th>\n",
       "      <td>Senior Data Scientist</td>\n",
       "      <td>Bangalore/Bengaluru</td>\n",
       "      <td>Walmart Labs</td>\n",
       "      <td>The Senior Data Scientist is an exciting role in the Data Science Centre of Excellence (CoE) team within DA. This team builds state of the art machine learning algorithms, maximising the impact of DAu2019s solutions in driving enterprise performance. Typical initiatives include optimizing trade promotion investments, accurately forecasting customer demand, using NLP to glean insight on consumer trends from search data, and making individual assortment recommendations for each of the millions of stores that sell the company products. The role will work closely with a DA functional team such as Customer Development or Supply Chain along with business stakeholders, addressing both large transformation programs and near-term business problems.The Senior Data Scientist improves business performance in the functional area of the company they serve, through the application of world class data science capability. They own planning and delivery of data science on moderate projects or specific modules of a major global initiative.Key Accountabilities:Interact with relevant teams to identify business challenges where data science can helpApply comprehensive data science knowledge to propose optimal techniques for key business challengesCreate detailed data science proposals and project plans, flagging any limitations of proposed solutionDesign and prototype experimental solutions, particularly machine learning modelsDesign scaled solutions and ensure high quality and timely deliveryFacilitate industrialization and ongoing operation of solutions through well organised code, clear documentation and collaboration with ML Ops resourcesGovern the work of 3rd party vendors where needed to support delivery, while maximising creation of the company IPRepresent Data Science in cross-functional governance of projects, engaging with stakeholders up to Director levelHighlight recent developments in data science capability which could solve additional challengesLead a team of up to 5 data scientists (WL2B) or 1-2 data scientists / interns (WL2A), providing career mentorship and line managementProvide technical guidance to data scientists across DA, particularly on the projects you leadSupport the growth of DAu2019s data science capability by contributing to activities such as tool and vendor selection, best practice definition, recruitment, and creation of training materialsBuild the reputation of DAu2019s data science capability within the company and externally, through activities such as community engagement (e.g. Yammer), publications or blogsProvide ad-hoc immediate support to the business when needed (for example Covid-19 crisis support)Depending on the specific project, the Senior Data Scientist can expect 60-90% of their work to be hands-on prototyping solutions, with the remainder spent planning and designing, overseeing and reviewing work of project staff, interfacing with stakeholders and managing team members.</td>\n",
       "    </tr>\n",
       "    <tr>\n",
       "      <th>7</th>\n",
       "      <td>Senior Data Scientist</td>\n",
       "      <td>Bangalore/Bengaluru</td>\n",
       "      <td>ExecBoardinAsia</td>\n",
       "      <td>Responsibilities: -Contribute across dierent stages of deep learning model development including data collection, data cleaning, model development, validation and deployment .Develop deep learning models for a wide variety of tasks spanning object detection, segmentation, tracking, synthesise and so on.Continuously improve the quality and performance of existing deep learning models by applying latest research in the eld.Contribute in developing models in areas like self-supervised and semi-supervised learning.Skills/RequirementsRequired Skills:Prior experience developing deep learning models for computer vision applications. Hands on experience in areas like image classication, object detection and instance segmentation .Understanding of deep learning fundamentals including network architectures, training artefacts, overtting and regularisation in neural networks, batch normalisation and so on.Prociency in python.Prociency in numpy and opencv.Procient in at least one of the deep learning frameworks e.g. PyTorch, MxNet or Tensorow .Familiarity contributing and maintaining code in github.Understanding of SQL and docker technology is a bonus.Educational Background:B.Tech/M.Tech (Optional), B.Sc./M.Sc., Computer Science, Maths, Statistics or equivalent eld</td>\n",
       "    </tr>\n",
       "    <tr>\n",
       "      <th>8</th>\n",
       "      <td>Senior Data Scientist</td>\n",
       "      <td>Bangalore/Bengaluru</td>\n",
       "      <td>Perform Group</td>\n",
       "      <td>Roles and Responsibilities- Create an industry-changing product from scratch without any technology constraints- Design, develop and implement advanced data-driven approaches including NLP, machine learning algorithms, text mining, etc.- Design, develop and implement R&amp;D and pre-product prototype solutions- Selecting features, building and optimizing classifiers using machine learning techniques- Data mining using state-of-the-art methods- Processing, cleansing, and verifying the integrity of data used for analysis- Doing ad-hoc analysis and presenting results in a clear mannerDesired Candidate Profile- Excellent understanding of machine learning techniques and algorithms, such as k-NN, Naive Bayes, SVM, Decision Forests, etc.- Experience in neural networks, regression, classification, and clustering- Experience of handling various data types and structures: structured and unstructured data, validating and cleaning data, and measuring evaluation- Proficiency in programming languages like Python/C/C++/Java- Experience with common data science toolkits, such as Pandas, Jupyter, Spark etc. Excellence in at least one of these is highly desirable- Experience with data visualization tools, such as D3.js, GGplot, etc.- Experience with relational databases and proficiency in using query languages such as SQL.- Good to have experience with NoSQL databases, such as MongoDB, Elasticsearch, etc- Good applied statistics skills, such as distributions, statistical testing, regression, etc.- Good problem-solving skills- Data-oriented personality- Great communication skills- Bachelor's/Masters/ Ph.D. degree in Computer Science- 3+ years of hands-on AI or ML system development experience on real-world industry problems, with a fundamental understanding of Data Science theory and conceptsPerks and BenefitsYou will full ownership to explore your technical expertiseYou will get ample opportunities to interact and get feedback from Senior executives from client organizations.Expect to climb ladders of Success with usPerformance link Bonus</td>\n",
       "    </tr>\n",
       "    <tr>\n",
       "      <th>9</th>\n",
       "      <td>Sr Data Scientist</td>\n",
       "      <td>Bangalore/Bengaluru, Mumbai (All Areas)</td>\n",
       "      <td>intelligent industrial internet systems pvt ltd.</td>\n",
       "      <td>Position Responsibilitieso Solve business problems by applying advanced Machine Learning algorithms and complex statistical models on large volumes of data.o Build, scale and deploy holistic data science products after successful prototyping.o Clearly articulate and present recommendations to business partners, and influence future plans based on insights.o Follow industry best practices, stay up to date with the state of the art in machine learning research and practice, drive innovation by contributing to the latest applied research in data science through publications and patents.o Promote and support company policies, procedures, mission, values, and standards of ethics and integrity.Position Requirementso Deep knowledge of the foundations of machine learning and statistics - can easily understand and implement a machine learning research paper.o Solid experience working with state-of-the-art supervised and unsupervised machine learning algorithms on real-world problems, preferably in ecommerce domain.o Strong Python coding skills and able to work with at least one other programming language such as Java/Scala.o Ability to work in a big data ecosystem - expert in SQL/Hive and ability to work with Spark.o Strong ability to understand the business and good stakeholder management capabilities.o Qualificationso PhD with &gt; 2 years of experience / 4-year bachelor s degree with &gt; 7 years of experience / Master s degree with &gt; 5 years of experience. Educational qualifications should be preferably in Computer Science or a related area. Experience should be relevant to the role.o Good to have:o Experience in ecommerce domain.o Demonstrated success in data science platforms like Kaggle.</td>\n",
       "    </tr>\n",
       "  </tbody>\n",
       "</table>\n",
       "</div>"
      ],
      "text/plain": [
       "                                                Job_Tiltes  \\\n",
       "0          Data Scientist / Data Analyst -Business Analyst   \n",
       "1                             Senior / Lead Data Scientist   \n",
       "2                                           data scientist   \n",
       "3  Data analytics / Data scientist intern (work from Home)   \n",
       "4                                    Senior Data Scientist   \n",
       "5    VP - Sr. Data Scientist For Morgan Stanley, Bangalore   \n",
       "6                                    Senior Data Scientist   \n",
       "7                                    Senior Data Scientist   \n",
       "8                                    Senior Data Scientist   \n",
       "9                                        Sr Data Scientist   \n",
       "\n",
       "                                                                          Job_Locations  \\\n",
       "0  Mumbai, Hyderabad/Secunderabad, Pune, Gurgaon/Gurugram, Chennai, Bangalore/Bengaluru   \n",
       "1                                                    Pune, Chennai, Bangalore/Bengaluru   \n",
       "2                                                                   Bangalore/Bengaluru   \n",
       "3                                             Kolkata, Bangalore/Bengaluru, Delhi / NCR   \n",
       "4                                                                   Bangalore/Bengaluru   \n",
       "5                                                                   Bangalore/Bengaluru   \n",
       "6                                                                   Bangalore/Bengaluru   \n",
       "7                                                                   Bangalore/Bengaluru   \n",
       "8                                                                   Bangalore/Bengaluru   \n",
       "9                                               Bangalore/Bengaluru, Mumbai (All Areas)   \n",
       "\n",
       "                                       Company_Name  \\\n",
       "0                Inflexion Analytix Private Limited   \n",
       "1                       TVS CREDIT SERVICES LIMITED   \n",
       "2                                Global Talent Pool   \n",
       "3                                    TalkValley LLC   \n",
       "4                                            RedBus   \n",
       "5                 Morgan Stanley Advantage Services   \n",
       "6                                      Walmart Labs   \n",
       "7                                   ExecBoardinAsia   \n",
       "8                                     Perform Group   \n",
       "9  intelligent industrial internet systems pvt ltd.   \n",
       "\n",
       "                                                                                                                                                                                                                                                                                                                                                                                                                                                                                                                                                                                                                                                                                                                                                                                                                                                                                                                                                                                                                                                                                                                                                                                                                                                                                                                                                                                                                                                                                                                                                                                                                                                                                                                                                                                                                                                                                                                                                                                                                                                                                                                                                                                                                                                                                                                                                                                                                                                                                                                                                                                                                                                                                                                                                                                                                                                                                                                                                                                                                                                                                                                                                                                                                                                                                                                                                                                                                                                                                                                                                                                                                                                                                                                                                                                                                                                                                                                                                                                                                                                                                                                                                                                                                                                                                                                                                                                                                                                                                                                                                                                                                                                                                                                                                                                                                                                                                                                                                                                                                                                                                                                                                                                                                                                                                                                                                                                                                                                                                                                                                                Job_Description  \n",
       "0                                                                                                                                                                                                                                                                                                                                                                                                                                 Job Role : Data Scientist/Data Analyst /Business AnalystLocation : Chennai/Bangalore/Hyderabad/Pune/Mumbai/DelhiGreetings from CAIA - Center for Artificial Intelligence & Advanced Analytics43% of companies experienced a high deficit of skilled resources with Advanced Analytical skills and AI implementing capabilities in year 2020. CAIA gives you a great opportunity to enter the world of future technologies and Innovations- Data Science, Analytics, AI, Data Visualization and Cloud Computing.While 2020 was a year like no other, we are living in an interesting times where data is reshaping the world, and businesses are rapidly adopting technology to gain an edge over others. Hence, there's a substantial increase in demand for technology professionals who can implement systems in data science, machine learning and AI in Tier 1 and Tier 2 organization's working closely with us.To help you build a sustainable career we would like you to utilize data, software and Analytical approaches in Data Science and AI to up skill and get recruited into an organization appreciating your skilling journey.Applications invited from all Freshers and experienced candidates (0-3 yrs) aspiring to make a career in Artificial Intelligence and Advanced Analytics and Data Science.If you wish to make a shift in your career or undergo a career transition, upskilling is essential since it allows you to learn more about the domain and acquire the required skills.Call to schedule interview Monday -Saturday from 10:00 am to 7PmAlexandria A - +91 76958 88879Manigandan -+91 93444 57360Email :alexandriaa@centerforaia.commanigandan@centerforaia.comWhat is needed from you?Freshers who wish to start their career in Analytics and AI and professionals who wish toupskill or change their domain to analytics and emerging technologies are free to apply.An Educational background in any one of the following- BE/B.Tech, ME/M Tech, MSc, BSc/MSc Math's and Statistics, B Com, BCA, BSc CS, BSC IT, MSC IT, MCASkills relating to Mathematics/Statistics.Natural passion towards numbers, business, coding, Analytics and Artificial Intelligence, Machine Learning, visualizationGood verbal and written communication skillsAbility to understand domains in businesses across various sectorsSelection procedure includesAptitude Test & Communication Exam - Online / OfflineSQL/Python test - Online / OfflineCandidates who clears the above will have one-one discussion with our Career Guidance Manager for further evaluation and processing of your Resume.All the Shortlisted candidates will be eligible to continue the corporate training with CAIAWhat you can expect from us?You will get trained on the following modules for a period of 12-14 weeks:SQL & PLSQLData Wrangling using PythonData Visualization Using Power-BIStatistics for Machine LearningArtificial Intelligence, Data InterpretationSupervised & Unsupervised Learning,NLP & Deep LearningCloud Data LakeBusiness intelligence & Data VisualizationSimulation ProjectsExpected Outcome?At the end of the Training you are expected to be well versed with the following:Analysis of large and complex data sets from multiple sourcesDevelopment and evaluation of data analytics models, algorithms and solutionsUnderstanding/implementation of ML algorithms, performance tuning and reportingImplementation of algorithms to mine targeted data and the ability to convert data in to a business storyTranslation of business requirements into technical requirements; Data extraction, preparation and transformationIdentification, development and implementation of statistical techniques and algorithms that address business challenges and adds value to the organizationRequirement Analysis and communication of findings in the form of a meaningful story with the stakeholdersFinding analytical solutions to abstract business issues.Apply objective analysis of facts before coming to a conclusionAbout CAIA - Inflexion Analytix Private LimitedCenter for Artificial Intelligence and Advanced Analytics (Center for AIA) is the brainchild of experienced and visionary alumni of IIT Madras and Bombay.Digital leaders - 5F World and Systech Solutions have joined hands to create a venture for architecting the future of society, workforce, governments and businesses. 5F World specializes in designing solutions around digital platforms and Systech Solutions has an expertise in architecting Artificial Intelligence and Advance Analytics solutions for Fortune 500 companies.Our Website : http://www.centerforaia.com/https://inflexion-analytix-private-limited.business.site/?m=trueCenter for Artificial Intelligence & Advanced Analytics (CAIA) focuses on the following:1. Global Research on emerging trends, technologies and applications in AI and Advanced Analytics2. Advanced Training programs for readying the future ready workforce3. Solutions to herald the futuristic lifestyle and workspaces in the field of AI and Data Science.  \n",
       "1                                                                                                                                                                                                                                                                                                                                                                                                                                                                                                                                                                                                                                                                                                                                                                                                                                                                                                                                                                                                                                                                                                                                                                                                                                                                                                                                                                                                                                                                                                                                                                                                                                                                                                                                                                                                                                                                                                                                                                                                                                                                                                                                                                                                                                                                                                                                                                                                                                                                                                                                                                                                                                                                                                                                                                                                                                                                                                                                                                                                                                                                                                                                                                                                                                                                                                                                                                                                                                                                                                                                                      Key ResponsibilitiesBe responsible for scaling our analytics capability across all internal disciplines and guide our strategic direction in regards to analyticsOrganize and analyze large, diverse data sets across multiple platformsIdentify key insights and leverage them to inform and influence product strategyTechnical Interactions with vendor or partners in technical capacity for scope/ approach & deliverable.Develops proof of concept to prove or disprove validity of conceptWorking with all parts of the business to identify analytical requirements and formalize an approach for reliable, relevant, accurate, efficient reporting on those requirementsDesigning and implementing advanced statistical testing for customized problem solvingDeliver concise verbal and written explanations of analyses to senior management that elevate findings into strategic recommendations.Desired Candidate ProfileQualifications:MTech / BE / BTech / MSc in CS or Stats or Maths, Operation Research, Statistics, Econometrics or in any quantitative fieldExperience:3+ Years experience in analytical domainFunctional Competencies:Excellent analytics, logical, problem solving and numerical skillsExperience in using PythonExperience in working with large data sets and big data systems (SQL, Hadoop, Hive, etc.)Keen aptitude for large-scale data analysis with a passion for identifying key insights from dataExpert working knowledge in various machine learning algorithms such XGBoost, SVM Etc.,Expertise in Data Mining, Statistical Analysis, Regression, Logistics Regression, Segmentation, Time Series Forecasting, Market Basket Analysis, Decision Tree, CHAID, Test Mining, Hypothesis Testing, A/B Testing and ModelingPreferable to haveExperience in Credit risk analytics, Fraud analyticsExperience in Collections analytics, NPAAnalytical experience in Vehicle lending business (Two wheeler, Tractor, Car, Commercial) and unsecured loans.Customer Acquisition  \n",
       "2                                                                                                                                                                                                                                                                                                                                                                                                                                                                                                                                                                                                                                                                                                                                                                                                                                                                                                                                                                                                                                                                                                                                                                                                                                                                                                                                                                                                                                                                                                                                                                                                                                                                                                                                                                                                                                                                                                                                                                                                                                                                                                                                                                                                                                                                                                                                                                                                                                                                                                                                                                                                                                                                                                                                                                                                                                                                                                                                                                                                                                                                                                                                                                                                                                                                                                                                                                                                                                                                                                                                                                                                                                                                                                                                                                                                                                                                                                                                                                                                                                                                                                                                                                                                                                                                                                                                                                                                                                                                                                                                                                                                                                                                               Essential Duties ResponsibilitiesPerform basic descriptive data analysisImplement and assess different ways of data transformationFormulate business problems into math / statistics / machine-learning problemsBuild math / statistics / machine-learning models in a scientific wayCarry out hypothesis tests in a scientific wayDo model selection and model diagnosticsActively participate in research meetingsSupport the research team by creating desired datasetsQualificationsGood communication skillsExcellent analytical and data science skills with strong attention to detailGood Python programmers with good knowledge of pandas/numpy/sklearnGraduate level math and statistics knowledge is preferredKnowledge in machine learning, NLP knowledge is a plusAbility to communicate complex information clearlyAbility to work independentlyTeam player and open to new ideas  \n",
       "3                                                                                                                                                                                                                                                                                                                                                                                                                                                                                                                                                                                                                                                                                                                                                                                                                                                                                                                                                                                                                                                                                                                                                                                                                                                                                                                                                                                                                                                                                                                                                                                                                                                                                                                                                                                                                                                                                                                                                                                                                                                                                                                                                                                                                                                                                                                                                                                                                                                                                                                                                                                                                                                                                                                                                                                                                                                                                                                                                                                                                                                                                                                                                                                                                                                                                                                                                                                                                                                                                                                                                                                                                                                                                                                                                                                                                                                                                                                                                                                                                                                                                                                                                                                                                                                              We are a group of tenured professors from Tier-1 business schools in US universities. We teach machine learning and deep learning to master and PhD students. For our efforts with MentorStudents.org, we are looking to hire a team of interns who are interested in learning data science and analyze data under our supervision.Hours commitment: at least 42.5 hrs/weekDuration of the internship: 3 monthsRequired skills: Communication skills, Python, and OOPPerks (besides getting paid): Learn from professors who teach machine learning in the US+ internship completion certificate+ endorsement of your candidacy to US companies for a remote job via our placement business unit+ networking (check out https://MentorStudents.org)Next step / TEST for Selection:This test will help you present your resume better and improve your employability. Hence, it is in your interest to work on this test. Create a tutorial in Google doc on how to create a timeline in Tableau Public. Use events from your resume as events for the timeline. You are encouraged to look at https://public.tableau.com/en-us/gallery for inspiration. Send your Google doc link at jobs [at] mentorstudents [dot] org. Make sure to make the link publicly accessible so that our team can evaluate your work.  \n",
       "4  About UsMorgan Stanley is a leading global financial services firm providing a wide range of investment banking, securities, investment management and wealth management services. We advise, originate, trade, manage and distribute capital for governments, institutions and individuals. As a market leader, the talent and passion of our people is critical to our success. Together, we share a common set of values rooted in integrity, excellence and strong team ethic. We provide you a superior foundation for building a professional career where you can learn, achieve and grow.Technology/Role/Department at Morgan StanleyTechnology is the key differentiator that ensures that we manage our global businesses and serve clients on a market leading platform that is resilient, safe, efficient, smart, fast and flexible. Technology redefines how we do business in global, complex and dynamic financial markets. We have a large number of award winning technology platforms that help to propel our Firm’s businesses to be the top in the market. Our India technology teams are based in Mumbai and Bengaluru. We have built strong techno-functional teams which partner with our offices globally taking global ownership of systems and products. We have a vibrant and diverse mix of technologists working on different technologies and functional domains. There is a large focus on innovation, inclusion, giving back to the community and sharing knowledge.Wealth Management Technology (WMIMT) is responsible for the design, development, delivery, and support of the technical platform behind the products and services used by the Business. Morgan Stanley Wealth Management (WM) is a product of the acquisition of Smith Barney from Citigroup, which was completed in June ‘13. Its core client base is individual investors, small- to medium-size businesses and institutions, and high net worth families and individuals. In the second half of ‘14, WM reached a milestone, with its business having surpassed $2 trillion in total client assets.We are seeking a Machine Learning Engineer with expertise in design and development of data and ML centric applications at scale. The right candidate would have a background in data engineering and requisite familiarity and experience working with Machine learning (ML) algorithms and Frameworks. The role is a confluence of engineering (programming), ML and data analysis. Knowledge of Data Science is a plus. This position is for the Decision products which is part of Artificial Intelligence and Knowledge Management group within Morgan Stanley Wealth Management. The team is comprised of members located in NY-United States, Mumbai-India and Bengaluru-India. The team partners with various businesses and IT groups within firm to develop analytics and ML powered solutions aimed at targeting Clients, Participants and Financial Advisors with relevant recommendations. The team accumulates data from a variety of internal and external upstream systems in order to develop statistics, models, dashboards and metrics for the Digital Platforms team.The right candidate has (Responsibilities)• Create ML model training, validation and hyper-parameter search pipelines• Explore new data sources and data. Select appropriate datasets and their representation methods. Perform data analysis (statistical and otherwise), to derive inferences from data• Design machine learning systems, and oversee the platform on which the solutions would be deployed• Ensure data integrity through – Data quality, validation, Governance and Transparency• Design and Build distributed, scalable, and reliable data pipelines that ingest and process data at scale and in real-time• Production deployment and Model monitoring to ensure stable performance and adherence to standards• Evaluate state-of-art data-centric technologies and prototype solutions to improve our architecture and platform• Understand data visualization to create meaningful dashboards for end-usersQualifications - ExternalPrimary skills• Experienced professional with 8-15 years of experience developing and implementing ML models in Big data ecosystem i.e. Hadoop, Spark, Kafka, HBase, Hive / Impala, Cassandra, MongoDB or any other similar distributed computing technology• Proficiency with Scala / Python and basic libraries for machine learning such as scikit-learn, pandas, deep-learning• Proficiency in data analysis using complex and optimized SQL and / or above mentioned technologies• Understanding of data structures, data modeling and software architecture• Experience in architecture, design and implementation of data intensive applications for practical use-cases• Expertise in visualizing large datasets in an efficient manner• Ability to work in fast paced and dynamic environment• Good written and verbal communication skillsGood to have skills• In-depth understanding of Machine Learning and Statistics, in addition to above• Experience in domains – Financial Risk and Log Analytics• Worked on large scale Anomaly Detection use cases• Practical knowledge of Natural Language Processing (NLP) and/or Neural network implementation• Tableau for data visualization• Experience working in an Agile environmentIf you are interested, please respond with your updated resume along with below mentioned details.CTC:Exp:Notice:Have you earlier worked with Morgan Stanley:  \n",
       "5                                                                                                                                                                                                                                                                                                                                                                                                                                                                                                                                                                                                                                                                                                       As a Senior Data Scientist for Walmart Labs, you ll have the opportunity toDrive data-derived insights across the wide range of problem statements by developing advanced statistical models, machine learning algorithms, optimisation techniques, and computational algorithms based on business initiativesDirect the gathering of data, assessing data validity and synthesising data into large analytics datasets to support project goalsUtilize big data analytics and advanced data science techniques to identify trends, patterns, and discrepancies in data. Determine additional data needed to support insightsBuild and train statistical models and machine learning algorithms for replication for future projectsCommunicate recommendations to business partners and influencing plans based on insightsYour ResponsibilityPlay a key role to solve complex problems, pivotal to Walmart s business and drive actionable insights from petabytes of dataUtilize product mindset to build, scale and deploy holistic data science products after successful prototypingDemonstrate incremental solution approach with agile and flexible ability to overcome practical problemsLead small teams and participate in data science project teams by serving as the technical lead for projectPartner with senior team members to assess customer needs and define business questionsClearly articulate and present recommendations to business partners, and influence plans based on insightsPartner and engage with associates in other regions for delivering best services to the customers around the globeWork with customer centric mindset to deliver high quality business drive analytic solutionMentor peers and analysts across the division in analytical best practicesDrive innovation in approach, method, practices, process, outcome, delivery, or any component of end-to-end problem solvingPromote and support company policies, procedures, mission, values, and standards of ethics and integrityOur Ideal CandidateYou are a technically strong and high performing individual with excellent communication skills, proven analytical skill set and strong customer focus. You stay updated with latest research and technology ideas and have a passion to utilize innovative ways to solve problems. You are a good storyteller and able to simply articulate the intricacies of your models as well as explain your results clearly to stakeholders. You have industry knowledge of the real estate/facility/energy/domain space, with keen interest in keeping up to date on the latest happenings in this space.Your QualificationsBachelors with > 8 years of relevant experience OR Masters with > 6 years of relevant experience OR PhD in Comp Science / Statistics / Mathematics / Econometrics with > 3 years of relevant experienceExperience in Analysing the Complex Problems and translate it into data science algorithmsExperience in machine learning, supervised and unsupervised: Forecasting, Classification, Data/Text Mining, NLP, Decision Trees, Adaptive Decision Algorithms, Random Forest, Search Algorithms, Neural Networks, Deep Learning AlgorithmsExperience in statistical learning: Predictive Prescriptive Analytics, Web Analytics, Parametric and Non-parametric models, Regression, Time Series, Dynamic/Causal Model, Statistical Learning, Guided Decisions, Topic ModelingExperience with Optimisation techniques: linear programming, integer programming, genetic algorithm, constrained optimisationExperience with big data analytics - identifying trends, patterns, and outliers in large volumes of dataLead role mentoring multiple Jr. Analysts on approach and results.Experience with Python, Pyspark, Tensorflow, PyTorch or other related big data and machine learning technologies to design and develop robust high-performance and scalable applicationsStrong hands on experience with ML products like Databricks, Azure ML, AlteryxStrong hands on experience with big data platforms - Hive, Pig, HQL, Scala, Spark, ScalaExperience with one or more of optimisation toolkits/libraries like CPLEX, Gurobi, Open source solvers (CBC, GLPK)Experience in large scale optimisation, heuristics, decomposition methods for solving large scale problems, real time optimisation, Reinforcement learningExperience with Teradata, SQL and relational databases, data warehouseAdditional Preferred Qualifications:Domain expertise in Retail, Merchandising, or PricingPublished papers or given talks in leading academic and research journalsPublished papers or given talks in Data Science ForumsHold data science related patentsExperience with data warehouse platforms - No SQL Databases (Cassandra)Experience with GPU/CUDA for computational efficiency  \n",
       "6                                                                                                                                                                                                                                                                                                                                                                                                                                                                                                                                                                                                                                                                                                                                                                                                                                                                                                                                                                                                                                                                                                                                                                                                                                                                                                                                                                                                                                                                                                                                                                                                                                                                                                                                                                                                                                                                                                                                                                                                                                                                                                                                                                                                                                                                                                                                                                                                                                                                                                       The Senior Data Scientist is an exciting role in the Data Science Centre of Excellence (CoE) team within DA. This team builds state of the art machine learning algorithms, maximising the impact of DAu2019s solutions in driving enterprise performance. Typical initiatives include optimizing trade promotion investments, accurately forecasting customer demand, using NLP to glean insight on consumer trends from search data, and making individual assortment recommendations for each of the millions of stores that sell the company products. The role will work closely with a DA functional team such as Customer Development or Supply Chain along with business stakeholders, addressing both large transformation programs and near-term business problems.The Senior Data Scientist improves business performance in the functional area of the company they serve, through the application of world class data science capability. They own planning and delivery of data science on moderate projects or specific modules of a major global initiative.Key Accountabilities:Interact with relevant teams to identify business challenges where data science can helpApply comprehensive data science knowledge to propose optimal techniques for key business challengesCreate detailed data science proposals and project plans, flagging any limitations of proposed solutionDesign and prototype experimental solutions, particularly machine learning modelsDesign scaled solutions and ensure high quality and timely deliveryFacilitate industrialization and ongoing operation of solutions through well organised code, clear documentation and collaboration with ML Ops resourcesGovern the work of 3rd party vendors where needed to support delivery, while maximising creation of the company IPRepresent Data Science in cross-functional governance of projects, engaging with stakeholders up to Director levelHighlight recent developments in data science capability which could solve additional challengesLead a team of up to 5 data scientists (WL2B) or 1-2 data scientists / interns (WL2A), providing career mentorship and line managementProvide technical guidance to data scientists across DA, particularly on the projects you leadSupport the growth of DAu2019s data science capability by contributing to activities such as tool and vendor selection, best practice definition, recruitment, and creation of training materialsBuild the reputation of DAu2019s data science capability within the company and externally, through activities such as community engagement (e.g. Yammer), publications or blogsProvide ad-hoc immediate support to the business when needed (for example Covid-19 crisis support)Depending on the specific project, the Senior Data Scientist can expect 60-90% of their work to be hands-on prototyping solutions, with the remainder spent planning and designing, overseeing and reviewing work of project staff, interfacing with stakeholders and managing team members.  \n",
       "7                                                                                                                                                                                                                                                                                                                                                                                                                                                                                                                                                                                                                                                                                                                                                                                                                                                                                                                                                                                                                                                                                                                                                                                                                                                                                                                                                                                                                                                                                                                                                                                                                                                                                                                                                                                                                                                                                                                                                                                                                                                                                                                                                                                                                                                                                                                                                                                                                                                                                                                                                                                                                                                                                                                                                                                                                                                                                                                                                                                                                                                                                                                                                                                                                                                                                                                                                                                                                                                                                                                                                                                                                                                                                                                                                                                                                                                                                                                                                                                                                                                                                                                                                                                                                                                     Responsibilities: -Contribute across dierent stages of deep learning model development including data collection, data cleaning, model development, validation and deployment .Develop deep learning models for a wide variety of tasks spanning object detection, segmentation, tracking, synthesise and so on.Continuously improve the quality and performance of existing deep learning models by applying latest research in the eld.Contribute in developing models in areas like self-supervised and semi-supervised learning.Skills/RequirementsRequired Skills:Prior experience developing deep learning models for computer vision applications. Hands on experience in areas like image classication, object detection and instance segmentation .Understanding of deep learning fundamentals including network architectures, training artefacts, overtting and regularisation in neural networks, batch normalisation and so on.Prociency in python.Prociency in numpy and opencv.Procient in at least one of the deep learning frameworks e.g. PyTorch, MxNet or Tensorow .Familiarity contributing and maintaining code in github.Understanding of SQL and docker technology is a bonus.Educational Background:B.Tech/M.Tech (Optional), B.Sc./M.Sc., Computer Science, Maths, Statistics or equivalent eld  \n",
       "8                                                                                                                                                                                                                                                                                                                                                                                                                                                                                                                                                                                                                                                                                                                                                                                                                                                                                                                                                                                                                                                                                                                                                                                                                                                                                                                                                                                                                                                                                                                                                                                                                                                                                                                                                                                                                                                                                                                                                                                                                                                                                                                                                                                                                                                                                                                                                                                                                                                                                                                                                                                                                                                                                                                                                                                                                                                                                                                                                                                                                                                                                                                                                                                                                                                                                                                                                                                                                                          Roles and Responsibilities- Create an industry-changing product from scratch without any technology constraints- Design, develop and implement advanced data-driven approaches including NLP, machine learning algorithms, text mining, etc.- Design, develop and implement R&D and pre-product prototype solutions- Selecting features, building and optimizing classifiers using machine learning techniques- Data mining using state-of-the-art methods- Processing, cleansing, and verifying the integrity of data used for analysis- Doing ad-hoc analysis and presenting results in a clear mannerDesired Candidate Profile- Excellent understanding of machine learning techniques and algorithms, such as k-NN, Naive Bayes, SVM, Decision Forests, etc.- Experience in neural networks, regression, classification, and clustering- Experience of handling various data types and structures: structured and unstructured data, validating and cleaning data, and measuring evaluation- Proficiency in programming languages like Python/C/C++/Java- Experience with common data science toolkits, such as Pandas, Jupyter, Spark etc. Excellence in at least one of these is highly desirable- Experience with data visualization tools, such as D3.js, GGplot, etc.- Experience with relational databases and proficiency in using query languages such as SQL.- Good to have experience with NoSQL databases, such as MongoDB, Elasticsearch, etc- Good applied statistics skills, such as distributions, statistical testing, regression, etc.- Good problem-solving skills- Data-oriented personality- Great communication skills- Bachelor's/Masters/ Ph.D. degree in Computer Science- 3+ years of hands-on AI or ML system development experience on real-world industry problems, with a fundamental understanding of Data Science theory and conceptsPerks and BenefitsYou will full ownership to explore your technical expertiseYou will get ample opportunities to interact and get feedback from Senior executives from client organizations.Expect to climb ladders of Success with usPerformance link Bonus  \n",
       "9                                                                                                                                                                                                                                                                                                                                                                                                                                                                                                                                                                                                                                                                                                                                                                                                                                                                                                                                                                                                                                                                                                                                                                                                                                                                                                                                                                                                                                                                                                                                                                                                                                                                                                                                                                                                                                                                                                                                                                                                                                                                                                                                                                                                                                                                                                                                                                                                                                                                                                                                                                                                                                                                                                                                                                                                                                                                                                                                                                                                                                                                                                                                                                                                                                                                                                                                                                                                                                                                                                                                                                                                                                                                                                                                                                                                  Position Responsibilitieso Solve business problems by applying advanced Machine Learning algorithms and complex statistical models on large volumes of data.o Build, scale and deploy holistic data science products after successful prototyping.o Clearly articulate and present recommendations to business partners, and influence future plans based on insights.o Follow industry best practices, stay up to date with the state of the art in machine learning research and practice, drive innovation by contributing to the latest applied research in data science through publications and patents.o Promote and support company policies, procedures, mission, values, and standards of ethics and integrity.Position Requirementso Deep knowledge of the foundations of machine learning and statistics - can easily understand and implement a machine learning research paper.o Solid experience working with state-of-the-art supervised and unsupervised machine learning algorithms on real-world problems, preferably in ecommerce domain.o Strong Python coding skills and able to work with at least one other programming language such as Java/Scala.o Ability to work in a big data ecosystem - expert in SQL/Hive and ability to work with Spark.o Strong ability to understand the business and good stakeholder management capabilities.o Qualificationso PhD with > 2 years of experience / 4-year bachelor s degree with > 7 years of experience / Master s degree with > 5 years of experience. Educational qualifications should be preferably in Computer Science or a related area. Experience should be relevant to the role.o Good to have:o Experience in ecommerce domain.o Demonstrated success in data science platforms like Kaggle.  "
      ]
     },
     "execution_count": 128,
     "metadata": {},
     "output_type": "execute_result"
    }
   ],
   "source": [
    "JOB_DESCRIPTION = pd.DataFrame(Job_description,columns=['Job_Description'])\n",
    "JOB_DESCRIPTION\n",
    "JOB_TITLE = pd.DataFrame(Job_titles1,columns=['Job_Tiltes'])\n",
    "JOB_TITLE\n",
    "JOB_LOCATION = pd.DataFrame(Job_locations1,columns=['Job_Locations'])\n",
    "JOB_LOCATION\n",
    "COMPANY_NAME = pd.DataFrame(Company_names1,columns=['Company_Name'])\n",
    "COMPANY_NAME\n",
    "JOBS_IN_BANGALORE_FOR_DATA_SCIENTIST = pd.concat([JOB_TITLE,JOB_LOCATION,COMPANY_NAME,JOB_DESCRIPTION],axis=1)\n",
    "JOBS_IN_BANGALORE_FOR_DATA_SCIENTIST"
   ]
  },
  {
   "cell_type": "markdown",
   "metadata": {},
   "source": [
    "## ANSWER TO QUESTION 3 OF WEB SCRAPING  ASSIGNMENT 2:-"
   ]
  },
  {
   "cell_type": "code",
   "execution_count": 43,
   "metadata": {},
   "outputs": [],
   "source": [
    "driver113 = webdriver.Chrome('chromedriver.exe')"
   ]
  },
  {
   "cell_type": "code",
   "execution_count": 44,
   "metadata": {},
   "outputs": [],
   "source": [
    "url113 = 'https://www.naukri.com/'\n",
    "driver113.get(url113)\n",
    "\n",
    "#job search bar\n",
    "search_job = driver113.find_element_by_xpath(\"//input[@class='sugInp']\")\n",
    "search_job.send_keys(\"Data Scientist\")\n",
    "\n",
    "#location search bar\n",
    "search_loc = driver113.find_element_by_xpath(\"//input[@id='qsb-location-sugg']\")\n",
    "search_loc.send_keys('Bangalore')\n",
    "\n",
    "#button click search\n",
    "search_button = driver113.find_element_by_xpath(\"//button[@class='btn']\")\n",
    "search_button.click()\n"
   ]
  },
  {
   "cell_type": "code",
   "execution_count": 45,
   "metadata": {},
   "outputs": [],
   "source": [
    "#filter location checkbox\n",
    "click_loc_box = driver113.find_element_by_xpath(\"//span[@title='Delhi / NCR']\")\n",
    "click_loc_box.click()                                              "
   ]
  },
  {
   "cell_type": "code",
   "execution_count": 46,
   "metadata": {},
   "outputs": [],
   "source": [
    "#filter salary checkbox\n",
    "click_salary_box = driver113.find_element_by_xpath(\"//span[@title='3-6 Lakhs']\")\n",
    "click_salary_box.click()                                                "
   ]
  },
  {
   "cell_type": "code",
   "execution_count": 47,
   "metadata": {},
   "outputs": [
    {
     "data": {
      "text/plain": [
       "['Data Scientist / Data Analyst -Business Analyst',\n",
       " 'Data analytics / Data scientist intern (work from Home)',\n",
       " 'Data Engineers /Data Scientist - CES IT LTD - CMMI LVL 5',\n",
       " 'Data Engineers /Data Scientist - CES IT LTD - CMMI LVL 5',\n",
       " 'Hiring For Data Scientist @ Prodapt Solutions',\n",
       " 'Data Scientist',\n",
       " 'Data Scientist - High growth VC backed Influencer Marketplace',\n",
       " 'Data Scientist',\n",
       " 'Data Scientist - Python & Machine Learning (ISO 20022)',\n",
       " 'Data & Business Analyst (Remote/Work from Home)']"
      ]
     },
     "execution_count": 47,
     "metadata": {},
     "output_type": "execute_result"
    }
   ],
   "source": [
    "title_tags_13 = driver113.find_elements_by_xpath(\"//a[@class='title fw500 ellipsis']\")\n",
    "title_tags_13\n",
    "\n",
    "#now I  have the title tags.\n",
    "\n",
    "job_titles13 = []\n",
    "for i in title_tags_13:\n",
    "    job_titles13.append(i.text)\n",
    "job_titles13[:10]\n",
    "\n",
    "#showing a list of first 10 job titles.\n",
    "\n",
    "Job_titles13 = job_titles13[:10]\n",
    "Job_titles13"
   ]
  },
  {
   "cell_type": "markdown",
   "metadata": {},
   "source": [
    "created job title tags for delhi data scientists."
   ]
  },
  {
   "cell_type": "code",
   "execution_count": 48,
   "metadata": {},
   "outputs": [
    {
     "data": {
      "text/plain": [
       "['Mumbai, Hyderabad/Secunderabad, Pune, Gurgaon/Gurugram, Chennai, Bangalore/Bengaluru',\n",
       " 'Kolkata, Bangalore/Bengaluru, Delhi / NCR',\n",
       " 'Kolkata, Hyderabad/Secunderabad, Pune, Ahmedabad, Chennai, Bangalore/Bengaluru, Delhi / NCR, Mumbai (All Areas)',\n",
       " 'Kolkata, Hyderabad/Secunderabad, Pune, Ahmedabad, Chennai, Bangalore/Bengaluru, Delhi / NCR, Mumbai (All Areas)',\n",
       " 'Kolkata, Hyderabad/Secunderabad, Pune, Chennai, Bangalore/Bengaluru, Delhi / NCR',\n",
       " 'Bharuch, Jaipur, Bhopal, Mumbai, Jhansi, Nagpur, Ghaziabad, Jaunpur, Kanpur, New Delhi, Lucknow, Agra, Gurgaon/Gurugram, Rajkot, Bangalore/Bengaluru',\n",
       " 'Bangalore/Bengaluru, Delhi / NCR, Mumbai (All Areas)',\n",
       " 'Gurgaon/Gurugram, Bangalore/Bengaluru',\n",
       " 'Hyderabad/Secunderabad, Bangalore/Bengaluru, Delhi / NCR',\n",
       " 'Kochi/Cochin, Kolkata, Hyderabad/Secunderabad, Pune, Ahmedabad, Chennai, Bangalore/Bengaluru, Delhi / NCR, Mumbai (All Areas)']"
      ]
     },
     "execution_count": 48,
     "metadata": {},
     "output_type": "execute_result"
    }
   ],
   "source": [
    "#tags contaning the job-location\n",
    "loc_tags13 = driver113.find_elements_by_xpath(\"//li[@class='fleft grey-text br2 placeHolderLi location']\")\n",
    "loc_tags13\n",
    "\n",
    "job_locations13 = []\n",
    "for i in loc_tags13:\n",
    "    job_locations13.append(i.text)\n",
    "job_locations13[:10]\n",
    "\n",
    "#creating a list of job locations.\n",
    "\n",
    "Job_locations13= job_locations13[:10]\n",
    "Job_locations13"
   ]
  },
  {
   "cell_type": "markdown",
   "metadata": {},
   "source": [
    "created location tags for delhi data scientists."
   ]
  },
  {
   "cell_type": "code",
   "execution_count": 49,
   "metadata": {},
   "outputs": [
    {
     "data": {
      "text/plain": [
       "['Inflexion Analytix Private Limited',\n",
       " 'TalkValley LLC',\n",
       " 'CES Ltd.',\n",
       " 'CES Ltd.',\n",
       " 'BIZZ-BUDDY ENTERPRISES PRIVATE LIMITED',\n",
       " 'Country Veggie',\n",
       " 'Ravgins International Pvt. Ltd.',\n",
       " 'BlackBuck',\n",
       " 'FUTURES AND CAREERS',\n",
       " 'AINE Info Tech Pvt Ltd']"
      ]
     },
     "execution_count": 49,
     "metadata": {},
     "output_type": "execute_result"
    }
   ],
   "source": [
    "#company name tags\n",
    "company_name_tags13 = driver113.find_elements_by_xpath(\"//a[@class='subTitle ellipsis fleft']\")\n",
    "company_name_tags13\n",
    "\n",
    "company_names13 = []\n",
    "for i in company_name_tags13:\n",
    "    company_names13.append(i.text)\n",
    "company_names13[:10]\n",
    "\n",
    "Company_names13 = company_names13[:10]\n",
    "Company_names13"
   ]
  },
  {
   "cell_type": "markdown",
   "metadata": {},
   "source": [
    "created company tags for delhi data scientists."
   ]
  },
  {
   "cell_type": "code",
   "execution_count": 50,
   "metadata": {},
   "outputs": [
    {
     "data": {
      "text/plain": [
       "['0-3 Yrs',\n",
       " '0-5 Yrs',\n",
       " '3-5 Yrs',\n",
       " '3-5 Yrs',\n",
       " '5-10 Yrs',\n",
       " '1-3 Yrs',\n",
       " '3-5 Yrs',\n",
       " '3-7 Yrs',\n",
       " '3-8 Yrs',\n",
       " '0-2 Yrs']"
      ]
     },
     "execution_count": 50,
     "metadata": {},
     "output_type": "execute_result"
    }
   ],
   "source": [
    "#experience tags\n",
    "exp_tags13 = driver113.find_elements_by_xpath(\"//li[@class='fleft grey-text br2 placeHolderLi experience']\")\n",
    "exp_tags13\n",
    "\n",
    "experience_required13 = []\n",
    "for i in exp_tags13:\n",
    "    experience_required13.append(i.text)\n",
    "experience_required13[:10]\n",
    "\n",
    "exp103 = experience_required13[:10]\n",
    "exp103"
   ]
  },
  {
   "cell_type": "markdown",
   "metadata": {},
   "source": [
    "created experience tags for delhi data scientists."
   ]
  },
  {
   "cell_type": "code",
   "execution_count": 51,
   "metadata": {},
   "outputs": [
    {
     "data": {
      "text/html": [
       "<div>\n",
       "<style scoped>\n",
       "    .dataframe tbody tr th:only-of-type {\n",
       "        vertical-align: middle;\n",
       "    }\n",
       "\n",
       "    .dataframe tbody tr th {\n",
       "        vertical-align: top;\n",
       "    }\n",
       "\n",
       "    .dataframe thead th {\n",
       "        text-align: right;\n",
       "    }\n",
       "</style>\n",
       "<table border=\"1\" class=\"dataframe\">\n",
       "  <thead>\n",
       "    <tr style=\"text-align: right;\">\n",
       "      <th></th>\n",
       "      <th>Job_Tiltes</th>\n",
       "      <th>Job_Locations</th>\n",
       "      <th>Company_Name</th>\n",
       "      <th>Experience_Required</th>\n",
       "    </tr>\n",
       "  </thead>\n",
       "  <tbody>\n",
       "    <tr>\n",
       "      <th>0</th>\n",
       "      <td>Data Scientist / Data Analyst -Business Analyst</td>\n",
       "      <td>Mumbai, Hyderabad/Secunderabad, Pune, Gurgaon/...</td>\n",
       "      <td>Inflexion Analytix Private Limited</td>\n",
       "      <td>0-3 Yrs</td>\n",
       "    </tr>\n",
       "    <tr>\n",
       "      <th>1</th>\n",
       "      <td>Data analytics / Data scientist intern (work f...</td>\n",
       "      <td>Kolkata, Bangalore/Bengaluru, Delhi / NCR</td>\n",
       "      <td>TalkValley LLC</td>\n",
       "      <td>0-5 Yrs</td>\n",
       "    </tr>\n",
       "    <tr>\n",
       "      <th>2</th>\n",
       "      <td>Data Engineers /Data Scientist - CES IT LTD - ...</td>\n",
       "      <td>Kolkata, Hyderabad/Secunderabad, Pune, Ahmedab...</td>\n",
       "      <td>CES Ltd.</td>\n",
       "      <td>3-5 Yrs</td>\n",
       "    </tr>\n",
       "    <tr>\n",
       "      <th>3</th>\n",
       "      <td>Data Engineers /Data Scientist - CES IT LTD - ...</td>\n",
       "      <td>Kolkata, Hyderabad/Secunderabad, Pune, Ahmedab...</td>\n",
       "      <td>CES Ltd.</td>\n",
       "      <td>3-5 Yrs</td>\n",
       "    </tr>\n",
       "    <tr>\n",
       "      <th>4</th>\n",
       "      <td>Hiring For Data Scientist @ Prodapt Solutions</td>\n",
       "      <td>Kolkata, Hyderabad/Secunderabad, Pune, Chennai...</td>\n",
       "      <td>BIZZ-BUDDY ENTERPRISES PRIVATE LIMITED</td>\n",
       "      <td>5-10 Yrs</td>\n",
       "    </tr>\n",
       "    <tr>\n",
       "      <th>5</th>\n",
       "      <td>Data Scientist</td>\n",
       "      <td>Bharuch, Jaipur, Bhopal, Mumbai, Jhansi, Nagpu...</td>\n",
       "      <td>Country Veggie</td>\n",
       "      <td>1-3 Yrs</td>\n",
       "    </tr>\n",
       "    <tr>\n",
       "      <th>6</th>\n",
       "      <td>Data Scientist - High growth VC backed Influen...</td>\n",
       "      <td>Bangalore/Bengaluru, Delhi / NCR, Mumbai (All ...</td>\n",
       "      <td>Ravgins International Pvt. Ltd.</td>\n",
       "      <td>3-5 Yrs</td>\n",
       "    </tr>\n",
       "    <tr>\n",
       "      <th>7</th>\n",
       "      <td>Data Scientist</td>\n",
       "      <td>Gurgaon/Gurugram, Bangalore/Bengaluru</td>\n",
       "      <td>BlackBuck</td>\n",
       "      <td>3-7 Yrs</td>\n",
       "    </tr>\n",
       "    <tr>\n",
       "      <th>8</th>\n",
       "      <td>Data Scientist - Python &amp; Machine Learning (IS...</td>\n",
       "      <td>Hyderabad/Secunderabad, Bangalore/Bengaluru, D...</td>\n",
       "      <td>FUTURES AND CAREERS</td>\n",
       "      <td>3-8 Yrs</td>\n",
       "    </tr>\n",
       "    <tr>\n",
       "      <th>9</th>\n",
       "      <td>Data &amp; Business Analyst (Remote/Work from Home)</td>\n",
       "      <td>Kochi/Cochin, Kolkata, Hyderabad/Secunderabad,...</td>\n",
       "      <td>AINE Info Tech Pvt Ltd</td>\n",
       "      <td>0-2 Yrs</td>\n",
       "    </tr>\n",
       "  </tbody>\n",
       "</table>\n",
       "</div>"
      ],
      "text/plain": [
       "                                          Job_Tiltes  \\\n",
       "0    Data Scientist / Data Analyst -Business Analyst   \n",
       "1  Data analytics / Data scientist intern (work f...   \n",
       "2  Data Engineers /Data Scientist - CES IT LTD - ...   \n",
       "3  Data Engineers /Data Scientist - CES IT LTD - ...   \n",
       "4      Hiring For Data Scientist @ Prodapt Solutions   \n",
       "5                                     Data Scientist   \n",
       "6  Data Scientist - High growth VC backed Influen...   \n",
       "7                                     Data Scientist   \n",
       "8  Data Scientist - Python & Machine Learning (IS...   \n",
       "9    Data & Business Analyst (Remote/Work from Home)   \n",
       "\n",
       "                                       Job_Locations  \\\n",
       "0  Mumbai, Hyderabad/Secunderabad, Pune, Gurgaon/...   \n",
       "1          Kolkata, Bangalore/Bengaluru, Delhi / NCR   \n",
       "2  Kolkata, Hyderabad/Secunderabad, Pune, Ahmedab...   \n",
       "3  Kolkata, Hyderabad/Secunderabad, Pune, Ahmedab...   \n",
       "4  Kolkata, Hyderabad/Secunderabad, Pune, Chennai...   \n",
       "5  Bharuch, Jaipur, Bhopal, Mumbai, Jhansi, Nagpu...   \n",
       "6  Bangalore/Bengaluru, Delhi / NCR, Mumbai (All ...   \n",
       "7              Gurgaon/Gurugram, Bangalore/Bengaluru   \n",
       "8  Hyderabad/Secunderabad, Bangalore/Bengaluru, D...   \n",
       "9  Kochi/Cochin, Kolkata, Hyderabad/Secunderabad,...   \n",
       "\n",
       "                             Company_Name Experience_Required  \n",
       "0      Inflexion Analytix Private Limited             0-3 Yrs  \n",
       "1                          TalkValley LLC             0-5 Yrs  \n",
       "2                                CES Ltd.             3-5 Yrs  \n",
       "3                                CES Ltd.             3-5 Yrs  \n",
       "4  BIZZ-BUDDY ENTERPRISES PRIVATE LIMITED            5-10 Yrs  \n",
       "5                          Country Veggie             1-3 Yrs  \n",
       "6         Ravgins International Pvt. Ltd.             3-5 Yrs  \n",
       "7                               BlackBuck             3-7 Yrs  \n",
       "8                     FUTURES AND CAREERS             3-8 Yrs  \n",
       "9                  AINE Info Tech Pvt Ltd             0-2 Yrs  "
      ]
     },
     "execution_count": 51,
     "metadata": {},
     "output_type": "execute_result"
    }
   ],
   "source": [
    "#creating a dataframe--\n",
    "EXPERIENCE_REQUIRED = pd.DataFrame(exp103,columns=['Experience_Required'])\n",
    "EXPERIENCE_REQUIRED\n",
    "JOB_TITLE = pd.DataFrame(Job_titles13,columns=['Job_Tiltes'])\n",
    "JOB_TITLE\n",
    "JOB_LOCATION = pd.DataFrame(Job_locations13,columns=['Job_Locations'])\n",
    "JOB_LOCATION\n",
    "COMPANY_NAME = pd.DataFrame(Company_names13,columns=['Company_Name'])\n",
    "COMPANY_NAME\n",
    "\n",
    "\n",
    "\n",
    "JOBS_FOR_DATA_SCIENTIST_DELHI = pd.concat([JOB_TITLE,JOB_LOCATION,COMPANY_NAME,EXPERIENCE_REQUIRED],axis=1)\n",
    "JOBS_FOR_DATA_SCIENTIST_DELHI"
   ]
  },
  {
   "cell_type": "markdown",
   "metadata": {},
   "source": [
    "CREATED A DATAFRAME FOR job title,company name,location of job and experience required."
   ]
  },
  {
   "cell_type": "markdown",
   "metadata": {},
   "source": [
    "## ANSWER TO QUESTION 4 OF WEB SRAPING ASSIGNMENT 2:-"
   ]
  },
  {
   "cell_type": "code",
   "execution_count": 80,
   "metadata": {},
   "outputs": [],
   "source": [
    "driver12 = webdriver.Chrome('chromedriver.exe')\n",
    "# https://www.glassdoor.co.in"
   ]
  },
  {
   "cell_type": "code",
   "execution_count": 81,
   "metadata": {},
   "outputs": [],
   "source": [
    "url113 = 'https://www.glassdoor.co.in/index.htm'\n",
    "driver12.get(url113)\n",
    "time.sleep(4)"
   ]
  },
  {
   "cell_type": "code",
   "execution_count": 84,
   "metadata": {},
   "outputs": [],
   "source": [
    "button_sign_in = driver12.find_element_by_xpath(\"//button[@class='d-flex align-items-center justify-content-center order-1 order-md-2 mr-auto mr-md-0 p-0 LockedHomeHeaderStyles__signInButton']\")\n",
    "button_sign_in.click()"
   ]
  },
  {
   "cell_type": "code",
   "execution_count": 90,
   "metadata": {},
   "outputs": [],
   "source": [
    "driver12.find_element_by_xpath(\"//input[@id='sc.location']\").clear()\n"
   ]
  },
  {
   "cell_type": "code",
   "execution_count": 91,
   "metadata": {},
   "outputs": [],
   "source": [
    "driver12.find_element_by_xpath(\"//input[@id='sc.location']\").send_keys('Noida')"
   ]
  },
  {
   "cell_type": "code",
   "execution_count": 92,
   "metadata": {},
   "outputs": [],
   "source": [
    "#job search bar\n",
    "search_job1 = driver12.find_element_by_xpath(\"//input[@id='sc.keyword']\")\n",
    "search_job1.send_keys(\"Data Scientist\")\n",
    "\n",
    "#button click search\n",
    "search_button1 = driver12.find_element_by_xpath(\"//button[@class='gd-ui-button ml-std col-auto SearchStyles__newSearchButton css-iixdfr']\")\n",
    "search_button1.click()"
   ]
  },
  {
   "cell_type": "code",
   "execution_count": 93,
   "metadata": {},
   "outputs": [
    {
     "data": {
      "text/plain": [
       "['Crowe',\n",
       " 'Ericsson',\n",
       " 'Techlive',\n",
       " 'Mogli Labs India Private Limited',\n",
       " 'Biz2Credit Inc',\n",
       " 'Credgenics',\n",
       " 'LetsDressUp',\n",
       " 'ANI Calls India Private Limited',\n",
       " 'Verisk',\n",
       " 'Urban Company']"
      ]
     },
     "execution_count": 93,
     "metadata": {},
     "output_type": "execute_result"
    }
   ],
   "source": [
    "#company name tags\n",
    "company_name_tags_glassdoor = driver12.find_elements_by_xpath(\"//a[@class=' css-l2wjgv e1n63ojh0 jobLink']\")\n",
    "company_name_tags_glassdoor\n",
    "\n",
    "company_names_glassdoor = []\n",
    "for i in company_name_tags_glassdoor:\n",
    "    company_names_glassdoor.append(i.text)\n",
    "company_names_glassdoor[:10]\n",
    "\n",
    "CO_names_glassdoor = company_names_glassdoor[:10]\n",
    "CO_names_glassdoor"
   ]
  },
  {
   "cell_type": "code",
   "execution_count": 38,
   "metadata": {},
   "outputs": [
    {
     "data": {
      "text/plain": [
       "['1d', '6d', '3d', '3d', '2d', '11d', '3d', '25d', '3d', '26d']"
      ]
     },
     "execution_count": 38,
     "metadata": {},
     "output_type": "execute_result"
    }
   ],
   "source": [
    "posted_tags_glassdoor = driver12.find_elements_by_xpath(\"//div[@class='d-flex align-items-end pl-std css-mi55ob']\")\n",
    "posted_tags_glassdoor\n",
    "\n",
    "posted_glassdoor = []\n",
    "for i in posted_tags_glassdoor:\n",
    "    posted_glassdoor.append(i.text)\n",
    "posted_glassdoor[:10]\n",
    "\n",
    "Posted_glassdoor = posted_glassdoor[:10]\n",
    "Posted_glassdoor"
   ]
  },
  {
   "cell_type": "code",
   "execution_count": 39,
   "metadata": {},
   "outputs": [
    {
     "data": {
      "text/plain": [
       "['3.6', '3.9', '3.7', '4.1', '3.6', '3.0', '3.5', '3.8', '4.3', '5.0']"
      ]
     },
     "execution_count": 39,
     "metadata": {},
     "output_type": "execute_result"
    }
   ],
   "source": [
    "ratings_tags_glassdoor = driver12.find_elements_by_xpath(\"//span[@class='css-19pjha7 e1cjmv6j1']\")\n",
    "ratings_tags_glassdoor\n",
    "\n",
    "ratings = []\n",
    "for i in ratings_tags_glassdoor:\n",
    "    ratings.append(i.text)\n",
    "ratings[:10]\n",
    "\n",
    "Ratings = ratings[:10]\n",
    "Ratings"
   ]
  },
  {
   "cell_type": "code",
   "execution_count": 94,
   "metadata": {},
   "outputs": [
    {
     "data": {
      "text/html": [
       "<div>\n",
       "<style scoped>\n",
       "    .dataframe tbody tr th:only-of-type {\n",
       "        vertical-align: middle;\n",
       "    }\n",
       "\n",
       "    .dataframe tbody tr th {\n",
       "        vertical-align: top;\n",
       "    }\n",
       "\n",
       "    .dataframe thead th {\n",
       "        text-align: right;\n",
       "    }\n",
       "</style>\n",
       "<table border=\"1\" class=\"dataframe\">\n",
       "  <thead>\n",
       "    <tr style=\"text-align: right;\">\n",
       "      <th></th>\n",
       "      <th>Company_Name</th>\n",
       "      <th>Company_Ratings</th>\n",
       "      <th>Job_Posted_Days_Ago</th>\n",
       "    </tr>\n",
       "  </thead>\n",
       "  <tbody>\n",
       "    <tr>\n",
       "      <th>0</th>\n",
       "      <td>Inflexion Analytix Private Limited</td>\n",
       "      <td>3.6</td>\n",
       "      <td>1d</td>\n",
       "    </tr>\n",
       "    <tr>\n",
       "      <th>1</th>\n",
       "      <td>TalkValley LLC</td>\n",
       "      <td>3.9</td>\n",
       "      <td>6d</td>\n",
       "    </tr>\n",
       "    <tr>\n",
       "      <th>2</th>\n",
       "      <td>CES Ltd.</td>\n",
       "      <td>3.7</td>\n",
       "      <td>3d</td>\n",
       "    </tr>\n",
       "    <tr>\n",
       "      <th>3</th>\n",
       "      <td>CES Ltd.</td>\n",
       "      <td>4.1</td>\n",
       "      <td>3d</td>\n",
       "    </tr>\n",
       "    <tr>\n",
       "      <th>4</th>\n",
       "      <td>BIZZ-BUDDY ENTERPRISES PRIVATE LIMITED</td>\n",
       "      <td>3.6</td>\n",
       "      <td>2d</td>\n",
       "    </tr>\n",
       "    <tr>\n",
       "      <th>5</th>\n",
       "      <td>Country Veggie</td>\n",
       "      <td>3.0</td>\n",
       "      <td>11d</td>\n",
       "    </tr>\n",
       "    <tr>\n",
       "      <th>6</th>\n",
       "      <td>Ravgins International Pvt. Ltd.</td>\n",
       "      <td>3.5</td>\n",
       "      <td>3d</td>\n",
       "    </tr>\n",
       "    <tr>\n",
       "      <th>7</th>\n",
       "      <td>BlackBuck</td>\n",
       "      <td>3.8</td>\n",
       "      <td>25d</td>\n",
       "    </tr>\n",
       "    <tr>\n",
       "      <th>8</th>\n",
       "      <td>FUTURES AND CAREERS</td>\n",
       "      <td>4.3</td>\n",
       "      <td>3d</td>\n",
       "    </tr>\n",
       "    <tr>\n",
       "      <th>9</th>\n",
       "      <td>AINE Info Tech Pvt Ltd</td>\n",
       "      <td>5.0</td>\n",
       "      <td>26d</td>\n",
       "    </tr>\n",
       "  </tbody>\n",
       "</table>\n",
       "</div>"
      ],
      "text/plain": [
       "                             Company_Name Company_Ratings Job_Posted_Days_Ago\n",
       "0      Inflexion Analytix Private Limited             3.6                  1d\n",
       "1                          TalkValley LLC             3.9                  6d\n",
       "2                                CES Ltd.             3.7                  3d\n",
       "3                                CES Ltd.             4.1                  3d\n",
       "4  BIZZ-BUDDY ENTERPRISES PRIVATE LIMITED             3.6                  2d\n",
       "5                          Country Veggie             3.0                 11d\n",
       "6         Ravgins International Pvt. Ltd.             3.5                  3d\n",
       "7                               BlackBuck             3.8                 25d\n",
       "8                     FUTURES AND CAREERS             4.3                  3d\n",
       "9                  AINE Info Tech Pvt Ltd             5.0                 26d"
      ]
     },
     "execution_count": 94,
     "metadata": {},
     "output_type": "execute_result"
    }
   ],
   "source": [
    "COMPANY_NAMES = pd.DataFrame(CO_names_glassdoor,columns=['Company_Name'])\n",
    "COMPANY_NAMES\n",
    "COMPANY_RATINGS = pd.DataFrame(Ratings,columns=['Company_Ratings'])\n",
    "COMPANY_RATINGS\n",
    "JOB_POSTED_DAYS_AGO = pd.DataFrame(Posted_glassdoor,columns=['Job_Posted_Days_Ago'])\n",
    "JOB_POSTED_DAYS_AGO\n",
    "\n",
    "\n",
    "\n",
    "\n",
    "JOBS_FOR_DATA_SCIENTIST_NOIDA = pd.concat([COMPANY_NAME,COMPANY_RATINGS,JOB_POSTED_DAYS_AGO],axis=1)\n",
    "JOBS_FOR_DATA_SCIENTIST_NOIDA"
   ]
  },
  {
   "cell_type": "markdown",
   "metadata": {},
   "source": [
    "## ANSWER TO QUESTION 5 OF WEB SCRAPING ASSIGNMENT 2:-"
   ]
  },
  {
   "cell_type": "code",
   "execution_count": 53,
   "metadata": {},
   "outputs": [],
   "source": [
    "driver_s = webdriver.Chrome('chromedriver.exe')"
   ]
  },
  {
   "cell_type": "code",
   "execution_count": 62,
   "metadata": {},
   "outputs": [],
   "source": [
    "url_salary = 'https://www.glassdoor.co.in/Salaries/index.htm'\n",
    "driver_s.get(url_salary)\n",
    "time.sleep(4)"
   ]
  },
  {
   "cell_type": "code",
   "execution_count": 58,
   "metadata": {},
   "outputs": [],
   "source": [
    "button_sign_in = driver_s.find_element_by_xpath(\"//button[@class='d-flex align-items-center justify-content-center order-1 order-md-2 mr-auto mr-md-0 p-0 LockedHomeHeaderStyles__signInButton']\")\n",
    "button_sign_in.click()"
   ]
  },
  {
   "cell_type": "code",
   "execution_count": 64,
   "metadata": {},
   "outputs": [],
   "source": [
    "driver_s.find_element_by_xpath(\"//input[@id='LocationSearch']\").clear()"
   ]
  },
  {
   "cell_type": "code",
   "execution_count": 65,
   "metadata": {},
   "outputs": [],
   "source": [
    "driver_s.find_element_by_xpath(\"//input[@id='LocationSearch']\").send_keys('Noida')"
   ]
  },
  {
   "cell_type": "code",
   "execution_count": 66,
   "metadata": {},
   "outputs": [],
   "source": [
    "#job search bar\n",
    "search_job_salary = driver_s.find_element_by_xpath(\"//input[@name='sc.keyword']\")\n",
    "search_job_salary.send_keys(\"Data Scientist\")\n",
    "\n",
    "#button click search\n",
    "search_button_salary = driver_s.find_element_by_xpath(\"//button[@class='gd-btn-mkt']\")\n",
    "search_button_salary.click()"
   ]
  },
  {
   "cell_type": "code",
   "execution_count": null,
   "metadata": {},
   "outputs": [],
   "source": [
    "# You have to scrape Company name, Number of salaries, Average salary, Min\n",
    "# salary, Max Salary."
   ]
  },
  {
   "cell_type": "code",
   "execution_count": 67,
   "metadata": {},
   "outputs": [
    {
     "data": {
      "text/plain": [
       "['Tata Consultancy Services',\n",
       " 'IBM',\n",
       " 'Accenture',\n",
       " 'Ericsson-Worldwide',\n",
       " 'Delhivery',\n",
       " 'UnitedHealth Group',\n",
       " 'Valiance Solutions',\n",
       " 'ZS Associates',\n",
       " 'EXL Service',\n",
       " 'Optum Global Solutions']"
      ]
     },
     "execution_count": 67,
     "metadata": {},
     "output_type": "execute_result"
    }
   ],
   "source": [
    "company_name_salary_t = driver_s.find_elements_by_xpath(\"//a[@class='css-f3vw95 e1aj7ssy3']\")\n",
    "company_name_salary_t\n",
    "\n",
    "company_names_salary = []\n",
    "for i in company_name_salary_t:\n",
    "    company_names_salary.append(i.text)\n",
    "company_names_salary[:10]\n",
    "\n",
    "co_salary = company_names_salary[:10]\n",
    "co_salary"
   ]
  },
  {
   "cell_type": "code",
   "execution_count": 69,
   "metadata": {},
   "outputs": [
    {
     "data": {
      "text/plain": [
       "['17 salaries',\n",
       " '15 salaries',\n",
       " '14 salaries',\n",
       " '14 salaries',\n",
       " '14 salaries',\n",
       " '11 salaries',\n",
       " '9 salaries',\n",
       " '8 salaries',\n",
       " '8 salaries',\n",
       " '8 salaries']"
      ]
     },
     "execution_count": 69,
     "metadata": {},
     "output_type": "execute_result"
    }
   ],
   "source": [
    "num_salary_t = driver_s.find_elements_by_xpath(\"//div[@class='col-12 col-lg-auto']\")\n",
    "num_salary_t\n",
    "\n",
    "nums_salary = []\n",
    "for i in num_salary_t:\n",
    "    nums_salary.append(i.text)\n",
    "nums_salary[:10]\n",
    "\n",
    "number_salary = nums_salary[:10]\n",
    "number_salary"
   ]
  },
  {
   "cell_type": "code",
   "execution_count": 72,
   "metadata": {},
   "outputs": [
    {
     "data": {
      "text/plain": [
       "['₹ 6,14,306 /yr',\n",
       " '₹ 9,00,000 /yr',\n",
       " '₹ 11,46,533 /yr',\n",
       " '₹ 7,38,057 /yr',\n",
       " '₹ 12,39,781 /yr',\n",
       " '₹ 13,36,142 /yr',\n",
       " '₹ 8,15,192 /yr',\n",
       " '₹ 11,35,221 /yr',\n",
       " '₹ 11,44,243 /yr',\n",
       " '₹ 14,13,288 /yr']"
      ]
     },
     "execution_count": 72,
     "metadata": {},
     "output_type": "execute_result"
    }
   ],
   "source": [
    "avgst = driver_s.find_elements_by_xpath(\"//div[@class='col-12 col-lg-4 px-lg-0 d-flex align-items-baseline']\")\n",
    "avgst\n",
    "\n",
    "savg= []\n",
    "for i in avgst:\n",
    "    savg.append(i.text.replace('\\n',''))\n",
    "savg[:10]\n",
    "\n",
    "avg_salary = savg[:10]\n",
    "avg_salary"
   ]
  },
  {
   "cell_type": "code",
   "execution_count": 74,
   "metadata": {},
   "outputs": [
    {
     "data": {
      "text/plain": [
       "['₹343K',\n",
       " '₹586K',\n",
       " '₹577K',\n",
       " '₹355K',\n",
       " '₹450K',\n",
       " '₹1,069K',\n",
       " '₹502K',\n",
       " '₹202K',\n",
       " '₹575K',\n",
       " '₹1,014K']"
      ]
     },
     "execution_count": 74,
     "metadata": {},
     "output_type": "execute_result"
    }
   ],
   "source": [
    "mins = driver_s.find_elements_by_xpath(\"//div[@class='d-flex mt-xxsm css-79elbk epuxyqn0']/p[1]\")\n",
    "mins\n",
    "\n",
    "minsalary= []\n",
    "for i in mins:\n",
    "    minsalary.append(i.text)\n",
    "minsalary[:10]\n",
    "\n",
    "minimum_salary = minsalary[:10]\n",
    "minimum_salary"
   ]
  },
  {
   "cell_type": "code",
   "execution_count": 75,
   "metadata": {},
   "outputs": [
    {
     "data": {
      "text/plain": [
       "['₹1,250K',\n",
       " '₹2,730K',\n",
       " '₹2,213K',\n",
       " '₹1,613K',\n",
       " '₹11,622K',\n",
       " '₹1,520K',\n",
       " '₹1,465K',\n",
       " '₹1,809K',\n",
       " '₹1,520K',\n",
       " '₹2,149K']"
      ]
     },
     "execution_count": 75,
     "metadata": {},
     "output_type": "execute_result"
    }
   ],
   "source": [
    "maxs = driver_s.find_elements_by_xpath(\"//div[@class='d-flex mt-xxsm css-79elbk epuxyqn0']/p[2]\")\n",
    "maxs\n",
    "\n",
    "maxsalary= []\n",
    "for i in maxs:\n",
    "    maxsalary.append(i.text)\n",
    "maxsalary[:10]\n",
    "\n",
    "maximum_salary = maxsalary[:10]\n",
    "maximum_salary"
   ]
  },
  {
   "cell_type": "code",
   "execution_count": 79,
   "metadata": {},
   "outputs": [
    {
     "data": {
      "text/html": [
       "<div>\n",
       "<style scoped>\n",
       "    .dataframe tbody tr th:only-of-type {\n",
       "        vertical-align: middle;\n",
       "    }\n",
       "\n",
       "    .dataframe tbody tr th {\n",
       "        vertical-align: top;\n",
       "    }\n",
       "\n",
       "    .dataframe thead th {\n",
       "        text-align: right;\n",
       "    }\n",
       "</style>\n",
       "<table border=\"1\" class=\"dataframe\">\n",
       "  <thead>\n",
       "    <tr style=\"text-align: right;\">\n",
       "      <th></th>\n",
       "      <th>Company_Name</th>\n",
       "      <th>Number_of_Salaries</th>\n",
       "      <th>Average_salary</th>\n",
       "      <th>Minimum_Salary</th>\n",
       "      <th>Maximum_Salary</th>\n",
       "    </tr>\n",
       "  </thead>\n",
       "  <tbody>\n",
       "    <tr>\n",
       "      <th>0</th>\n",
       "      <td>Tata Consultancy Services</td>\n",
       "      <td>17 salaries</td>\n",
       "      <td>₹ 6,14,306 /yr</td>\n",
       "      <td>₹343K</td>\n",
       "      <td>₹1,250K</td>\n",
       "    </tr>\n",
       "    <tr>\n",
       "      <th>1</th>\n",
       "      <td>IBM</td>\n",
       "      <td>15 salaries</td>\n",
       "      <td>₹ 9,00,000 /yr</td>\n",
       "      <td>₹586K</td>\n",
       "      <td>₹2,730K</td>\n",
       "    </tr>\n",
       "    <tr>\n",
       "      <th>2</th>\n",
       "      <td>Accenture</td>\n",
       "      <td>14 salaries</td>\n",
       "      <td>₹ 11,46,533 /yr</td>\n",
       "      <td>₹577K</td>\n",
       "      <td>₹2,213K</td>\n",
       "    </tr>\n",
       "    <tr>\n",
       "      <th>3</th>\n",
       "      <td>Ericsson-Worldwide</td>\n",
       "      <td>14 salaries</td>\n",
       "      <td>₹ 7,38,057 /yr</td>\n",
       "      <td>₹355K</td>\n",
       "      <td>₹1,613K</td>\n",
       "    </tr>\n",
       "    <tr>\n",
       "      <th>4</th>\n",
       "      <td>Delhivery</td>\n",
       "      <td>14 salaries</td>\n",
       "      <td>₹ 12,39,781 /yr</td>\n",
       "      <td>₹450K</td>\n",
       "      <td>₹11,622K</td>\n",
       "    </tr>\n",
       "    <tr>\n",
       "      <th>5</th>\n",
       "      <td>UnitedHealth Group</td>\n",
       "      <td>11 salaries</td>\n",
       "      <td>₹ 13,36,142 /yr</td>\n",
       "      <td>₹1,069K</td>\n",
       "      <td>₹1,520K</td>\n",
       "    </tr>\n",
       "    <tr>\n",
       "      <th>6</th>\n",
       "      <td>Valiance Solutions</td>\n",
       "      <td>9 salaries</td>\n",
       "      <td>₹ 8,15,192 /yr</td>\n",
       "      <td>₹502K</td>\n",
       "      <td>₹1,465K</td>\n",
       "    </tr>\n",
       "    <tr>\n",
       "      <th>7</th>\n",
       "      <td>ZS Associates</td>\n",
       "      <td>8 salaries</td>\n",
       "      <td>₹ 11,35,221 /yr</td>\n",
       "      <td>₹202K</td>\n",
       "      <td>₹1,809K</td>\n",
       "    </tr>\n",
       "    <tr>\n",
       "      <th>8</th>\n",
       "      <td>EXL Service</td>\n",
       "      <td>8 salaries</td>\n",
       "      <td>₹ 11,44,243 /yr</td>\n",
       "      <td>₹575K</td>\n",
       "      <td>₹1,520K</td>\n",
       "    </tr>\n",
       "    <tr>\n",
       "      <th>9</th>\n",
       "      <td>Optum Global Solutions</td>\n",
       "      <td>8 salaries</td>\n",
       "      <td>₹ 14,13,288 /yr</td>\n",
       "      <td>₹1,014K</td>\n",
       "      <td>₹2,149K</td>\n",
       "    </tr>\n",
       "  </tbody>\n",
       "</table>\n",
       "</div>"
      ],
      "text/plain": [
       "                Company_Name Number_of_Salaries   Average_salary  \\\n",
       "0  Tata Consultancy Services        17 salaries   ₹ 6,14,306 /yr   \n",
       "1                        IBM        15 salaries   ₹ 9,00,000 /yr   \n",
       "2                  Accenture        14 salaries  ₹ 11,46,533 /yr   \n",
       "3         Ericsson-Worldwide        14 salaries   ₹ 7,38,057 /yr   \n",
       "4                  Delhivery        14 salaries  ₹ 12,39,781 /yr   \n",
       "5         UnitedHealth Group        11 salaries  ₹ 13,36,142 /yr   \n",
       "6         Valiance Solutions         9 salaries   ₹ 8,15,192 /yr   \n",
       "7              ZS Associates         8 salaries  ₹ 11,35,221 /yr   \n",
       "8                EXL Service         8 salaries  ₹ 11,44,243 /yr   \n",
       "9     Optum Global Solutions         8 salaries  ₹ 14,13,288 /yr   \n",
       "\n",
       "  Minimum_Salary Maximum_Salary  \n",
       "0          ₹343K        ₹1,250K  \n",
       "1          ₹586K        ₹2,730K  \n",
       "2          ₹577K        ₹2,213K  \n",
       "3          ₹355K        ₹1,613K  \n",
       "4          ₹450K       ₹11,622K  \n",
       "5        ₹1,069K        ₹1,520K  \n",
       "6          ₹502K        ₹1,465K  \n",
       "7          ₹202K        ₹1,809K  \n",
       "8          ₹575K        ₹1,520K  \n",
       "9        ₹1,014K        ₹2,149K  "
      ]
     },
     "execution_count": 79,
     "metadata": {},
     "output_type": "execute_result"
    }
   ],
   "source": [
    "COMPANY_NAMES_SALARY = pd.DataFrame(co_salary,columns=['Company_Name'])\n",
    "COMPANY_NAMES_SALARY\n",
    "NUMBER_OF_SALARIES = pd.DataFrame(number_salary,columns=['Number_of_Salaries'])\n",
    "NUMBER_OF_SALARIES\n",
    "AVERAGE_SALARY = pd.DataFrame(avg_salary,columns=['Average_salary'])\n",
    "AVERAGE_SALARY\n",
    "MINIMUM_SALARY = pd.DataFrame(minimum_salary,columns=['Minimum_Salary'])\n",
    "MINIMUM_SALARY\n",
    "MAXIMUM_SALARY = pd.DataFrame(maximum_salary,columns=['Maximum_Salary'])\n",
    "MAXIMUM_SALARY\n",
    "\n",
    "\n",
    "\n",
    "\n",
    "JOBS_FOR_DATA_SCIENTIST_NOIDA_SALARY_DATA = pd.concat([COMPANY_NAMES_SALARY,NUMBER_OF_SALARIES,AVERAGE_SALARY,MINIMUM_SALARY,MAXIMUM_SALARY],axis=1)\n",
    "JOBS_FOR_DATA_SCIENTIST_NOIDA_SALARY_DATA"
   ]
  },
  {
   "cell_type": "markdown",
   "metadata": {},
   "source": [
    "## ANSWER TO QUESTION 6 OF WEB SCRAPING ASSIGNMENT 2:-"
   ]
  },
  {
   "cell_type": "code",
   "execution_count": 24,
   "metadata": {},
   "outputs": [],
   "source": [
    "from selenium.common.exceptions import NoSuchElementException"
   ]
  },
  {
   "cell_type": "code",
   "execution_count": 25,
   "metadata": {},
   "outputs": [],
   "source": [
    "driver_flipkart = webdriver.Chrome('chromedriver.exe')"
   ]
  },
  {
   "cell_type": "code",
   "execution_count": 26,
   "metadata": {},
   "outputs": [],
   "source": [
    "url_ = 'https://www.flipkart.com'\n",
    "driver_flipkart.get(url_)\n",
    "\n",
    "#button click search\n",
    "close_button = driver_flipkart.find_element_by_xpath(\"//button[@class='_2KpZ6l _2doB4z']\")\n",
    "close_button.click()\n",
    "\n",
    "#job search bar\n",
    "search_job = driver_flipkart.find_element_by_xpath(\"//input[@title='Search for products, brands and more']\")\n",
    "search_job.send_keys(\"sunglasses\")\n",
    "\n",
    "\n",
    "#button click search\n",
    "search_button = driver_flipkart.find_element_by_xpath(\"//button[@class='L0Z3Pu']\")\n",
    "search_button.click()\n"
   ]
  },
  {
   "cell_type": "code",
   "execution_count": 27,
   "metadata": {},
   "outputs": [
    {
     "data": {
      "text/plain": [
       "['https://www.flipkart.com/search?q=sunglasses&otracker=search&otracker1=search&marketplace=FLIPKART&as-show=off&as=off&page=1',\n",
       " 'https://www.flipkart.com/search?q=sunglasses&otracker=search&otracker1=search&marketplace=FLIPKART&as-show=off&as=off&page=2',\n",
       " 'https://www.flipkart.com/search?q=sunglasses&otracker=search&otracker1=search&marketplace=FLIPKART&as-show=off&as=off&page=3']"
      ]
     },
     "execution_count": 27,
     "metadata": {},
     "output_type": "execute_result"
    }
   ],
   "source": [
    "flip_pages=[]\n",
    "for page in range(1, 4, 1):\n",
    "    \n",
    "    page_url = \"https://www.flipkart.com/search?q=sunglasses&otracker=search&otracker1=search&marketplace=FLIPKART&as-show=off&as=off&page=\" + str(page)\n",
    "    driver_flipkart.get(page_url)\n",
    "    flip_pages.append(page_url)\n",
    "flip_pages\n"
   ]
  },
  {
   "cell_type": "code",
   "execution_count": 33,
   "metadata": {},
   "outputs": [
    {
     "data": {
      "text/plain": [
       "120"
      ]
     },
     "execution_count": 33,
     "metadata": {},
     "output_type": "execute_result"
    }
   ],
   "source": [
    "urls=[]\n",
    "for u in flip_pages:\n",
    "    for i in driver_flipkart.find_elements_by_xpath(\"//a[@class='_2UzuFa']\"):\n",
    "        try:\n",
    "            urls.append(i.get_attribute('href'))\n",
    "        except NoSuchElementException:\n",
    "            urls.append('-')\n",
    "    \n",
    "len(urls)"
   ]
  },
  {
   "cell_type": "code",
   "execution_count": 36,
   "metadata": {},
   "outputs": [
    {
     "name": "stdout",
     "output_type": "stream",
     "text": [
      "100\n",
      "100\n",
      "100\n",
      "100\n"
     ]
    }
   ],
   "source": [
    "BRANDS=[]\n",
    "DESCP=[]\n",
    "PRICE_sunglass=[]\n",
    "DISCOUNT=[]\n",
    "\n",
    "for i in urls[:100]:\n",
    "    driver_flipkart.get(i)\n",
    "    time.sleep(3)\n",
    "    \n",
    "    try:\n",
    "        product_tag=driver_flipkart.find_element_by_xpath(\"//span[@class='G6XhRU']\")\n",
    "        BRANDS.append(product_tag.text)\n",
    "    except NoSuchElementException:\n",
    "        BRANDS.append('-')\n",
    "        \n",
    "    try:\n",
    "        desc_tag=driver_flipkart.find_element_by_xpath(\"//span[@class='B_NuCI']\")\n",
    "        DESCP.append(desc_tag.text)\n",
    "    except NoSuchElementException:\n",
    "        DESCP.append('-')\n",
    "        \n",
    "    try:\n",
    "        price_tag=driver_flipkart.find_element_by_xpath(\"//div[@class='_30jeq3 _16Jk6d']\")\n",
    "        PRICE_sunglass.append(price_tag.text)\n",
    "    except NoSuchElementException:\n",
    "        PRICE_sunglass.append('-')\n",
    "        \n",
    "    try:\n",
    "        discount_tag=driver_flipkart.find_element_by_xpath(\"//div[@class='_3Ay6Sb _31Dcoz pZkvcx']\")\n",
    "        DISCOUNT.append(discount_tag.text)\n",
    "    except NoSuchElementException:\n",
    "        DISCOUNT.append('-')\n",
    "\n",
    "    \n",
    "    \n",
    "    \n",
    "        \n",
    "        \n",
    "        \n",
    "print(len(BRANDS))\n",
    "print(len(DESCP))\n",
    "print(len(PRICE_sunglass))\n",
    "print(len(DISCOUNT))\n",
    "\n"
   ]
  },
  {
   "cell_type": "code",
   "execution_count": 38,
   "metadata": {},
   "outputs": [
    {
     "data": {
      "text/html": [
       "<div>\n",
       "<style scoped>\n",
       "    .dataframe tbody tr th:only-of-type {\n",
       "        vertical-align: middle;\n",
       "    }\n",
       "\n",
       "    .dataframe tbody tr th {\n",
       "        vertical-align: top;\n",
       "    }\n",
       "\n",
       "    .dataframe thead th {\n",
       "        text-align: right;\n",
       "    }\n",
       "</style>\n",
       "<table border=\"1\" class=\"dataframe\">\n",
       "  <thead>\n",
       "    <tr style=\"text-align: right;\">\n",
       "      <th></th>\n",
       "      <th>Brand_Name</th>\n",
       "      <th>Description</th>\n",
       "      <th>Price</th>\n",
       "      <th>Discount_%</th>\n",
       "    </tr>\n",
       "  </thead>\n",
       "  <tbody>\n",
       "    <tr>\n",
       "      <th>0</th>\n",
       "      <td>ROYAL SON</td>\n",
       "      <td>UV Protection Retro Square Sunglasses (88)  (For Men &amp; Women, Blue)</td>\n",
       "      <td>₹479</td>\n",
       "      <td>76% off</td>\n",
       "    </tr>\n",
       "    <tr>\n",
       "      <th>1</th>\n",
       "      <td>IZAAN MART</td>\n",
       "      <td>Mirrored, UV Protection, Riding Glasses Rectangular, Retro Square Sunglasses (Free Size)  (For Men &amp; Women, Blue, Clear)</td>\n",
       "      <td>₹499</td>\n",
       "      <td>76% off</td>\n",
       "    </tr>\n",
       "    <tr>\n",
       "      <th>2</th>\n",
       "      <td>PIRASO</td>\n",
       "      <td>UV Protection Aviator Sunglasses (54)  (For Men &amp; Women, Black)</td>\n",
       "      <td>₹237</td>\n",
       "      <td>85% off</td>\n",
       "    </tr>\n",
       "    <tr>\n",
       "      <th>3</th>\n",
       "      <td>PIRASO</td>\n",
       "      <td>UV Protection Aviator Sunglasses (54)  (For Men &amp; Women, Green)</td>\n",
       "      <td>₹237</td>\n",
       "      <td>85% off</td>\n",
       "    </tr>\n",
       "    <tr>\n",
       "      <th>4</th>\n",
       "      <td>-</td>\n",
       "      <td>-</td>\n",
       "      <td>-</td>\n",
       "      <td>-</td>\n",
       "    </tr>\n",
       "    <tr>\n",
       "      <th>...</th>\n",
       "      <td>...</td>\n",
       "      <td>...</td>\n",
       "      <td>...</td>\n",
       "      <td>...</td>\n",
       "    </tr>\n",
       "    <tr>\n",
       "      <th>95</th>\n",
       "      <td>ROYAL SON</td>\n",
       "      <td>Mirrored Aviator Sunglasses (58)  (For Men, Clear, Silver)</td>\n",
       "      <td>₹319</td>\n",
       "      <td>78% off</td>\n",
       "    </tr>\n",
       "    <tr>\n",
       "      <th>96</th>\n",
       "      <td>HIPPON</td>\n",
       "      <td>UV Protection Wayfarer Sunglasses (55)  (For Men &amp; Women, Violet)</td>\n",
       "      <td>₹251</td>\n",
       "      <td>79% off</td>\n",
       "    </tr>\n",
       "    <tr>\n",
       "      <th>97</th>\n",
       "      <td>PIRASO</td>\n",
       "      <td>UV Protection Wayfarer Sunglasses (32)  (For Men &amp; Women, Black)</td>\n",
       "      <td>₹237</td>\n",
       "      <td>85% off</td>\n",
       "    </tr>\n",
       "    <tr>\n",
       "      <th>98</th>\n",
       "      <td>Fastrack</td>\n",
       "      <td>UV Protection Wayfarer Sunglasses (Free Size)  (For Men, Grey)</td>\n",
       "      <td>₹696</td>\n",
       "      <td>22% off</td>\n",
       "    </tr>\n",
       "    <tr>\n",
       "      <th>99</th>\n",
       "      <td>ROZZETTA CRAFT</td>\n",
       "      <td>UV Protection Retro Square Sunglasses (Free Size)  (For Men &amp; Women, Black)</td>\n",
       "      <td>₹380</td>\n",
       "      <td>77% off</td>\n",
       "    </tr>\n",
       "  </tbody>\n",
       "</table>\n",
       "<p>100 rows × 4 columns</p>\n",
       "</div>"
      ],
      "text/plain": [
       "         Brand_Name  \\\n",
       "0        ROYAL SON    \n",
       "1       IZAAN MART    \n",
       "2           PIRASO    \n",
       "3           PIRASO    \n",
       "4                 -   \n",
       "..              ...   \n",
       "95       ROYAL SON    \n",
       "96          HIPPON    \n",
       "97          PIRASO    \n",
       "98        Fastrack    \n",
       "99  ROZZETTA CRAFT    \n",
       "\n",
       "                                                                                                                 Description  \\\n",
       "0                                                        UV Protection Retro Square Sunglasses (88)  (For Men & Women, Blue)   \n",
       "1   Mirrored, UV Protection, Riding Glasses Rectangular, Retro Square Sunglasses (Free Size)  (For Men & Women, Blue, Clear)   \n",
       "2                                                            UV Protection Aviator Sunglasses (54)  (For Men & Women, Black)   \n",
       "3                                                            UV Protection Aviator Sunglasses (54)  (For Men & Women, Green)   \n",
       "4                                                                                                                          -   \n",
       "..                                                                                                                       ...   \n",
       "95                                                                Mirrored Aviator Sunglasses (58)  (For Men, Clear, Silver)   \n",
       "96                                                         UV Protection Wayfarer Sunglasses (55)  (For Men & Women, Violet)   \n",
       "97                                                          UV Protection Wayfarer Sunglasses (32)  (For Men & Women, Black)   \n",
       "98                                                            UV Protection Wayfarer Sunglasses (Free Size)  (For Men, Grey)   \n",
       "99                                               UV Protection Retro Square Sunglasses (Free Size)  (For Men & Women, Black)   \n",
       "\n",
       "   Price Discount_%  \n",
       "0   ₹479    76% off  \n",
       "1   ₹499    76% off  \n",
       "2   ₹237    85% off  \n",
       "3   ₹237    85% off  \n",
       "4      -          -  \n",
       "..   ...        ...  \n",
       "95  ₹319    78% off  \n",
       "96  ₹251    79% off  \n",
       "97  ₹237    85% off  \n",
       "98  ₹696    22% off  \n",
       "99  ₹380    77% off  \n",
       "\n",
       "[100 rows x 4 columns]"
      ]
     },
     "execution_count": 38,
     "metadata": {},
     "output_type": "execute_result"
    }
   ],
   "source": [
    "BRAND_NAME = pd.DataFrame(BRANDS,columns=['Brand_Name'])\n",
    "BRAND_NAME\n",
    "DESCRIPTION = pd.DataFrame(DESCP,columns=['Description'])\n",
    "DESCRIPTION\n",
    "PRICE_RS = pd.DataFrame(PRICE_sunglass,columns=['Price'])\n",
    "PRICE_RS\n",
    "DISCOUNT_PERCENTAGE = pd.DataFrame(DISCOUNT,columns=['Discount_%'])\n",
    "DISCOUNT_PERCENTAGE\n",
    "\n",
    "\n",
    "\n",
    "\n",
    "pd.set_option('display.max_colwidth', None)\n",
    "FLIPKART_SUNGLASSES_DATA = pd.concat([BRAND_NAME,DESCRIPTION,PRICE_RS,DISCOUNT_PERCENTAGE],axis=1)\n",
    "FLIPKART_SUNGLASSES_DATA"
   ]
  },
  {
   "cell_type": "markdown",
   "metadata": {},
   "source": [
    "## ANSWER TO QUESTION 7 OF WEB SCRAPING ASSIGNMENT 2:-"
   ]
  },
  {
   "cell_type": "code",
   "execution_count": 41,
   "metadata": {},
   "outputs": [],
   "source": [
    "from selenium.common.exceptions import NoSuchElementException"
   ]
  },
  {
   "cell_type": "code",
   "execution_count": 42,
   "metadata": {},
   "outputs": [],
   "source": [
    "driver_i11 = webdriver.Chrome('chromedriver.exe')"
   ]
  },
  {
   "cell_type": "code",
   "execution_count": 43,
   "metadata": {},
   "outputs": [],
   "source": [
    "url_i11 = 'https://www.flipkart.com/apple-iphone-11-black-64-gb-includesearpods-poweradapter/p/itm0f37c2240b217?pid=MOBFKCTSVZAXUHGR&lid=LSTMOBFKCTSVZAXUHGREPBFGI&marketplace.'\n",
    "driver_i11.get(url_i11)\n",
    "time.sleep(4)"
   ]
  },
  {
   "cell_type": "code",
   "execution_count": 44,
   "metadata": {},
   "outputs": [],
   "source": [
    "#button click search\n",
    "all_r_button = driver_i11.find_element_by_xpath(\"//div[@class='_3UAT2v _16PBlm']\")\n",
    "all_r_button.click()"
   ]
  },
  {
   "cell_type": "code",
   "execution_count": 45,
   "metadata": {},
   "outputs": [
    {
     "data": {
      "text/plain": [
       "['https://www.flipkart.com/apple-iphone-11-black-64-gb-includes-earpods-power-adapter/product-reviews/itm0f37c2240b217?pid=MOBFKCTSVZAXUHGR&lid=LSTMOBFKCTSVZAXUHGREPBFGI&marketplace=FLIPKART&page=1',\n",
       " 'https://www.flipkart.com/apple-iphone-11-black-64-gb-includes-earpods-power-adapter/product-reviews/itm0f37c2240b217?pid=MOBFKCTSVZAXUHGR&lid=LSTMOBFKCTSVZAXUHGREPBFGI&marketplace=FLIPKART&page=2',\n",
       " 'https://www.flipkart.com/apple-iphone-11-black-64-gb-includes-earpods-power-adapter/product-reviews/itm0f37c2240b217?pid=MOBFKCTSVZAXUHGR&lid=LSTMOBFKCTSVZAXUHGREPBFGI&marketplace=FLIPKART&page=3',\n",
       " 'https://www.flipkart.com/apple-iphone-11-black-64-gb-includes-earpods-power-adapter/product-reviews/itm0f37c2240b217?pid=MOBFKCTSVZAXUHGR&lid=LSTMOBFKCTSVZAXUHGREPBFGI&marketplace=FLIPKART&page=4',\n",
       " 'https://www.flipkart.com/apple-iphone-11-black-64-gb-includes-earpods-power-adapter/product-reviews/itm0f37c2240b217?pid=MOBFKCTSVZAXUHGR&lid=LSTMOBFKCTSVZAXUHGREPBFGI&marketplace=FLIPKART&page=5',\n",
       " 'https://www.flipkart.com/apple-iphone-11-black-64-gb-includes-earpods-power-adapter/product-reviews/itm0f37c2240b217?pid=MOBFKCTSVZAXUHGR&lid=LSTMOBFKCTSVZAXUHGREPBFGI&marketplace=FLIPKART&page=6',\n",
       " 'https://www.flipkart.com/apple-iphone-11-black-64-gb-includes-earpods-power-adapter/product-reviews/itm0f37c2240b217?pid=MOBFKCTSVZAXUHGR&lid=LSTMOBFKCTSVZAXUHGREPBFGI&marketplace=FLIPKART&page=7',\n",
       " 'https://www.flipkart.com/apple-iphone-11-black-64-gb-includes-earpods-power-adapter/product-reviews/itm0f37c2240b217?pid=MOBFKCTSVZAXUHGR&lid=LSTMOBFKCTSVZAXUHGREPBFGI&marketplace=FLIPKART&page=8',\n",
       " 'https://www.flipkart.com/apple-iphone-11-black-64-gb-includes-earpods-power-adapter/product-reviews/itm0f37c2240b217?pid=MOBFKCTSVZAXUHGR&lid=LSTMOBFKCTSVZAXUHGREPBFGI&marketplace=FLIPKART&page=9',\n",
       " 'https://www.flipkart.com/apple-iphone-11-black-64-gb-includes-earpods-power-adapter/product-reviews/itm0f37c2240b217?pid=MOBFKCTSVZAXUHGR&lid=LSTMOBFKCTSVZAXUHGREPBFGI&marketplace=FLIPKART&page=10',\n",
       " 'https://www.flipkart.com/apple-iphone-11-black-64-gb-includes-earpods-power-adapter/product-reviews/itm0f37c2240b217?pid=MOBFKCTSVZAXUHGR&lid=LSTMOBFKCTSVZAXUHGREPBFGI&marketplace=FLIPKART&page=11']"
      ]
     },
     "execution_count": 45,
     "metadata": {},
     "output_type": "execute_result"
    }
   ],
   "source": [
    "flip_rev_pages=[]\n",
    "for page in range(1, 12, 1):\n",
    "    \n",
    "    page_url_i11 = \"https://www.flipkart.com/apple-iphone-11-black-64-gb-includes-earpods-power-adapter/product-reviews/itm0f37c2240b217?pid=MOBFKCTSVZAXUHGR&lid=LSTMOBFKCTSVZAXUHGREPBFGI&marketplace=FLIPKART&page=\" + str(page)\n",
    "    driver_i11.get(page_url_i11)\n",
    "    time.sleep(3)\n",
    "    flip_rev_pages.append(page_url_i11)\n",
    "flip_rev_pages"
   ]
  },
  {
   "cell_type": "code",
   "execution_count": 46,
   "metadata": {},
   "outputs": [
    {
     "name": "stdout",
     "output_type": "stream",
     "text": [
      "108\n",
      "110\n",
      "110\n"
     ]
    }
   ],
   "source": [
    "rating=[]\n",
    "re_summary=[]\n",
    "full_review=[]\n",
    "\n",
    "\n",
    "for page in flip_rev_pages:\n",
    "    driver_i11.get(page)\n",
    "    time.sleep(3)\n",
    "    try:\n",
    "        rating_tags=driver_i11.find_elements_by_xpath(\"//div[@class='_3LWZlK _1BLPMq']\")\n",
    "        for i in rating_tags:\n",
    "            rating.append(i.text)\n",
    "\n",
    "    except NoSuchElementException:\n",
    "        ratings.append('-')\n",
    "for page in flip_rev_pages:\n",
    "    driver_i11.get(page)\n",
    "    time.sleep(3)\n",
    "    try:\n",
    "        re_tags=driver_i11.find_elements_by_xpath(\"//p[@class='_2-N8zT']\")\n",
    "        for i in re_tags:\n",
    "            re_summary.append(i.text)\n",
    "    except NoSuchElementException:\n",
    "        re_summary.append('-')\n",
    "    \n",
    "for page in flip_rev_pages:\n",
    "    driver_i11.get(page)\n",
    "    time.sleep(3)\n",
    "    try:    \n",
    "        full_review_tags=driver_i11.find_elements_by_xpath(\"//div[@class='t-ZTKy']\")\n",
    "        for i in full_review_tags:\n",
    "            full_review.append(i.text.replace(\"\\n\",''))\n",
    "    except NoSuchElementException:\n",
    "        full_review.append('-')\n",
    "        \n",
    "\n",
    "\n",
    "\n",
    "        \n",
    "rating_ = rating[:100]\n",
    "rev = re_summary[:100]\n",
    "full_reviews = full_review[:100]\n",
    "        \n",
    "\n",
    "        \n",
    "print(len(rating))\n",
    "print(len(re_summary))\n",
    "print(len(full_review))\n"
   ]
  },
  {
   "cell_type": "code",
   "execution_count": 47,
   "metadata": {},
   "outputs": [
    {
     "data": {
      "text/html": [
       "<div>\n",
       "<style scoped>\n",
       "    .dataframe tbody tr th:only-of-type {\n",
       "        vertical-align: middle;\n",
       "    }\n",
       "\n",
       "    .dataframe tbody tr th {\n",
       "        vertical-align: top;\n",
       "    }\n",
       "\n",
       "    .dataframe thead th {\n",
       "        text-align: right;\n",
       "    }\n",
       "</style>\n",
       "<table border=\"1\" class=\"dataframe\">\n",
       "  <thead>\n",
       "    <tr style=\"text-align: right;\">\n",
       "      <th></th>\n",
       "      <th>Rating</th>\n",
       "      <th>Review_summary</th>\n",
       "      <th>Full_Review</th>\n",
       "    </tr>\n",
       "  </thead>\n",
       "  <tbody>\n",
       "    <tr>\n",
       "      <th>0</th>\n",
       "      <td>5</td>\n",
       "      <td>Brilliant</td>\n",
       "      <td>The Best Phone for the MoneyThe iPhone 11 offers superb cameras, a more durable design and excellent battery life for an affordable price.Compelling ultra-wide cameraNew Night mode is excellentLong battery life</td>\n",
       "    </tr>\n",
       "    <tr>\n",
       "      <th>1</th>\n",
       "      <td>5</td>\n",
       "      <td>Perfect product!</td>\n",
       "      <td>Amazing phone with great cameras and better battery which gives you the best performance. I just love the camera .</td>\n",
       "    </tr>\n",
       "    <tr>\n",
       "      <th>2</th>\n",
       "      <td>5</td>\n",
       "      <td>Great product</td>\n",
       "      <td>Amazing Powerful and Durable Gadget.I’m am very happy with the camera picture quality, Amazing face id unlocked in dark room, Strong battery with perfect screen size as you can carry easily in pocket. This is my third iPhone.I shifted from android Samsung Note series to iPhone because of the strong build quality and peace of mind for next 3-4 years.Don’t think to much just go for it and I suggest you to go for minimum 128gb variant or more 256gb.I’ve attached my puppy pics and no fi...READ MORE</td>\n",
       "    </tr>\n",
       "    <tr>\n",
       "      <th>3</th>\n",
       "      <td>5</td>\n",
       "      <td>Worth every penny</td>\n",
       "      <td>Previously I was using one plus 3t it was a great phoneAnd then I decided to upgrade I am stuck between Samsung s10 plus or iPhone 11I have seen the specs and everything were good except the display it’s somewhere between 720-1080 and it’s not even an amoled it’s an LCD displayBut I decided to go with iPhone because I have never used an IOS device I have Been an android user from the past 9 years I ordered IPhone 11 (128gb) product redMy experience after using 3 weeks1. The delivery ...READ MORE</td>\n",
       "    </tr>\n",
       "    <tr>\n",
       "      <th>4</th>\n",
       "      <td>5</td>\n",
       "      <td>Fabulous!</td>\n",
       "      <td>This is my first iOS phone. I am very happy with this product. Very much satisfied with this. I love this phone.</td>\n",
       "    </tr>\n",
       "    <tr>\n",
       "      <th>...</th>\n",
       "      <td>...</td>\n",
       "      <td>...</td>\n",
       "      <td>...</td>\n",
       "    </tr>\n",
       "    <tr>\n",
       "      <th>95</th>\n",
       "      <td>5</td>\n",
       "      <td>Mind-blowing purchase</td>\n",
       "      <td>i was confused between 11 and 11 pro. i was going towards 11 pro, but the screen size was not enough for me.And i saw 11 in the showroom. i didn't find much difference in screen quality.And cameras seems to be ok with me. And i saw offer's in flipkart and made the purchase.the device is fabulous. The hardware and software quality is excellent. The new iOS is something you need to experience yourself. The drawback i found was absence of fast charger, but the pricing can compensate that. Am...READ MORE</td>\n",
       "    </tr>\n",
       "    <tr>\n",
       "      <th>96</th>\n",
       "      <td>5</td>\n",
       "      <td>Does the job</td>\n",
       "      <td>phone is good but in display is 720p lcd in this price range we can get full hd OLED displays with higher refresh rate processor is very good camera is nice but looks kind of oldish in front of todays phone also there's no charging in box had to buy it seperately</td>\n",
       "    </tr>\n",
       "    <tr>\n",
       "      <th>97</th>\n",
       "      <td>5</td>\n",
       "      <td>Fabulous!</td>\n",
       "      <td>Everything is perfect pictures come out so clearly and at first I wasn’t sure when I got it then when I started to use it and get the hang of it it was amazing!! I can’t wait to see what the next future phones will be like. The screen display on this bad boy are unbelievable they are so clear and never fail me. The performance is super cool there is a lot of cool features as well I like this phone because I feel that it is easy to use and one of my favorite things about this phone is the Face...READ MORE</td>\n",
       "    </tr>\n",
       "    <tr>\n",
       "      <th>98</th>\n",
       "      <td>5</td>\n",
       "      <td>Awesome</td>\n",
       "      <td>I dreamt about this day from a long time.... Getting an iPhone with my own money.... Super happy and worth spending every penny</td>\n",
       "    </tr>\n",
       "    <tr>\n",
       "      <th>99</th>\n",
       "      <td>4</td>\n",
       "      <td>Classy product</td>\n",
       "      <td>Got my iPhone 11 today! It’s totally worth it even in 2021. Takes wonderful images and the stabilisation of video on this phone is just awesome although it is a 2019 model. Performance wise it’s ultra fast as expected to be. The only drawback per paper is the screen it has, but in usage I noticed nothing bad and the screen was totally fine for me!I upgraded from Nokia 6.1 Plus and it’s great 🤩</td>\n",
       "    </tr>\n",
       "  </tbody>\n",
       "</table>\n",
       "<p>100 rows × 3 columns</p>\n",
       "</div>"
      ],
      "text/plain": [
       "   Rating         Review_summary  \\\n",
       "0       5              Brilliant   \n",
       "1       5       Perfect product!   \n",
       "2       5          Great product   \n",
       "3       5      Worth every penny   \n",
       "4       5              Fabulous!   \n",
       "..    ...                    ...   \n",
       "95      5  Mind-blowing purchase   \n",
       "96      5           Does the job   \n",
       "97      5              Fabulous!   \n",
       "98      5                Awesome   \n",
       "99      4         Classy product   \n",
       "\n",
       "                                                                                                                                                                                                                                                                                                                                                                                                                                                                                                                      Full_Review  \n",
       "0                                                                                                                                                                                                                                                                                                              The Best Phone for the MoneyThe iPhone 11 offers superb cameras, a more durable design and excellent battery life for an affordable price.Compelling ultra-wide cameraNew Night mode is excellentLong battery life  \n",
       "1                                                                                                                                                                                                                                                                                                                                                                                                              Amazing phone with great cameras and better battery which gives you the best performance. I just love the camera .  \n",
       "2             Amazing Powerful and Durable Gadget.I’m am very happy with the camera picture quality, Amazing face id unlocked in dark room, Strong battery with perfect screen size as you can carry easily in pocket. This is my third iPhone.I shifted from android Samsung Note series to iPhone because of the strong build quality and peace of mind for next 3-4 years.Don’t think to much just go for it and I suggest you to go for minimum 128gb variant or more 256gb.I’ve attached my puppy pics and no fi...READ MORE  \n",
       "3            Previously I was using one plus 3t it was a great phoneAnd then I decided to upgrade I am stuck between Samsung s10 plus or iPhone 11I have seen the specs and everything were good except the display it’s somewhere between 720-1080 and it’s not even an amoled it’s an LCD displayBut I decided to go with iPhone because I have never used an IOS device I have Been an android user from the past 9 years I ordered IPhone 11 (128gb) product redMy experience after using 3 weeks1. The delivery ...READ MORE  \n",
       "4                                                                                                                                                                                                                                                                                                                                                                                                                This is my first iOS phone. I am very happy with this product. Very much satisfied with this. I love this phone.  \n",
       "..                                                                                                                                                                                                                                                                                                                                                                                                                                                                                                                            ...  \n",
       "95      i was confused between 11 and 11 pro. i was going towards 11 pro, but the screen size was not enough for me.And i saw 11 in the showroom. i didn't find much difference in screen quality.And cameras seems to be ok with me. And i saw offer's in flipkart and made the purchase.the device is fabulous. The hardware and software quality is excellent. The new iOS is something you need to experience yourself. The drawback i found was absence of fast charger, but the pricing can compensate that. Am...READ MORE  \n",
       "96                                                                                                                                                                                                                                                        phone is good but in display is 720p lcd in this price range we can get full hd OLED displays with higher refresh rate processor is very good camera is nice but looks kind of oldish in front of todays phone also there's no charging in box had to buy it seperately  \n",
       "97  Everything is perfect pictures come out so clearly and at first I wasn’t sure when I got it then when I started to use it and get the hang of it it was amazing!! I can’t wait to see what the next future phones will be like. The screen display on this bad boy are unbelievable they are so clear and never fail me. The performance is super cool there is a lot of cool features as well I like this phone because I feel that it is easy to use and one of my favorite things about this phone is the Face...READ MORE  \n",
       "98                                                                                                                                                                                                                                                                                                                                                                                                I dreamt about this day from a long time.... Getting an iPhone with my own money.... Super happy and worth spending every penny  \n",
       "99                                                                                                                   Got my iPhone 11 today! It’s totally worth it even in 2021. Takes wonderful images and the stabilisation of video on this phone is just awesome although it is a 2019 model. Performance wise it’s ultra fast as expected to be. The only drawback per paper is the screen it has, but in usage I noticed nothing bad and the screen was totally fine for me!I upgraded from Nokia 6.1 Plus and it’s great 🤩  \n",
       "\n",
       "[100 rows x 3 columns]"
      ]
     },
     "execution_count": 47,
     "metadata": {},
     "output_type": "execute_result"
    }
   ],
   "source": [
    "Rating = pd.DataFrame(rating_,columns=['Rating'])\n",
    "Rating\n",
    "Review_summary = pd.DataFrame(rev,columns=['Review_summary'])\n",
    "\n",
    "Full_rev = pd.DataFrame(full_reviews,columns=['Full_Review'])\n",
    "Full_rev\n",
    "\n",
    "\n",
    "\n",
    "\n",
    "pd.set_option('display.max_colwidth', None)\n",
    "FLIPKART_Iphone11_DATA = pd.concat([Rating,Review_summary,Full_rev],axis=1)\n",
    "FLIPKART_Iphone11_DATA"
   ]
  },
  {
   "cell_type": "markdown",
   "metadata": {},
   "source": [
    "## ANSWER TO QUESTION 8 OF WEB SCRAPING ASSIGNMENT 2:-"
   ]
  },
  {
   "cell_type": "code",
   "execution_count": 89,
   "metadata": {},
   "outputs": [],
   "source": [
    "from selenium.common.exceptions import NoSuchElementException\n",
    "from selenium.common.exceptions import StaleElementReferenceException"
   ]
  },
  {
   "cell_type": "code",
   "execution_count": 90,
   "metadata": {},
   "outputs": [],
   "source": [
    "driver_flipkart1 = webdriver.Chrome('chromedriver.exe')\n"
   ]
  },
  {
   "cell_type": "code",
   "execution_count": 91,
   "metadata": {},
   "outputs": [],
   "source": [
    "urlf = 'https://www.flipkart.com'\n",
    "driver_flipkart1.get(urlf)\n",
    "\n",
    "#button click search\n",
    "close_button = driver_flipkart1.find_element_by_xpath(\"//button[@class='_2KpZ6l _2doB4z']\")\n",
    "close_button.click()\n",
    "\n",
    "#job search bar\n",
    "search_job = driver_flipkart1.find_element_by_xpath(\"//input[@title='Search for products, brands and more']\")\n",
    "search_job.send_keys(\"sneakers\")\n",
    "\n",
    "\n",
    "#button click search\n",
    "search_button = driver_flipkart1.find_element_by_xpath(\"//button[@class='L0Z3Pu']\")\n",
    "search_button.click()\n"
   ]
  },
  {
   "cell_type": "code",
   "execution_count": 92,
   "metadata": {},
   "outputs": [
    {
     "data": {
      "text/html": [
       "<div>\n",
       "<style scoped>\n",
       "    .dataframe tbody tr th:only-of-type {\n",
       "        vertical-align: middle;\n",
       "    }\n",
       "\n",
       "    .dataframe tbody tr th {\n",
       "        vertical-align: top;\n",
       "    }\n",
       "\n",
       "    .dataframe thead th {\n",
       "        text-align: right;\n",
       "    }\n",
       "</style>\n",
       "<table border=\"1\" class=\"dataframe\">\n",
       "  <thead>\n",
       "    <tr style=\"text-align: right;\">\n",
       "      <th></th>\n",
       "      <th>Company</th>\n",
       "      <th>Description</th>\n",
       "      <th>Price</th>\n",
       "      <th>Discount</th>\n",
       "    </tr>\n",
       "  </thead>\n",
       "  <tbody>\n",
       "    <tr>\n",
       "      <th>0</th>\n",
       "      <td>Numenzo</td>\n",
       "      <td>Sneakers For Men  (Black)</td>\n",
       "      <td>₹449</td>\n",
       "      <td>77% off</td>\n",
       "    </tr>\n",
       "    <tr>\n",
       "      <th>1</th>\n",
       "      <td>JUBENTA</td>\n",
       "      <td>Latest Design Sneakers For Men  (White)</td>\n",
       "      <td>₹521</td>\n",
       "      <td>47% off</td>\n",
       "    </tr>\n",
       "    <tr>\n",
       "      <th>2</th>\n",
       "      <td>PEHANOSA</td>\n",
       "      <td>Sneakers For Men  (Multicolor)</td>\n",
       "      <td>₹499</td>\n",
       "      <td>50% off</td>\n",
       "    </tr>\n",
       "    <tr>\n",
       "      <th>3</th>\n",
       "      <td>India hub</td>\n",
       "      <td>Fashionable casual sneakers shoes Sneakers For Men  (Black)</td>\n",
       "      <td>₹389</td>\n",
       "      <td>87% off</td>\n",
       "    </tr>\n",
       "    <tr>\n",
       "      <th>4</th>\n",
       "      <td>ORICUM</td>\n",
       "      <td>Combo pack of 2 casual sneaker shoes for men Sneakers For Men  (Multicolor)</td>\n",
       "      <td>₹377</td>\n",
       "      <td>62% off</td>\n",
       "    </tr>\n",
       "    <tr>\n",
       "      <th>...</th>\n",
       "      <td>...</td>\n",
       "      <td>...</td>\n",
       "      <td>...</td>\n",
       "      <td>...</td>\n",
       "    </tr>\n",
       "    <tr>\n",
       "      <th>95</th>\n",
       "      <td>BRUTON</td>\n",
       "      <td>Perfect &amp; Affordable Combo Pack of 02 Pairs Sneakers Outdoor Loafer Sports for Running Rock Climbing Gym Shoes Sneakers For Men  (Black, Blue)</td>\n",
       "      <td>₹381</td>\n",
       "      <td>84% off</td>\n",
       "    </tr>\n",
       "    <tr>\n",
       "      <th>96</th>\n",
       "      <td>Alfiya</td>\n",
       "      <td>Shoes in Black Color Party wear/Outdoor/Casual Shoes For Men (Black) Sneakers For Men  (Black)</td>\n",
       "      <td>₹377</td>\n",
       "      <td>62% off</td>\n",
       "    </tr>\n",
       "    <tr>\n",
       "      <th>97</th>\n",
       "      <td>Stefano Rads</td>\n",
       "      <td>Classy Sneakers For Men  (Blue)</td>\n",
       "      <td>₹242</td>\n",
       "      <td>65% off</td>\n",
       "    </tr>\n",
       "    <tr>\n",
       "      <th>98</th>\n",
       "      <td>HOTSTYLE</td>\n",
       "      <td>Sneakers Sneakers For Men  (Black)</td>\n",
       "      <td>₹283</td>\n",
       "      <td>43% off</td>\n",
       "    </tr>\n",
       "    <tr>\n",
       "      <th>99</th>\n",
       "      <td>HOCKWOOD</td>\n",
       "      <td>Street Smart Sneakers For Men  (Black)</td>\n",
       "      <td>₹699</td>\n",
       "      <td>30% off</td>\n",
       "    </tr>\n",
       "  </tbody>\n",
       "</table>\n",
       "<p>100 rows × 4 columns</p>\n",
       "</div>"
      ],
      "text/plain": [
       "          Company  \\\n",
       "0        Numenzo    \n",
       "1        JUBENTA    \n",
       "2       PEHANOSA    \n",
       "3      India hub    \n",
       "4         ORICUM    \n",
       "..            ...   \n",
       "95        BRUTON    \n",
       "96        Alfiya    \n",
       "97  Stefano Rads    \n",
       "98      HOTSTYLE    \n",
       "99      HOCKWOOD    \n",
       "\n",
       "                                                                                                                                       Description  \\\n",
       "0                                                                                                                        Sneakers For Men  (Black)   \n",
       "1                                                                                                          Latest Design Sneakers For Men  (White)   \n",
       "2                                                                                                                   Sneakers For Men  (Multicolor)   \n",
       "3                                                                                      Fashionable casual sneakers shoes Sneakers For Men  (Black)   \n",
       "4                                                                      Combo pack of 2 casual sneaker shoes for men Sneakers For Men  (Multicolor)   \n",
       "..                                                                                                                                             ...   \n",
       "95  Perfect & Affordable Combo Pack of 02 Pairs Sneakers Outdoor Loafer Sports for Running Rock Climbing Gym Shoes Sneakers For Men  (Black, Blue)   \n",
       "96                                                  Shoes in Black Color Party wear/Outdoor/Casual Shoes For Men (Black) Sneakers For Men  (Black)   \n",
       "97                                                                                                                 Classy Sneakers For Men  (Blue)   \n",
       "98                                                                                                              Sneakers Sneakers For Men  (Black)   \n",
       "99                                                                                                          Street Smart Sneakers For Men  (Black)   \n",
       "\n",
       "   Price Discount  \n",
       "0   ₹449  77% off  \n",
       "1   ₹521  47% off  \n",
       "2   ₹499  50% off  \n",
       "3   ₹389  87% off  \n",
       "4   ₹377  62% off  \n",
       "..   ...      ...  \n",
       "95  ₹381  84% off  \n",
       "96  ₹377  62% off  \n",
       "97  ₹242  65% off  \n",
       "98  ₹283  43% off  \n",
       "99  ₹699  30% off  \n",
       "\n",
       "[100 rows x 4 columns]"
      ]
     },
     "execution_count": 92,
     "metadata": {},
     "output_type": "execute_result"
    }
   ],
   "source": [
    "#getting all the links\n",
    "\n",
    "url = []\n",
    "\n",
    "while(len(url)<101):\n",
    "\n",
    "    time.sleep(2)\n",
    "\n",
    "    search= driver_flipkart1.find_elements_by_xpath(\"//a[@class='_2UzuFa']\")\n",
    "\n",
    "    for i in search:\n",
    "\n",
    "        url.append(i.get_attribute('href'))\n",
    "\n",
    "    driver_flipkart1.find_element_by_xpath(\"//a[@class='_1LKTO3']\").click()\n",
    "\n",
    "\n",
    "\n",
    "import time\n",
    "\n",
    "from selenium.common.exceptions import NoSuchElementException\n",
    "\n",
    "n=[]\n",
    "\n",
    "discription=[]\n",
    "\n",
    "pr=[]\n",
    "\n",
    "discou=[]\n",
    "\n",
    "\n",
    "\n",
    "for ur in url[:100]:\n",
    "\n",
    "    driver_flipkart1.get(ur)\n",
    "\n",
    "    time.sleep(2)\n",
    "\n",
    "    try:\n",
    "\n",
    "        name = driver_flipkart1.find_element_by_xpath(\"//span[@class='G6XhRU']\")\n",
    "\n",
    "        n.append(name.text)\n",
    "\n",
    "    except NoSuchElementException:\n",
    "\n",
    "        n.append(\"-\")\n",
    "\n",
    "    try:\n",
    "\n",
    "        disc = driver_flipkart1.find_element_by_xpath(\"//span[@class='B_NuCI']\")\n",
    "\n",
    "        discription.append(disc.text)\n",
    "\n",
    "    except NoSuchElementException:\n",
    "\n",
    "        discription.append(\"-\")\n",
    "\n",
    "    try:    \n",
    "\n",
    "        price = driver_flipkart1.find_element_by_xpath(\"//div[@class='_30jeq3 _16Jk6d']\")\n",
    "\n",
    "        pr.append(price.text)\n",
    "\n",
    "    except NoSuchElementException:\n",
    "\n",
    "        pr.append(\"-\")\n",
    "\n",
    "    try:    \n",
    "\n",
    "        discount = driver_flipkart1.find_element_by_xpath(\"//div[@class='_3Ay6Sb _31Dcoz pZkvcx']\")\n",
    "\n",
    "        discou.append(discount.text)\n",
    "\n",
    "    except NoSuchElementException:\n",
    "\n",
    "        discou.append(\"-\")\n",
    "\n",
    "\n",
    "\n",
    "\n",
    "\n",
    "# creating the dataframe\n",
    "\n",
    "sneakers = pd.DataFrame({\n",
    "\n",
    "            \"Company\": n,\n",
    "\n",
    "             \"Description\": discription,\n",
    "\n",
    "             \"Price\": pr,\n",
    "\n",
    "             \"Discount\":discou,\n",
    "\n",
    "        })\n",
    "\n",
    "sneakers"
   ]
  },
  {
   "cell_type": "markdown",
   "metadata": {},
   "source": [
    "## ANSWER TO QUESTION 9 OF WEB SCRAPING ASSIGNMENT 2:-"
   ]
  },
  {
   "cell_type": "code",
   "execution_count": 137,
   "metadata": {},
   "outputs": [],
   "source": [
    "myntra_driver = webdriver.Chrome('chromedriver.exe')"
   ]
  },
  {
   "cell_type": "code",
   "execution_count": 138,
   "metadata": {},
   "outputs": [],
   "source": [
    "url_myn = 'https://www.myntra.com/shoes'\n",
    "myntra_driver.get(url_myn)\n",
    "time.sleep(4)"
   ]
  },
  {
   "cell_type": "code",
   "execution_count": 139,
   "metadata": {},
   "outputs": [],
   "source": [
    "myntra_driver.find_element_by_xpath(\"//span[@data-colorhex='black']\").click()\n",
    "time.sleep(2)"
   ]
  },
  {
   "cell_type": "code",
   "execution_count": 140,
   "metadata": {},
   "outputs": [],
   "source": [
    "myntra_driver.find_element_by_xpath('//*[@id=\"mountRoot\"]/div/div[1]/main/div[3]/div[1]/section/div/div[5]/ul/li[2]/label').click()\n",
    "time.sleep(2)"
   ]
  },
  {
   "cell_type": "code",
   "execution_count": 141,
   "metadata": {},
   "outputs": [
    {
     "name": "stdout",
     "output_type": "stream",
     "text": [
      "50\n",
      "50\n",
      "50\n"
     ]
    }
   ],
   "source": [
    "shoe_brand=[]\n",
    "short_shoe_desc=[]\n",
    "shoe_price=[]\n",
    "\n",
    "\n",
    "shoe_brand_tags=myntra_driver.find_elements_by_xpath(\"//h3[@class='product-brand']\")\n",
    "for i in shoe_brand_tags:\n",
    "    shoe_brand.append(i.text)\n",
    "short_shoe_desc_tag=myntra_driver.find_elements_by_xpath(\"//h4[@class='product-product']\")\n",
    "for i in short_shoe_desc_tag:\n",
    "    short_shoe_desc.append(i.text)\n",
    "shoe_price_tag=myntra_driver.find_elements_by_xpath(\"//div[@class='product-price']\")\n",
    "for i in shoe_price_tag:\n",
    "    shoe_price.append(i.text.replace('Rs.',''))\n",
    "\n",
    "        \n",
    "print(len(shoe_brand))\n",
    "print(len(short_shoe_desc))\n",
    "print(len(shoe_price))\n"
   ]
  },
  {
   "cell_type": "code",
   "execution_count": 144,
   "metadata": {},
   "outputs": [],
   "source": [
    "myntra_driver.find_element_by_xpath(\"//li[@class='pagination-next']\").click()\n",
    "time.sleep(2)"
   ]
  },
  {
   "cell_type": "code",
   "execution_count": 145,
   "metadata": {},
   "outputs": [
    {
     "name": "stdout",
     "output_type": "stream",
     "text": [
      "100\n",
      "100\n",
      "100\n"
     ]
    }
   ],
   "source": [
    "shoe_brand_tags=myntra_driver.find_elements_by_xpath(\"//h3[@class='product-brand']\")\n",
    "for i in shoe_brand_tags:\n",
    "    shoe_brand.append(i.text)\n",
    "short_shoe_desc_tag=myntra_driver.find_elements_by_xpath(\"//h4[@class='product-product']\")\n",
    "for i in short_shoe_desc_tag:\n",
    "    short_shoe_desc.append(i.text)\n",
    "shoe_price_tag=myntra_driver.find_elements_by_xpath(\"//div[@class='product-price']\")\n",
    "for i in shoe_price_tag:\n",
    "    shoe_price.append(i.text.replace('Rs.',''))\n",
    "\n",
    "        \n",
    "print(len(shoe_brand))\n",
    "print(len(short_shoe_desc))\n",
    "print(len(shoe_price))"
   ]
  },
  {
   "cell_type": "code",
   "execution_count": 146,
   "metadata": {},
   "outputs": [
    {
     "name": "stdout",
     "output_type": "stream",
     "text": [
      "['7496', '11246', '11470', '12995', '12495', '7796', '7721', '12316', '10999', '7999', '7499', '8999', '8799', '11999', '7999', '10995', '6999', '8999', '7499', '6999', '7857', '7199', '9999', '9799', '7999', '7199', '6999', '6999', '12999', '6749', '8999', '8399', '8999', '7699', '7721', '10999', '6990', '7999', '9999', '8043', '11305', '9513', '8990', '7192', '9975', '7999', '7999', '11899', '9999', '11999', '11999', '6990', '6643', '9999', '7999', '9975', '10999', '7499', '6999', '6993', '6990', '6990', '6999', '7039', '7690', '8999', '9999', '7195', '9995', '6993', '6993', '7465', '7440', '6675', '7799', '8399', '8621', '8500', '8500', '6999', '8621', '9799', '9999', '7599', '8999', '8999', '6643', '6749', '7693', '7192', '8999', '11999', '7199', '9999', '8499', '7343', '12495', '6999', '7999', '6995']\n"
     ]
    }
   ],
   "source": [
    "Price_RS=[]\n",
    "for u in shoe_price:\n",
    "    r = u.split()\n",
    "    Price_RS.append(r[0])\n",
    "print(Price_RS)"
   ]
  },
  {
   "cell_type": "code",
   "execution_count": 147,
   "metadata": {},
   "outputs": [
    {
     "data": {
      "text/html": [
       "<div>\n",
       "<style scoped>\n",
       "    .dataframe tbody tr th:only-of-type {\n",
       "        vertical-align: middle;\n",
       "    }\n",
       "\n",
       "    .dataframe tbody tr th {\n",
       "        vertical-align: top;\n",
       "    }\n",
       "\n",
       "    .dataframe thead th {\n",
       "        text-align: right;\n",
       "    }\n",
       "</style>\n",
       "<table border=\"1\" class=\"dataframe\">\n",
       "  <thead>\n",
       "    <tr style=\"text-align: right;\">\n",
       "      <th></th>\n",
       "      <th>Brand_Name</th>\n",
       "      <th>Short_Shoe_Description</th>\n",
       "      <th>Price</th>\n",
       "    </tr>\n",
       "  </thead>\n",
       "  <tbody>\n",
       "    <tr>\n",
       "      <th>0</th>\n",
       "      <td>Nike</td>\n",
       "      <td>Women PEGASUS 37 Running Shoes</td>\n",
       "      <td>7496</td>\n",
       "    </tr>\n",
       "    <tr>\n",
       "      <th>1</th>\n",
       "      <td>Nike</td>\n",
       "      <td>Men JOYRIDE Running Shoes</td>\n",
       "      <td>11246</td>\n",
       "    </tr>\n",
       "    <tr>\n",
       "      <th>2</th>\n",
       "      <td>Nike</td>\n",
       "      <td>Unisex COSMIC UNITY Basketball</td>\n",
       "      <td>11470</td>\n",
       "    </tr>\n",
       "    <tr>\n",
       "      <th>3</th>\n",
       "      <td>Nike</td>\n",
       "      <td>Men KD13 EP Basketball Shoes</td>\n",
       "      <td>12995</td>\n",
       "    </tr>\n",
       "    <tr>\n",
       "      <th>4</th>\n",
       "      <td>Nike</td>\n",
       "      <td>Men JORDAN DELTA Basketball</td>\n",
       "      <td>12495</td>\n",
       "    </tr>\n",
       "    <tr>\n",
       "      <th>...</th>\n",
       "      <td>...</td>\n",
       "      <td>...</td>\n",
       "      <td>...</td>\n",
       "    </tr>\n",
       "    <tr>\n",
       "      <th>95</th>\n",
       "      <td>Geox</td>\n",
       "      <td>Men Leather Semiformal Driving</td>\n",
       "      <td>7343</td>\n",
       "    </tr>\n",
       "    <tr>\n",
       "      <th>96</th>\n",
       "      <td>Nike</td>\n",
       "      <td>Women AIR MAX VIVA Sneakers</td>\n",
       "      <td>12495</td>\n",
       "    </tr>\n",
       "    <tr>\n",
       "      <th>97</th>\n",
       "      <td>Teakwood Leathers</td>\n",
       "      <td>Men Solid Leather Loafers</td>\n",
       "      <td>6999</td>\n",
       "    </tr>\n",
       "    <tr>\n",
       "      <th>98</th>\n",
       "      <td>ASICS</td>\n",
       "      <td>Men Running Shoes</td>\n",
       "      <td>7999</td>\n",
       "    </tr>\n",
       "    <tr>\n",
       "      <th>99</th>\n",
       "      <td>Florsheim</td>\n",
       "      <td>Men Solid Leather Formal Loafers</td>\n",
       "      <td>6995</td>\n",
       "    </tr>\n",
       "  </tbody>\n",
       "</table>\n",
       "<p>100 rows × 3 columns</p>\n",
       "</div>"
      ],
      "text/plain": [
       "           Brand_Name            Short_Shoe_Description  Price\n",
       "0                Nike    Women PEGASUS 37 Running Shoes   7496\n",
       "1                Nike         Men JOYRIDE Running Shoes  11246\n",
       "2                Nike    Unisex COSMIC UNITY Basketball  11470\n",
       "3                Nike      Men KD13 EP Basketball Shoes  12995\n",
       "4                Nike       Men JORDAN DELTA Basketball  12495\n",
       "..                ...                               ...    ...\n",
       "95               Geox    Men Leather Semiformal Driving   7343\n",
       "96               Nike       Women AIR MAX VIVA Sneakers  12495\n",
       "97  Teakwood Leathers         Men Solid Leather Loafers   6999\n",
       "98              ASICS                 Men Running Shoes   7999\n",
       "99          Florsheim  Men Solid Leather Formal Loafers   6995\n",
       "\n",
       "[100 rows x 3 columns]"
      ]
     },
     "execution_count": 147,
     "metadata": {},
     "output_type": "execute_result"
    }
   ],
   "source": [
    "BRAND_NAME = pd.DataFrame(shoe_brand,columns=['Brand_Name'])\n",
    "BRAND_NAME\n",
    "SHORT_SHOE_DESCRIPTION = pd.DataFrame(short_shoe_desc,columns=['Short_Shoe_Description'])\n",
    "SHORT_SHOE_DESCRIPTION\n",
    "PRICE_OF_SHOES = pd.DataFrame(Price_RS,columns=['Price'])\n",
    "PRICE_OF_SHOES\n",
    "\n",
    "\n",
    "\n",
    "\n",
    "pd.set_option('display.max_colwidth', None)\n",
    "MYNTRA_SHOES_DATA = pd.concat([BRAND_NAME,SHORT_SHOE_DESCRIPTION,PRICE_OF_SHOES],axis=1)\n",
    "MYNTRA_SHOES_DATA"
   ]
  },
  {
   "cell_type": "markdown",
   "metadata": {},
   "source": [
    "## ANSWER TO QUESTION 10 OF WEB SCRAPING ASSIGNMENT 2:-"
   ]
  },
  {
   "cell_type": "code",
   "execution_count": 93,
   "metadata": {},
   "outputs": [],
   "source": [
    "from selenium.common.exceptions import StaleElementReferenceException"
   ]
  },
  {
   "cell_type": "code",
   "execution_count": 118,
   "metadata": {},
   "outputs": [],
   "source": [
    "amazon_driver= webdriver.Chrome('chromedriver.exe')"
   ]
  },
  {
   "cell_type": "code",
   "execution_count": 119,
   "metadata": {},
   "outputs": [],
   "source": [
    "amazon_url = 'https://www.amazon.in/'\n",
    "amazon_driver.get(amazon_url)\n",
    "time.sleep(4)"
   ]
  },
  {
   "cell_type": "code",
   "execution_count": 120,
   "metadata": {},
   "outputs": [],
   "source": [
    "amazon_driver.find_element_by_xpath('//input[@id=\"twotabsearchtextbox\"]').click()\n"
   ]
  },
  {
   "cell_type": "code",
   "execution_count": 121,
   "metadata": {},
   "outputs": [],
   "source": [
    "amazon_driver.find_element_by_xpath('//input[@id=\"twotabsearchtextbox\"]').send_keys('Laptop')"
   ]
  },
  {
   "cell_type": "code",
   "execution_count": 122,
   "metadata": {},
   "outputs": [],
   "source": [
    "amazon_driver.find_element_by_xpath('//input[@id=\"nav-search-submit-button\"]').click()"
   ]
  },
  {
   "cell_type": "code",
   "execution_count": 123,
   "metadata": {},
   "outputs": [],
   "source": [
    "amazon_driver.find_element_by_xpath('//*[@id=\"p_n_feature_thirteen_browse-bin/12598163031\"]/span/a/span').click()\n",
    "time.sleep(3)"
   ]
  },
  {
   "cell_type": "code",
   "execution_count": 110,
   "metadata": {},
   "outputs": [],
   "source": [
    "amazon_driver.find_element_by_xpath('//*[@id=\"p_n_feature_thirteen_browse-bin/16757432031\"]/span/a/span').click()\n",
    "time.sleep(3)"
   ]
  },
  {
   "cell_type": "markdown",
   "metadata": {},
   "source": [
    "CLICKING filters for INTEL I7 AND I9 THROUGH SELENIUM."
   ]
  },
  {
   "cell_type": "code",
   "execution_count": 113,
   "metadata": {},
   "outputs": [
    {
     "data": {
      "text/plain": [
       "24"
      ]
     },
     "execution_count": 113,
     "metadata": {},
     "output_type": "execute_result"
    }
   ],
   "source": [
    "a_urls=[]\n",
    "for i in amazon_driver.find_elements_by_xpath(\"//h2[@class='a-size-mini a-spacing-none a-color-base s-line-clamp-2']/a\"):\n",
    "        try:\n",
    "            a_urls.append(i.get_attribute('href'))\n",
    "        except NoSuchElementException:\n",
    "            a_urls.append('-')\n",
    "len(a_urls)"
   ]
  },
  {
   "cell_type": "code",
   "execution_count": 114,
   "metadata": {},
   "outputs": [
    {
     "data": {
      "text/plain": [
       "['https://www.amazon.in/Notebook-Horizon-i5-10210U-Graphics-XMA1904-AR/dp/B089F5JGM1/ref=sr_1_1?dchild=1&keywords=Laptop&qid=1623667782&refinements=p_n_feature_thirteen_browse-bin%3A12598163031%7C16757432031&rnid=12598141031&s=computers&sr=1-1',\n",
       " 'https://www.amazon.in/ASUS-GL504GM-ES155T-15-6-inch-i7-8750H-Graphics/dp/B0975SH4LC/ref=sr_1_2?dchild=1&keywords=Laptop&qid=1623667782&refinements=p_n_feature_thirteen_browse-bin%3A12598163031%7C16757432031&rnid=12598141031&s=computers&sr=1-2',\n",
       " 'https://www.amazon.in/HP-35-56cms-i7-1165G7-Windows-14s-dr2007TU/dp/B08N57LR4X/ref=sr_1_3?dchild=1&keywords=Laptop&qid=1623667782&refinements=p_n_feature_thirteen_browse-bin%3A12598163031%7C16757432031&rnid=12598141031&s=computers&sr=1-3',\n",
       " 'https://www.amazon.in/ASUS-Zephyrus-i7-10875H-RTX-2080-GX550LXS-HC145TS/dp/B08GQZZQY3/ref=sr_1_4?dchild=1&keywords=Laptop&qid=1623667782&refinements=p_n_feature_thirteen_browse-bin%3A12598163031%7C16757432031&rnid=12598141031&s=computers&sr=1-4',\n",
       " 'https://www.amazon.in/HP-Pavilion-Processor-15-6-inch-15-dk1509TX/dp/B08ZN7GBQ5/ref=sr_1_5?dchild=1&keywords=Laptop&qid=1623667782&refinements=p_n_feature_thirteen_browse-bin%3A12598163031%7C16757432031&rnid=12598141031&s=computers&sr=1-5',\n",
       " 'https://www.amazon.in/ASUS-Zephyrus-i7-10750H-Graphics-GU502LV-HC140T/dp/B08H2GG3WT/ref=sr_1_6?dchild=1&keywords=Laptop&qid=1623667782&refinements=p_n_feature_thirteen_browse-bin%3A12598163031%7C16757432031&rnid=12598141031&s=computers&sr=1-6',\n",
       " 'https://www.amazon.in/Dell-9570-15-6-inch-i9-8950HK-Integrated/dp/B08C5FMBLB/ref=sr_1_7?dchild=1&keywords=Laptop&qid=1623667782&refinements=p_n_feature_thirteen_browse-bin%3A12598163031%7C16757432031&rnid=12598141031&s=computers&sr=1-7',\n",
       " 'https://www.amazon.in/HP-Pavilion-Graphics-35-56cms-14-dv0058TU/dp/B08WB857GB/ref=sr_1_8?dchild=1&keywords=Laptop&qid=1623667782&refinements=p_n_feature_thirteen_browse-bin%3A12598163031%7C16757432031&rnid=12598141031&s=computers&sr=1-8',\n",
       " 'https://www.amazon.in/Lenovo-Legion-Gaming-Windows-82AW005SIN/dp/B08CQ21154/ref=sr_1_9?dchild=1&keywords=Laptop&qid=1623667782&refinements=p_n_feature_thirteen_browse-bin%3A12598163031%7C16757432031&rnid=12598141031&s=computers&sr=1-9',\n",
       " 'https://www.amazon.in/Dell-Alienware-m15-R3-15-6-inch/dp/B08BZR715W/ref=sr_1_10?dchild=1&keywords=Laptop&qid=1623667782&refinements=p_n_feature_thirteen_browse-bin%3A12598163031%7C16757432031&rnid=12598141031&s=computers&sr=1-10',\n",
       " 'https://www.amazon.in/ASUS-ZenBook-i7-1165G7-Graphics-UX425EA-BM701TS/dp/B08M4SWRR5/ref=sr_1_11?dchild=1&keywords=Laptop&qid=1623667782&refinements=p_n_feature_thirteen_browse-bin%3A12598163031%7C16757432031&rnid=12598141031&s=computers&sr=1-11',\n",
       " 'https://www.amazon.in/Lenovo-Upgradable-Integrated-Graphics-WARRANTY/dp/B092Z9G6S5/ref=sr_1_12?dchild=1&keywords=Laptop&qid=1623667782&refinements=p_n_feature_thirteen_browse-bin%3A12598163031%7C16757432031&rnid=12598141031&s=computers&sr=1-12',\n",
       " 'https://www.amazon.in/LifeDigital-Laptop-Intel%C2%AE-Storage-Windows/dp/B08HRMHZ8J/ref=sr_1_13?dchild=1&keywords=Laptop&qid=1623667782&refinements=p_n_feature_thirteen_browse-bin%3A12598163031%7C16757432031&rnid=12598141031&s=computers&sr=1-13',\n",
       " 'https://www.amazon.in/Lenovo-Upgradable-Integrated-Graphics-WARRANTY/dp/B092Z9TGBP/ref=sr_1_14?dchild=1&keywords=Laptop&qid=1623667782&refinements=p_n_feature_thirteen_browse-bin%3A12598163031%7C16757432031&rnid=12598141031&s=computers&sr=1-14',\n",
       " 'https://www.amazon.in/ASUS-VivoBook-i7-1165G7-Graphics-S433EA-AM701TS/dp/B08PQTZB3Z/ref=sr_1_15?dchild=1&keywords=Laptop&qid=1623667782&refinements=p_n_feature_thirteen_browse-bin%3A12598163031%7C16757432031&rnid=12598141031&s=computers&sr=1-15',\n",
       " 'https://www.amazon.in/Renewed-Lenovo-Integrated-Graphics-WARRANTY/dp/B092Z9PXWT/ref=sr_1_16?dchild=1&keywords=Laptop&qid=1623667782&refinements=p_n_feature_thirteen_browse-bin%3A12598163031%7C16757432031&rnid=12598141031&s=computers&sr=1-16',\n",
       " 'https://www.amazon.in/Renewed-Dell-1366x768-Graphics-Latitude/dp/B08RSPBM7C/ref=sr_1_17?dchild=1&keywords=Laptop&qid=1623667782&refinements=p_n_feature_thirteen_browse-bin%3A12598163031%7C16757432031&rnid=12598141031&s=computers&sr=1-17',\n",
       " 'https://www.amazon.in/Nexstgo-NP15N1IN008P-15-6-inch-i7-8550U-Integrated/dp/B07KGP3HP3/ref=sr_1_18?dchild=1&keywords=Laptop&qid=1623667782&refinements=p_n_feature_thirteen_browse-bin%3A12598163031%7C16757432031&rnid=12598141031&s=computers&sr=1-18',\n",
       " 'https://www.amazon.in/Dell-Latitude-E6420-Dedicated-Professional/dp/B07WVC8HW3/ref=sr_1_19?dchild=1&keywords=Laptop&qid=1623667782&refinements=p_n_feature_thirteen_browse-bin%3A12598163031%7C16757432031&rnid=12598141031&s=computers&sr=1-19',\n",
       " 'https://www.amazon.in/HP-Pavilion-Touchscreen-Convertible-14-dw1040TU/dp/B08R843NHL/ref=sr_1_20?dchild=1&keywords=Laptop&qid=1623667782&refinements=p_n_feature_thirteen_browse-bin%3A12598163031%7C16757432031&rnid=12598141031&s=computers&sr=1-20',\n",
       " 'https://www.amazon.in/HP-Convertible-Touchscreen-13-3-inch-13-bd0063TU/dp/B08NDMSMPS/ref=sr_1_21?dchild=1&keywords=Laptop&qid=1623667782&refinements=p_n_feature_thirteen_browse-bin%3A12598163031%7C16757432031&rnid=12598141031&s=computers&sr=1-21',\n",
       " 'https://www.amazon.in/ASUS-15-6-inch-i9-11900H-RTX-3060-FX566HM-HN097TS/dp/B096KX64T3/ref=sr_1_22?dchild=1&keywords=Laptop&qid=1623667782&refinements=p_n_feature_thirteen_browse-bin%3A12598163031%7C16757432031&rnid=12598141031&s=computers&sr=1-22',\n",
       " 'https://www.amazon.in/Dell-15-6-inch-i7-10750H-NVIDIA1650-D560260WIN9BE/dp/B08H9PTSYR/ref=sr_1_23?dchild=1&keywords=Laptop&qid=1623667782&refinements=p_n_feature_thirteen_browse-bin%3A12598163031%7C16757432031&rnid=12598141031&s=computers&sr=1-23',\n",
       " 'https://www.amazon.in/Lenovo-Ideapad-Graphics-Graphite-82FG0117IN/dp/B092MV9ZF6/ref=sr_1_24?dchild=1&keywords=Laptop&qid=1623667782&refinements=p_n_feature_thirteen_browse-bin%3A12598163031%7C16757432031&rnid=12598141031&s=computers&sr=1-24']"
      ]
     },
     "execution_count": 114,
     "metadata": {},
     "output_type": "execute_result"
    }
   ],
   "source": [
    "a_urls"
   ]
  },
  {
   "cell_type": "code",
   "execution_count": 115,
   "metadata": {
    "scrolled": true
   },
   "outputs": [
    {
     "name": "stdout",
     "output_type": "stream",
     "text": [
      "10\n",
      "10\n",
      "10\n"
     ]
    }
   ],
   "source": [
    "laptop_titles=[]\n",
    "laptop_rating=[]\n",
    "laptop_price = []\n",
    "\n",
    "\n",
    "for y in a_urls[:10]:\n",
    "    amazon_driver.get(y)\n",
    "    time.sleep(3)\n",
    "    \n",
    "    try:\n",
    "        product_l=amazon_driver.find_element_by_xpath(\"//span[@class='a-size-large product-title-word-break']\")\n",
    "        laptop_titles.append(product_l.text)\n",
    "    except NoSuchElementException:\n",
    "        laptop_titles.append('-')\n",
    "        \n",
    "    try:\n",
    "        price_l=amazon_driver.find_element_by_xpath(\"//span[@class='a-size-medium a-color-price priceBlockBuyingPriceString']\")\n",
    "        laptop_price.append(price_l.text)\n",
    "    except NoSuchElementException:\n",
    "        laptop_price.append('-')\n",
    "        \n",
    "    try:\n",
    "        rating_tag=amazon_driver.find_element_by_xpath(\"//span[@data-hook='rating-out-of-text']\")\n",
    "        laptop_rating.append(rating_tag.text)\n",
    "    except NoSuchElementException:\n",
    "        laptop_rating.append('-')\n",
    "        \n",
    "\n",
    "\n",
    "\n",
    "\n",
    "print(len(laptop_titles))\n",
    "print(len(laptop_price))\n",
    "print(len(laptop_rating))"
   ]
  },
  {
   "cell_type": "code",
   "execution_count": 117,
   "metadata": {},
   "outputs": [
    {
     "data": {
      "text/html": [
       "<div>\n",
       "<style scoped>\n",
       "    .dataframe tbody tr th:only-of-type {\n",
       "        vertical-align: middle;\n",
       "    }\n",
       "\n",
       "    .dataframe tbody tr th {\n",
       "        vertical-align: top;\n",
       "    }\n",
       "\n",
       "    .dataframe thead th {\n",
       "        text-align: right;\n",
       "    }\n",
       "</style>\n",
       "<table border=\"1\" class=\"dataframe\">\n",
       "  <thead>\n",
       "    <tr style=\"text-align: right;\">\n",
       "      <th></th>\n",
       "      <th>Laptop_Brand_Name</th>\n",
       "      <th>Price</th>\n",
       "      <th>Laptop_Rating</th>\n",
       "    </tr>\n",
       "  </thead>\n",
       "  <tbody>\n",
       "    <tr>\n",
       "      <th>0</th>\n",
       "      <td>Mi Notebook Horizon Edition 14 Intel Core i5-10210U 10th Gen 14-inch (35.56 cms) Thin and Light Laptop(8GB/512GB SSD/Windows 10/Nvidia MX350 2GB Graphics/Grey/1.35Kg), XMA1904-AR+Webcam</td>\n",
       "      <td>₹ 54,999.00</td>\n",
       "      <td>4.4 out of 5</td>\n",
       "    </tr>\n",
       "    <tr>\n",
       "      <th>1</th>\n",
       "      <td>(Renewed) ASUS ROG Strix Scar II GL504GM-ES155T 15.6-inch FHD Gaming Laptop (8th Gen Intel Core i7-8750H/16GB/1TB SSHD + 256GB SSD/Windows 10/GTX 1060 6GB Graphics/2.40 Kg), Scar Gunmatel</td>\n",
       "      <td>₹ 1,46,192.00</td>\n",
       "      <td>-</td>\n",
       "    </tr>\n",
       "    <tr>\n",
       "      <th>2</th>\n",
       "      <td>HP 14 Thin &amp; Light 14\" (35.56cms) FHD Laptop (11th Gen Intel i7-1165G7/8GB/512GB SSD/Windows 10/MS Office 2019/Alexa Built-in/Pale Gold/1.47 kg), 14s-dr2007TU</td>\n",
       "      <td>₹ 89,990.00</td>\n",
       "      <td>4.7 out of 5</td>\n",
       "    </tr>\n",
       "    <tr>\n",
       "      <th>3</th>\n",
       "      <td>ASUS ROG Zephyrus Duo 15, 15.6\" 4K UHD, Intel Core i7-10875H 10th Gen, RTX 2080 Super Max-Q 8GB Graphics, Gaming Laptop (32GB/2TB RAID 0 SSD/Windows 10/MS Office/Gray/2.48 Kg) GX550LXS-HC145TS</td>\n",
       "      <td>₹ 2,69,990.00</td>\n",
       "      <td>3.8 out of 5</td>\n",
       "    </tr>\n",
       "    <tr>\n",
       "      <th>4</th>\n",
       "      <td>HP Pavilion Gaming 10th Gen Intel Core i7 Processor 15.6-inch FHD Gaming Laptop (16GB/512GB SSD + 32GB Intel Optane/Windows 10/NVIDIA 1650Ti 4GB/Shadow Black), 15-dk1509TX</td>\n",
       "      <td>₹ 86,990.00</td>\n",
       "      <td>4.1 out of 5</td>\n",
       "    </tr>\n",
       "    <tr>\n",
       "      <th>5</th>\n",
       "      <td>ASUS ROG Zephyrus M15 (2020), 15.6\" 4K UHD, Intel Core i7-10750H 10th Gen, RTX 2060 GDDR6 6GB Graphics, Gaming Laptop (16GB RAM/1TB NVMe SSD/Windows 10/Prism Black/1.9 Kg), GU502LV-HC140T</td>\n",
       "      <td>₹ 1,40,900.00</td>\n",
       "      <td>3.2 out of 5</td>\n",
       "    </tr>\n",
       "    <tr>\n",
       "      <th>6</th>\n",
       "      <td>Dell XPS 9570 15.6\" (39.62cms) UHD Laptop (8th Gen i9-8950HK/32GB/1TB SSD/Win 10 + MS Office/Integrated Graphics), Silver</td>\n",
       "      <td>₹ 1,92,492.00</td>\n",
       "      <td>2.3 out of 5</td>\n",
       "    </tr>\n",
       "    <tr>\n",
       "      <th>7</th>\n",
       "      <td>HP Pavilion (2021) Thin &amp; Light 11th Gen Core i7 Laptop, 16 GB RAM, 1TB SSD, Iris Xe Graphics, 14\" (35.56cms) FHD Screen, Windows 10, MS Office, Backlit Keyboard (14-dv0058TU)</td>\n",
       "      <td>₹ 84,990.00</td>\n",
       "      <td>4.5 out of 5</td>\n",
       "    </tr>\n",
       "    <tr>\n",
       "      <th>8</th>\n",
       "      <td>Lenovo Legion 5Pi 10th Gen Intel Core i7 15.6\" FHD Gaming Laptop (16GB/1TB SSD/Windows 10/MS Office 2019/144 Hz/NVIDIA RTX 2060 6GB GDDR6/with M300 RGB Gaming Mouse/Iron Grey/2.3Kg), 82AW005SIN</td>\n",
       "      <td>-</td>\n",
       "      <td>4.4 out of 5</td>\n",
       "    </tr>\n",
       "    <tr>\n",
       "      <th>9</th>\n",
       "      <td>Dell Alienware m15(R3) 15.6-inch FHD Gaming Laptop (10th Gen Core i7-10750H/16GB/512GB SSD/Windows 10 Home &amp; MS Office/6GB NVIDIA GTX 1660 Ti Graphics), Lunar Light</td>\n",
       "      <td>₹ 1,74,990.00</td>\n",
       "      <td>3.1 out of 5</td>\n",
       "    </tr>\n",
       "  </tbody>\n",
       "</table>\n",
       "</div>"
      ],
      "text/plain": [
       "                                                                                                                                                                                   Laptop_Brand_Name  \\\n",
       "0          Mi Notebook Horizon Edition 14 Intel Core i5-10210U 10th Gen 14-inch (35.56 cms) Thin and Light Laptop(8GB/512GB SSD/Windows 10/Nvidia MX350 2GB Graphics/Grey/1.35Kg), XMA1904-AR+Webcam   \n",
       "1        (Renewed) ASUS ROG Strix Scar II GL504GM-ES155T 15.6-inch FHD Gaming Laptop (8th Gen Intel Core i7-8750H/16GB/1TB SSHD + 256GB SSD/Windows 10/GTX 1060 6GB Graphics/2.40 Kg), Scar Gunmatel   \n",
       "2                                     HP 14 Thin & Light 14\" (35.56cms) FHD Laptop (11th Gen Intel i7-1165G7/8GB/512GB SSD/Windows 10/MS Office 2019/Alexa Built-in/Pale Gold/1.47 kg), 14s-dr2007TU   \n",
       "3   ASUS ROG Zephyrus Duo 15, 15.6\" 4K UHD, Intel Core i7-10875H 10th Gen, RTX 2080 Super Max-Q 8GB Graphics, Gaming Laptop (32GB/2TB RAID 0 SSD/Windows 10/MS Office/Gray/2.48 Kg) GX550LXS-HC145TS   \n",
       "4                        HP Pavilion Gaming 10th Gen Intel Core i7 Processor 15.6-inch FHD Gaming Laptop (16GB/512GB SSD + 32GB Intel Optane/Windows 10/NVIDIA 1650Ti 4GB/Shadow Black), 15-dk1509TX   \n",
       "5        ASUS ROG Zephyrus M15 (2020), 15.6\" 4K UHD, Intel Core i7-10750H 10th Gen, RTX 2060 GDDR6 6GB Graphics, Gaming Laptop (16GB RAM/1TB NVMe SSD/Windows 10/Prism Black/1.9 Kg), GU502LV-HC140T   \n",
       "6                                                                          Dell XPS 9570 15.6\" (39.62cms) UHD Laptop (8th Gen i9-8950HK/32GB/1TB SSD/Win 10 + MS Office/Integrated Graphics), Silver   \n",
       "7                    HP Pavilion (2021) Thin & Light 11th Gen Core i7 Laptop, 16 GB RAM, 1TB SSD, Iris Xe Graphics, 14\" (35.56cms) FHD Screen, Windows 10, MS Office, Backlit Keyboard (14-dv0058TU)   \n",
       "8  Lenovo Legion 5Pi 10th Gen Intel Core i7 15.6\" FHD Gaming Laptop (16GB/1TB SSD/Windows 10/MS Office 2019/144 Hz/NVIDIA RTX 2060 6GB GDDR6/with M300 RGB Gaming Mouse/Iron Grey/2.3Kg), 82AW005SIN   \n",
       "9                               Dell Alienware m15(R3) 15.6-inch FHD Gaming Laptop (10th Gen Core i7-10750H/16GB/512GB SSD/Windows 10 Home & MS Office/6GB NVIDIA GTX 1660 Ti Graphics), Lunar Light   \n",
       "\n",
       "           Price Laptop_Rating  \n",
       "0    ₹ 54,999.00  4.4 out of 5  \n",
       "1  ₹ 1,46,192.00             -  \n",
       "2    ₹ 89,990.00  4.7 out of 5  \n",
       "3  ₹ 2,69,990.00  3.8 out of 5  \n",
       "4    ₹ 86,990.00  4.1 out of 5  \n",
       "5  ₹ 1,40,900.00  3.2 out of 5  \n",
       "6  ₹ 1,92,492.00  2.3 out of 5  \n",
       "7    ₹ 84,990.00  4.5 out of 5  \n",
       "8              -  4.4 out of 5  \n",
       "9  ₹ 1,74,990.00  3.1 out of 5  "
      ]
     },
     "execution_count": 117,
     "metadata": {},
     "output_type": "execute_result"
    }
   ],
   "source": [
    "#creating a dataframe of laptop data\n",
    "LAPTOP_BRAND_NAME = pd.DataFrame(laptop_titles,columns=['Laptop_Brand_Name'])\n",
    "LAPTOP_BRAND_NAME\n",
    "LAPTOP_RATING=pd.DataFrame(laptop_rating,columns=['Laptop_Rating'])\n",
    "PRICE_OF_LAPTOP = pd.DataFrame(laptop_price,columns=['Price'])\n",
    "PRICE_OF_LAPTOP\n",
    "\n",
    "\n",
    "\n",
    "\n",
    "pd.set_option('display.max_colwidth', None)\n",
    "AMAZON_LAPTOP_DATA = pd.concat([LAPTOP_BRAND_NAME,PRICE_OF_LAPTOP,LAPTOP_RATING],axis=1)\n",
    "AMAZON_LAPTOP_DATA"
   ]
  },
  {
   "cell_type": "code",
   "execution_count": null,
   "metadata": {},
   "outputs": [],
   "source": []
  }
 ],
 "metadata": {
  "kernelspec": {
   "display_name": "Python 3",
   "language": "python",
   "name": "python3"
  },
  "language_info": {
   "codemirror_mode": {
    "name": "ipython",
    "version": 3
   },
   "file_extension": ".py",
   "mimetype": "text/x-python",
   "name": "python",
   "nbconvert_exporter": "python",
   "pygments_lexer": "ipython3",
   "version": "3.8.5"
  }
 },
 "nbformat": 4,
 "nbformat_minor": 4
}
